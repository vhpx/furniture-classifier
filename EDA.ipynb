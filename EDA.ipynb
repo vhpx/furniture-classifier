{
 "cells": [
  {
   "cell_type": "markdown",
   "metadata": {},
   "source": [
    "# Import necessary packages and libraries"
   ]
  },
  {
   "cell_type": "code",
   "execution_count": 1,
   "metadata": {},
   "outputs": [],
   "source": [
    "import pandas as pd\n",
    "import numpy as np\n",
    "import matplotlib.pyplot as plt \n",
    "import tensorflow as tf\n",
    "from PIL import Image\n",
    "from PIL import ImageFile\n",
    "import os, sys\n",
    "\n",
    "# Load personalize utils\n",
    "from utils import image_process"
   ]
  },
  {
   "cell_type": "markdown",
   "metadata": {},
   "source": [
    "# Get a general view of the dataset"
   ]
  },
  {
   "cell_type": "code",
   "execution_count": 2,
   "metadata": {},
   "outputs": [
    {
     "name": "stdout",
     "output_type": "stream",
     "text": [
      "Found 90082 files belonging to 6 classes.\n"
     ]
    }
   ],
   "source": [
    "data = tf.keras.utils.image_dataset_from_directory('Furniture_Data')"
   ]
  },
  {
   "cell_type": "markdown",
   "metadata": {},
   "source": [
    "# Extract image paths into different categories base on its type"
   ]
  },
  {
   "cell_type": "code",
   "execution_count": 3,
   "metadata": {},
   "outputs": [
    {
     "name": "stdout",
     "output_type": "stream",
     "text": [
      "Successfully extract all paths!\n"
     ]
    }
   ],
   "source": [
    "#extracting paths from each of the category\n",
    "beds_path = image_process.image_path('beds')\n",
    "chairs_path = image_process.image_path('chairs')\n",
    "dressers_path = image_process.image_path('dressers')\n",
    "lamps_path = image_process.image_path('lamps')\n",
    "sofas_path = image_process.image_path('sofas')\n",
    "tables_path = image_process.image_path('tables')\n",
    "\n",
    "print(\"Successfully extract all paths!\")\n"
   ]
  },
  {
   "cell_type": "markdown",
   "metadata": {},
   "source": [
    "# EDA"
   ]
  },
  {
   "cell_type": "markdown",
   "metadata": {},
   "source": [
    "## Get the total amount of images in different categories before checking for duplicants"
   ]
  },
  {
   "cell_type": "code",
   "execution_count": 4,
   "metadata": {},
   "outputs": [
    {
     "name": "stdout",
     "output_type": "stream",
     "text": [
      "Amount of bed:  6578\n",
      "Amount of chair:  22053\n",
      "Amount of dresser:  7871\n",
      "Amount of lamp:  32401\n",
      "Amount of sofa:  4080\n",
      "Amount of table:  17100\n",
      "Total:  90083\n"
     ]
    }
   ],
   "source": [
    "print(\"Amount of bed: \",len(beds_path))\n",
    "print(\"Amount of chair: \",len(chairs_path))\n",
    "print(\"Amount of dresser: \",len(dressers_path))\n",
    "print(\"Amount of lamp: \",len(lamps_path))\n",
    "print(\"Amount of sofa: \",len(sofas_path))\n",
    "print(\"Amount of table: \",len(tables_path))\n",
    "print(\"Total: \", len(beds_path)+len(chairs_path)+len(dressers_path)+len(lamps_path)+len(sofas_path)+len(tables_path))"
   ]
  },
  {
   "cell_type": "markdown",
   "metadata": {},
   "source": [
    "Visualization"
   ]
  },
  {
   "cell_type": "markdown",
   "metadata": {},
   "source": [
    "## Get duplicate images from each categories"
   ]
  },
  {
   "cell_type": "markdown",
   "metadata": {},
   "source": [
    "### Check duplicants and remove duplicants from each categories"
   ]
  },
  {
   "cell_type": "code",
   "execution_count": 28,
   "metadata": {},
   "outputs": [
    {
     "name": "stdout",
     "output_type": "stream",
     "text": [
      "Bed\n",
      "Number of duplicants:  22\n",
      "Duplicants has been removed!\n",
      "Chair\n"
     ]
    },
    {
     "ename": "KeyboardInterrupt",
     "evalue": "",
     "output_type": "error",
     "traceback": [
      "\u001b[1;31m---------------------------------------------------------------------------\u001b[0m",
      "\u001b[1;31mKeyboardInterrupt\u001b[0m                         Traceback (most recent call last)",
      "Cell \u001b[1;32mIn[28], line 5\u001b[0m\n\u001b[0;32m      3\u001b[0m image_process\u001b[38;5;241m.\u001b[39mimg_dupChecks(beds_path)\n\u001b[0;32m      4\u001b[0m \u001b[38;5;28mprint\u001b[39m(\u001b[38;5;124m\"\u001b[39m\u001b[38;5;124mChair\u001b[39m\u001b[38;5;124m\"\u001b[39m)\n\u001b[1;32m----> 5\u001b[0m \u001b[43mimage_process\u001b[49m\u001b[38;5;241;43m.\u001b[39;49m\u001b[43mimg_dupChecks\u001b[49m\u001b[43m(\u001b[49m\u001b[43mchairs_path\u001b[49m\u001b[43m)\u001b[49m\n\u001b[0;32m      6\u001b[0m \u001b[38;5;28mprint\u001b[39m(\u001b[38;5;124m\"\u001b[39m\u001b[38;5;124mDresser\u001b[39m\u001b[38;5;124m\"\u001b[39m)\n\u001b[0;32m      7\u001b[0m image_process\u001b[38;5;241m.\u001b[39mimg_dupChecks(dressers_path)\n",
      "File \u001b[1;32mg:\\Assignment2\\furniture-classifier\\furniture-classifier\\utils\\image_process.py:101\u001b[0m, in \u001b[0;36mimg_dupChecks\u001b[1;34m(lists)\u001b[0m\n\u001b[0;32m     99\u001b[0m \u001b[38;5;28;01mdef\u001b[39;00m \u001b[38;5;21mimg_dupChecks\u001b[39m(lists):\n\u001b[0;32m    100\u001b[0m     count \u001b[38;5;241m=\u001b[39m \u001b[38;5;241m0\u001b[39m\n\u001b[1;32m--> 101\u001b[0m     dupli \u001b[38;5;241m=\u001b[39m \u001b[43mimage_duplicate\u001b[49m\u001b[43m(\u001b[49m\u001b[43mlists\u001b[49m\u001b[43m)\u001b[49m\n\u001b[0;32m    102\u001b[0m     \u001b[38;5;28;01mfor\u001b[39;00m item \u001b[38;5;129;01min\u001b[39;00m dupli:\n\u001b[0;32m    103\u001b[0m         count \u001b[38;5;241m+\u001b[39m\u001b[38;5;241m=\u001b[39m\u001b[38;5;241m1\u001b[39m\n",
      "File \u001b[1;32mg:\\Assignment2\\furniture-classifier\\furniture-classifier\\utils\\image_process.py:52\u001b[0m, in \u001b[0;36mimage_duplicate\u001b[1;34m(image_files)\u001b[0m\n\u001b[0;32m     48\u001b[0m duplicates \u001b[38;5;241m=\u001b[39m {}\n\u001b[0;32m     51\u001b[0m \u001b[38;5;28;01mfor\u001b[39;00m image_file \u001b[38;5;129;01min\u001b[39;00m image_files:\n\u001b[1;32m---> 52\u001b[0m     hash_value \u001b[38;5;241m=\u001b[39m \u001b[43mcompute_hash\u001b[49m\u001b[43m(\u001b[49m\u001b[43mimage_file\u001b[49m\u001b[43m)\u001b[49m\n\u001b[0;32m     53\u001b[0m     \u001b[38;5;28;01mif\u001b[39;00m hash_value \u001b[38;5;129;01min\u001b[39;00m hashes:\n\u001b[0;32m     54\u001b[0m         original_file \u001b[38;5;241m=\u001b[39m hashes[hash_value]\n",
      "File \u001b[1;32mg:\\Assignment2\\furniture-classifier\\furniture-classifier\\utils\\image_process.py:40\u001b[0m, in \u001b[0;36mcompute_hash\u001b[1;34m(image_path)\u001b[0m\n\u001b[0;32m     39\u001b[0m \u001b[38;5;28;01mdef\u001b[39;00m \u001b[38;5;21mcompute_hash\u001b[39m(image_path):\n\u001b[1;32m---> 40\u001b[0m     \u001b[38;5;28;01mwith\u001b[39;00m \u001b[43mImage\u001b[49m\u001b[38;5;241;43m.\u001b[39;49m\u001b[43mopen\u001b[49m\u001b[43m(\u001b[49m\u001b[43mimage_path\u001b[49m\u001b[43m)\u001b[49m \u001b[38;5;28;01mas\u001b[39;00m img:\n\u001b[0;32m     41\u001b[0m         hash_value \u001b[38;5;241m=\u001b[39m imagehash\u001b[38;5;241m.\u001b[39maverage_hash(img)\n\u001b[0;32m     42\u001b[0m     \u001b[38;5;28;01mreturn\u001b[39;00m hash_value\n",
      "File \u001b[1;32mc:\\Users\\thaih\\.conda\\envs\\Assignment2\\lib\\site-packages\\PIL\\Image.py:3274\u001b[0m, in \u001b[0;36mopen\u001b[1;34m(fp, mode, formats)\u001b[0m\n\u001b[0;32m   3272\u001b[0m filename: \u001b[38;5;28mstr\u001b[39m \u001b[38;5;241m|\u001b[39m \u001b[38;5;28mbytes\u001b[39m \u001b[38;5;241m=\u001b[39m \u001b[38;5;124m\"\u001b[39m\u001b[38;5;124m\"\u001b[39m\n\u001b[0;32m   3273\u001b[0m \u001b[38;5;28;01mif\u001b[39;00m is_path(fp):\n\u001b[1;32m-> 3274\u001b[0m     filename \u001b[38;5;241m=\u001b[39m \u001b[43mos\u001b[49m\u001b[38;5;241;43m.\u001b[39;49m\u001b[43mpath\u001b[49m\u001b[38;5;241;43m.\u001b[39;49m\u001b[43mrealpath\u001b[49m\u001b[43m(\u001b[49m\u001b[43mos\u001b[49m\u001b[38;5;241;43m.\u001b[39;49m\u001b[43mfspath\u001b[49m\u001b[43m(\u001b[49m\u001b[43mfp\u001b[49m\u001b[43m)\u001b[49m\u001b[43m)\u001b[49m\n\u001b[0;32m   3276\u001b[0m \u001b[38;5;28;01mif\u001b[39;00m filename:\n\u001b[0;32m   3277\u001b[0m     fp \u001b[38;5;241m=\u001b[39m builtins\u001b[38;5;241m.\u001b[39mopen(filename, \u001b[38;5;124m\"\u001b[39m\u001b[38;5;124mrb\u001b[39m\u001b[38;5;124m\"\u001b[39m)\n",
      "File \u001b[1;32mc:\\Users\\thaih\\.conda\\envs\\Assignment2\\lib\\ntpath.py:708\u001b[0m, in \u001b[0;36mrealpath\u001b[1;34m(path, strict)\u001b[0m\n\u001b[0;32m    706\u001b[0m \u001b[38;5;66;03m# Ensure that the non-prefixed path resolves to the same path\u001b[39;00m\n\u001b[0;32m    707\u001b[0m \u001b[38;5;28;01mtry\u001b[39;00m:\n\u001b[1;32m--> 708\u001b[0m     \u001b[38;5;28;01mif\u001b[39;00m \u001b[43m_getfinalpathname\u001b[49m\u001b[43m(\u001b[49m\u001b[43mspath\u001b[49m\u001b[43m)\u001b[49m \u001b[38;5;241m==\u001b[39m path:\n\u001b[0;32m    709\u001b[0m         path \u001b[38;5;241m=\u001b[39m spath\n\u001b[0;32m    710\u001b[0m \u001b[38;5;28;01mexcept\u001b[39;00m \u001b[38;5;167;01mOSError\u001b[39;00m \u001b[38;5;28;01mas\u001b[39;00m ex:\n\u001b[0;32m    711\u001b[0m     \u001b[38;5;66;03m# If the path does not exist and originally did not exist, then\u001b[39;00m\n\u001b[0;32m    712\u001b[0m     \u001b[38;5;66;03m# strip the prefix anyway.\u001b[39;00m\n",
      "\u001b[1;31mKeyboardInterrupt\u001b[0m: "
     ]
    }
   ],
   "source": [
    "# Get the amount of duplicants and then remove it from the dataset\n",
    "print(\"Bed\")\n",
    "image_process.img_dupChecks(beds_path)\n",
    "print(\"Chair\")\n",
    "image_process.img_dupChecks(chairs_path)\n",
    "print(\"Dresser\")\n",
    "image_process.img_dupChecks(dressers_path)\n",
    "print(\"Sofa\")\n",
    "image_process.img_dupChecks(sofas_path)\n",
    "\n",
    "\n"
   ]
  },
  {
   "cell_type": "code",
   "execution_count": 6,
   "metadata": {},
   "outputs": [
    {
     "name": "stdout",
     "output_type": "stream",
     "text": [
      "Lamp\n",
      "Number of duplicants:  6241\n",
      "Duplicants has been removed!\n",
      "Table\n",
      "Number of duplicants:  1051\n",
      "Duplicants has been removed!\n"
     ]
    }
   ],
   "source": [
    "print(\"Lamp\")\n",
    "image_process.img_dupChecks(lamps_path)\n",
    "print(\"Table\")\n",
    "image_process.img_dupChecks(tables_path)"
   ]
  },
  {
   "cell_type": "markdown",
   "metadata": {},
   "source": [
    "### Recheck the categories after removing duplicants"
   ]
  },
  {
   "cell_type": "code",
   "execution_count": 7,
   "metadata": {},
   "outputs": [
    {
     "name": "stdout",
     "output_type": "stream",
     "text": [
      "Amount of bed:  6130\n",
      "Amount of chair:  19205\n",
      "Amount of dresser:  5912\n",
      "Amount of lamp:  19908\n",
      "Amount of sofa:  3149\n",
      "Amount of table:  15442\n",
      "Total:  69746\n"
     ]
    }
   ],
   "source": [
    "print(\"Amount of bed: \",len(beds_path))\n",
    "print(\"Amount of chair: \",len(chairs_path))\n",
    "print(\"Amount of dresser: \",len(dressers_path))\n",
    "print(\"Amount of lamp: \",len(lamps_path))\n",
    "print(\"Amount of sofa: \",len(sofas_path))\n",
    "print(\"Amount of table: \",len(tables_path))\n",
    "print(\"Total: \", len(beds_path)+len(chairs_path)+len(dressers_path)+len(lamps_path)+len(sofas_path)+len(tables_path))"
   ]
  },
  {
   "cell_type": "markdown",
   "metadata": {},
   "source": [
    "Visualization"
   ]
  },
  {
   "cell_type": "markdown",
   "metadata": {},
   "source": [
    "## Get different amount of image size of each category"
   ]
  },
  {
   "cell_type": "code",
   "execution_count": 8,
   "metadata": {},
   "outputs": [
    {
     "name": "stdout",
     "output_type": "stream",
     "text": [
      "Beds\n",
      "224x224 pixels:  6097\n",
      "350x350 pixels:  33\n",
      "Other size:  0\n",
      "Chairs\n",
      "224x224 pixels:  0\n",
      "350x350 pixels:  19205\n",
      "Other size:  0\n",
      "Dressers\n",
      "224x224 pixels:  0\n",
      "350x350 pixels:  5912\n",
      "Other size:  0\n",
      "Lamps\n",
      "224x224 pixels:  0\n",
      "350x350 pixels:  19908\n",
      "Other size:  0\n",
      "sofas\n",
      "224x224 pixels:  0\n",
      "350x350 pixels:  3149\n",
      "Other size:  0\n",
      "Tables\n",
      "224x224 pixels:  0\n",
      "350x350 pixels:  15441\n",
      "Other size:  1\n"
     ]
    }
   ],
   "source": [
    "print(\"Beds\")\n",
    "image_process.imgSizeList(beds_path)\n",
    "print(\"Chairs\")\n",
    "image_process.imgSizeList(chairs_path)\n",
    "print(\"Dressers\")\n",
    "image_process.imgSizeList(dressers_path)\n",
    "print(\"Lamps\")\n",
    "image_process.imgSizeList(lamps_path)\n",
    "print(\"sofas\")\n",
    "image_process.imgSizeList(sofas_path)\n",
    "print(\"Tables\")\n",
    "image_process.imgSizeList(tables_path)\n",
    "\n",
    "\n"
   ]
  },
  {
   "cell_type": "markdown",
   "metadata": {},
   "source": [
    "Visualization"
   ]
  },
  {
   "cell_type": "code",
   "execution_count": null,
   "metadata": {},
   "outputs": [],
   "source": []
  },
  {
   "cell_type": "markdown",
   "metadata": {},
   "source": [
    "## Rescale all of the images to one size"
   ]
  },
  {
   "cell_type": "markdown",
   "metadata": {},
   "source": [
    "What is better in this situation? Downscale or Upscale the Image"
   ]
  }
 ],
 "metadata": {
  "kernelspec": {
   "display_name": "ML_py10",
   "language": "python",
   "name": "python3"
  },
  "language_info": {
   "codemirror_mode": {
    "name": "ipython",
    "version": 3
   },
   "file_extension": ".py",
   "mimetype": "text/x-python",
   "name": "python",
   "nbconvert_exporter": "python",
   "pygments_lexer": "ipython3",
   "version": "3.10.14"
  }
 },
 "nbformat": 4,
 "nbformat_minor": 2
}
