{
 "cells": [
  {
   "cell_type": "code",
   "execution_count": 1,
   "metadata": {},
   "outputs": [],
   "source": [
    "# Set global directories\n",
    "DATA_DIR = \"./data\"\n",
    "DATASET_DIR = f\"{DATA_DIR}/datasets\"\n",
    "\n",
    "CACHE_DIR = f\"{DATA_DIR}/cache\"\n",
    "DATASET_CACHE_DIR = f\"{CACHE_DIR}/datasets\"\n",
    "\n",
    "TRAIN_DATA_DIR = f\"{DATASET_DIR}/raw\"\n",
    "CLEANED_TRAIN_DATA_DIR = f\"{DATASET_DIR}/cleaned\"\n",
    "PROCESSED_TRAIN_DATA_DIR = f\"{DATASET_DIR}/processed\"\n",
    "\n",
    "# Set path to cache visualizations and models\n",
    "VISUALIZATION_DIR = f\"{CACHE_DIR}/visualizations\"\n",
    "MODEL_DIR = f\"{CACHE_DIR}/models\""
   ]
  },
  {
   "cell_type": "code",
   "execution_count": 2,
   "metadata": {},
   "outputs": [
    {
     "name": "stdout",
     "output_type": "stream",
     "text": [
      "Modules ['utils.image_process'] do not exist in the current environment.\n",
      "Refreshing cache for all modules...\n"
     ]
    }
   ],
   "source": [
    "from utils.cache import reload_custom_libraries\n",
    "\n",
    "reload_custom_libraries()"
   ]
  },
  {
   "cell_type": "markdown",
   "metadata": {},
   "source": [
    "# Import necessary packages and libraries"
   ]
  },
  {
   "cell_type": "code",
   "execution_count": 3,
   "metadata": {},
   "outputs": [
    {
     "name": "stderr",
     "output_type": "stream",
     "text": [
      "c:\\Users\\thaih\\.conda\\envs\\Assignment2\\lib\\site-packages\\tqdm\\auto.py:21: TqdmWarning: IProgress not found. Please update jupyter and ipywidgets. See https://ipywidgets.readthedocs.io/en/stable/user_install.html\n",
      "  from .autonotebook import tqdm as notebook_tqdm\n"
     ]
    }
   ],
   "source": [
    "import pandas as pd\n",
    "import numpy as np\n",
    "import matplotlib.pyplot as plt\n",
    "import tensorflow as tf\n",
    "from PIL import Image\n",
    "from PIL import ImageFile\n",
    "import os, sys\n",
    "from tqdm.auto import tqdm\n",
    "from utils import image_process\n",
    "from tensorflow.keras import layers"
   ]
  },
  {
   "cell_type": "markdown",
   "metadata": {},
   "source": [
    "# Get a general view of the dataset"
   ]
  },
  {
   "cell_type": "code",
   "execution_count": 4,
   "metadata": {},
   "outputs": [
    {
     "name": "stdout",
     "output_type": "stream",
     "text": [
      "Found 99741 files belonging to 6 classes.\n"
     ]
    }
   ],
   "source": [
    "data = tf.keras.utils.image_dataset_from_directory(TRAIN_DATA_DIR)"
   ]
  },
  {
   "cell_type": "markdown",
   "metadata": {},
   "source": [
    "# Extract image paths into different categories base on its type"
   ]
  },
  {
   "cell_type": "code",
   "execution_count": 4,
   "metadata": {},
   "outputs": [
    {
     "name": "stderr",
     "output_type": "stream",
     "text": [
      "Getting path: 100%|██████████| 17/17 [00:00<00:00, 1545.50it/s]\n",
      "Getting path: 100%|██████████| 17/17 [00:00<00:00, 1062.53it/s]\n",
      "Getting path: 100%|██████████| 17/17 [00:00<00:00, 4250.31it/s]\n",
      "Getting path: 100%|██████████| 17/17 [00:00<00:00, 1171.63it/s]\n",
      "Getting path: 100%|██████████| 17/17 [00:00<00:00, 5664.83it/s]\n",
      "Getting path: 100%|██████████| 17/17 [00:00<00:00, 1888.93it/s]"
     ]
    },
    {
     "name": "stdout",
     "output_type": "stream",
     "text": [
      "Successfully extract all paths!\n"
     ]
    },
    {
     "name": "stderr",
     "output_type": "stream",
     "text": [
      "\n"
     ]
    }
   ],
   "source": [
    "# extracting paths from each of the category\n",
    "beds_path = image_process.image_path(TRAIN_DATA_DIR, \"beds\")\n",
    "chairs_path = image_process.image_path(TRAIN_DATA_DIR, \"chairs\")\n",
    "dressers_path = image_process.image_path(TRAIN_DATA_DIR, \"dressers\")\n",
    "lamps_path = image_process.image_path(TRAIN_DATA_DIR, \"lamps\")\n",
    "sofas_path = image_process.image_path(TRAIN_DATA_DIR, \"sofas\")\n",
    "tables_path = image_process.image_path(TRAIN_DATA_DIR, \"tables\")\n",
    "\n",
    "print(\"Successfully extract all paths!\")"
   ]
  },
  {
   "cell_type": "markdown",
   "metadata": {},
   "source": [
    "# EDA"
   ]
  },
  {
   "cell_type": "markdown",
   "metadata": {},
   "source": [
    "## Get the total amount of images in different categories before checking for duplicants"
   ]
  },
  {
   "cell_type": "code",
   "execution_count": 6,
   "metadata": {},
   "outputs": [
    {
     "name": "stdout",
     "output_type": "stream",
     "text": [
      "Amount of bed:  6578\n",
      "Amount of chair:  31712\n",
      "Amount of dresser:  7871\n",
      "Amount of lamp:  32401\n",
      "Amount of sofa:  4080\n",
      "Amount of table:  17100\n",
      "Total:  99742\n"
     ]
    }
   ],
   "source": [
    "print(\"Amount of bed: \", len(beds_path))\n",
    "print(\"Amount of chair: \", len(chairs_path))\n",
    "print(\"Amount of dresser: \", len(dressers_path))\n",
    "print(\"Amount of lamp: \", len(lamps_path))\n",
    "print(\"Amount of sofa: \", len(sofas_path))\n",
    "print(\"Amount of table: \", len(tables_path))\n",
    "print(\n",
    "    \"Total: \",\n",
    "    len(beds_path)\n",
    "    + len(chairs_path)\n",
    "    + len(dressers_path)\n",
    "    + len(lamps_path)\n",
    "    + len(sofas_path)\n",
    "    + len(tables_path),\n",
    ")"
   ]
  },
  {
   "cell_type": "markdown",
   "metadata": {},
   "source": [
    "### Visualization"
   ]
  },
  {
   "cell_type": "code",
   "execution_count": 7,
   "metadata": {},
   "outputs": [],
   "source": [
    "image_Classes = {\n",
    "    \"Beds\": len(beds_path),\n",
    "    \"Chairs\": len(chairs_path),\n",
    "    \"Dressers\": len(dressers_path),\n",
    "    \"Sofas\": len(sofas_path),\n",
    "    \"Lamps\": len(lamps_path),\n",
    "    \"Tables\": len(tables_path),\n",
    "}"
   ]
  },
  {
   "cell_type": "code",
   "execution_count": 8,
   "metadata": {},
   "outputs": [
    {
     "data": {
      "text/plain": [
       "Text(0, 0.5, 'Amount')"
      ]
     },
     "execution_count": 8,
     "metadata": {},
     "output_type": "execute_result"
    },
    {
     "data": {
      "image/png": "[encoded data removed]",
      "text/plain": [
       "<Figure size 640x480 with 1 Axes>"
      ]
     },
     "metadata": {},
     "output_type": "display_data"
    }
   ],
   "source": [
    "plt.bar(image_Classes.keys(), image_Classes.values(), width=0.5)\n",
    "plt.title(\"Number of images in each categories\")\n",
    "plt.xlabel(\"Categories\")\n",
    "plt.ylabel(\"Amount\")"
   ]
  },
  {
   "cell_type": "markdown",
   "metadata": {},
   "source": [
    "## Get different amount of image size of each category"
   ]
  },
  {
   "cell_type": "code",
   "execution_count": 14,
   "metadata": {},
   "outputs": [
    {
     "name": "stdout",
     "output_type": "stream",
     "text": [
      "Beds\n"
     ]
    },
    {
     "name": "stderr",
     "output_type": "stream",
     "text": [
      "Getting image size: 100%|██████████| 6578/6578 [00:07<00:00, 892.84it/s] \n"
     ]
    },
    {
     "name": "stdout",
     "output_type": "stream",
     "text": [
      "224x224 pixels:  0\n",
      "350x350 pixels:  6578\n",
      "Other size:  0\n",
      "Chairs\n"
     ]
    },
    {
     "name": "stderr",
     "output_type": "stream",
     "text": [
      "Getting image size: 100%|██████████| 31712/31712 [00:06<00:00, 4997.03it/s]\n"
     ]
    },
    {
     "name": "stdout",
     "output_type": "stream",
     "text": [
      "224x224 pixels:  0\n",
      "350x350 pixels:  31712\n",
      "Other size:  0\n",
      "Dressers\n"
     ]
    },
    {
     "name": "stderr",
     "output_type": "stream",
     "text": [
      "Getting image size: 100%|██████████| 7871/7871 [00:01<00:00, 5330.62it/s]\n"
     ]
    },
    {
     "name": "stdout",
     "output_type": "stream",
     "text": [
      "224x224 pixels:  0\n",
      "350x350 pixels:  7871\n",
      "Other size:  0\n",
      "Lamps\n"
     ]
    },
    {
     "name": "stderr",
     "output_type": "stream",
     "text": [
      "Getting image size: 100%|██████████| 32401/32401 [00:06<00:00, 5057.68it/s]\n"
     ]
    },
    {
     "name": "stdout",
     "output_type": "stream",
     "text": [
      "224x224 pixels:  0\n",
      "350x350 pixels:  32401\n",
      "Other size:  0\n",
      "sofas\n"
     ]
    },
    {
     "name": "stderr",
     "output_type": "stream",
     "text": [
      "Getting image size: 100%|██████████| 4080/4080 [00:00<00:00, 5000.40it/s]\n"
     ]
    },
    {
     "name": "stdout",
     "output_type": "stream",
     "text": [
      "224x224 pixels:  0\n",
      "350x350 pixels:  4080\n",
      "Other size:  0\n",
      "Tables\n"
     ]
    },
    {
     "name": "stderr",
     "output_type": "stream",
     "text": [
      "Getting image size: 100%|██████████| 17100/17100 [00:03<00:00, 5219.24it/s]"
     ]
    },
    {
     "name": "stdout",
     "output_type": "stream",
     "text": [
      "224x224 pixels:  0\n",
      "350x350 pixels:  17100\n",
      "Other size:  0\n"
     ]
    },
    {
     "name": "stderr",
     "output_type": "stream",
     "text": [
      "\n"
     ]
    },
    {
     "data": {
      "text/plain": [
       "[(350, 350),\n",
       " (350, 350),\n",
       " (350, 350),\n",
       " (350, 350),\n",
       " (350, 350),\n",
       " (350, 350),\n",
       " (350, 350),\n",
       " (350, 350),\n",
       " (350, 350),\n",
       " (350, 350),\n",
       " (350, 350),\n",
       " (350, 350),\n",
       " (350, 350),\n",
       " (350, 350),\n",
       " (350, 350),\n",
       " (350, 350),\n",
       " (350, 350),\n",
       " (350, 350),\n",
       " (350, 350),\n",
       " (350, 350),\n",
       " (350, 350),\n",
       " (350, 350),\n",
       " (350, 350),\n",
       " (350, 350),\n",
       " (350, 350),\n",
       " (350, 350),\n",
       " (350, 350),\n",
       " (350, 350),\n",
       " (350, 350),\n",
       " (350, 350),\n",
       " (350, 350),\n",
       " (350, 350),\n",
       " (350, 350),\n",
       " (350, 350),\n",
       " (350, 350),\n",
       " (350, 350),\n",
       " (350, 350),\n",
       " (350, 350),\n",
       " (350, 350),\n",
       " (350, 350),\n",
       " (350, 350),\n",
       " (350, 350),\n",
       " (350, 350),\n",
       " (350, 350),\n",
       " (350, 350),\n",
       " (350, 350),\n",
       " (350, 350),\n",
       " (350, 350),\n",
       " (350, 350),\n",
       " (350, 350),\n",
       " (350, 350),\n",
       " (350, 350),\n",
       " (350, 350),\n",
       " (350, 350),\n",
       " (350, 350),\n",
       " (350, 350),\n",
       " (350, 350),\n",
       " (350, 350),\n",
       " (350, 350),\n",
       " (350, 350),\n",
       " (350, 350),\n",
       " (350, 350),\n",
       " (350, 350),\n",
       " (350, 350),\n",
       " (350, 350),\n",
       " (350, 350),\n",
       " (350, 350),\n",
       " (350, 350),\n",
       " (350, 350),\n",
       " (350, 350),\n",
       " (350, 350),\n",
       " (350, 350),\n",
       " (350, 350),\n",
       " (350, 350),\n",
       " (350, 350),\n",
       " (350, 350),\n",
       " (350, 350),\n",
       " (350, 350),\n",
       " (350, 350),\n",
       " (350, 350),\n",
       " (350, 350),\n",
       " (350, 350),\n",
       " (350, 350),\n",
       " (350, 350),\n",
       " (350, 350),\n",
       " (350, 350),\n",
       " (350, 350),\n",
       " (350, 350),\n",
       " (350, 350),\n",
       " (350, 350),\n",
       " (350, 350),\n",
       " (350, 350),\n",
       " (350, 350),\n",
       " (350, 350),\n",
       " (350, 350),\n",
       " (350, 350),\n",
       " (350, 350),\n",
       " (350, 350),\n",
       " (350, 350),\n",
       " (350, 350),\n",
       " (350, 350),\n",
       " (350, 350),\n",
       " (350, 350),\n",
       " (350, 350),\n",
       " (350, 350),\n",
       " (350, 350),\n",
       " (350, 350),\n",
       " (350, 350),\n",
       " (350, 350),\n",
       " (350, 350),\n",
       " (350, 350),\n",
       " (350, 350),\n",
       " (350, 350),\n",
       " (350, 350),\n",
       " (350, 350),\n",
       " (350, 350),\n",
       " (350, 350),\n",
       " (350, 350),\n",
       " (350, 350),\n",
       " (350, 350),\n",
       " (350, 350),\n",
       " (350, 350),\n",
       " (350, 350),\n",
       " (350, 350),\n",
       " (350, 350),\n",
       " (350, 350),\n",
       " (350, 350),\n",
       " (350, 350),\n",
       " (350, 350),\n",
       " (350, 350),\n",
       " (350, 350),\n",
       " (350, 350),\n",
       " (350, 350),\n",
       " (350, 350),\n",
       " (350, 350),\n",
       " (350, 350),\n",
       " (350, 350),\n",
       " (350, 350),\n",
       " (350, 350),\n",
       " (350, 350),\n",
       " (350, 350),\n",
       " (350, 350),\n",
       " (350, 350),\n",
       " (350, 350),\n",
       " (350, 350),\n",
       " (350, 350),\n",
       " (350, 350),\n",
       " (350, 350),\n",
       " (350, 350),\n",
       " (350, 350),\n",
       " (350, 350),\n",
       " (350, 350),\n",
       " (350, 350),\n",
       " (350, 350),\n",
       " (350, 350),\n",
       " (350, 350),\n",
       " (350, 350),\n",
       " (350, 350),\n",
       " (350, 350),\n",
       " (350, 350),\n",
       " (350, 350),\n",
       " (350, 350),\n",
       " (350, 350),\n",
       " (350, 350),\n",
       " (350, 350),\n",
       " (350, 350),\n",
       " (350, 350),\n",
       " (350, 350),\n",
       " (350, 350),\n",
       " (350, 350),\n",
       " (350, 350),\n",
       " (350, 350),\n",
       " (350, 350),\n",
       " (350, 350),\n",
       " (350, 350),\n",
       " (350, 350),\n",
       " (350, 350),\n",
       " (350, 350),\n",
       " (350, 350),\n",
       " (350, 350),\n",
       " (350, 350),\n",
       " (350, 350),\n",
       " (350, 350),\n",
       " (350, 350),\n",
       " (350, 350),\n",
       " (350, 350),\n",
       " (350, 350),\n",
       " (350, 350),\n",
       " (350, 350),\n",
       " (350, 350),\n",
       " (350, 350),\n",
       " (350, 350),\n",
       " (350, 350),\n",
       " (350, 350),\n",
       " (350, 350),\n",
       " (350, 350),\n",
       " (350, 350),\n",
       " (350, 350),\n",
       " (350, 350),\n",
       " (350, 350),\n",
       " (350, 350),\n",
       " (350, 350),\n",
       " (350, 350),\n",
       " (350, 350),\n",
       " (350, 350),\n",
       " (350, 350),\n",
       " (350, 350),\n",
       " (350, 350),\n",
       " (350, 350),\n",
       " (350, 350),\n",
       " (350, 350),\n",
       " (350, 350),\n",
       " (350, 350),\n",
       " (350, 350),\n",
       " (350, 350),\n",
       " (350, 350),\n",
       " (350, 350),\n",
       " (350, 350),\n",
       " (350, 350),\n",
       " (350, 350),\n",
       " (350, 350),\n",
       " (350, 350),\n",
       " (350, 350),\n",
       " (350, 350),\n",
       " (350, 350),\n",
       " (350, 350),\n",
       " (350, 350),\n",
       " (350, 350),\n",
       " (350, 350),\n",
       " (350, 350),\n",
       " (350, 350),\n",
       " (350, 350),\n",
       " (350, 350),\n",
       " (350, 350),\n",
       " (350, 350),\n",
       " (350, 350),\n",
       " (350, 350),\n",
       " (350, 350),\n",
       " (350, 350),\n",
       " (350, 350),\n",
       " (350, 350),\n",
       " (350, 350),\n",
       " (350, 350),\n",
       " (350, 350),\n",
       " (350, 350),\n",
       " (350, 350),\n",
       " (350, 350),\n",
       " (350, 350),\n",
       " (350, 350),\n",
       " (350, 350),\n",
       " (350, 350),\n",
       " (350, 350),\n",
       " (350, 350),\n",
       " (350, 350),\n",
       " (350, 350),\n",
       " (350, 350),\n",
       " (350, 350),\n",
       " (350, 350),\n",
       " (350, 350),\n",
       " (350, 350),\n",
       " (350, 350),\n",
       " (350, 350),\n",
       " (350, 350),\n",
       " (350, 350),\n",
       " (350, 350),\n",
       " (350, 350),\n",
       " (350, 350),\n",
       " (350, 350),\n",
       " (350, 350),\n",
       " (350, 350),\n",
       " (350, 350),\n",
       " (350, 350),\n",
       " (350, 350),\n",
       " (350, 350),\n",
       " (350, 350),\n",
       " (350, 350),\n",
       " (350, 350),\n",
       " (350, 350),\n",
       " (350, 350),\n",
       " (350, 350),\n",
       " (350, 350),\n",
       " (350, 350),\n",
       " (350, 350),\n",
       " (350, 350),\n",
       " (350, 350),\n",
       " (350, 350),\n",
       " (350, 350),\n",
       " (350, 350),\n",
       " (350, 350),\n",
       " (350, 350),\n",
       " (350, 350),\n",
       " (350, 350),\n",
       " (350, 350),\n",
       " (350, 350),\n",
       " (350, 350),\n",
       " (350, 350),\n",
       " (350, 350),\n",
       " (350, 350),\n",
       " (350, 350),\n",
       " (350, 350),\n",
       " (350, 350),\n",
       " (350, 350),\n",
       " (350, 350),\n",
       " (350, 350),\n",
       " (350, 350),\n",
       " (350, 350),\n",
       " (350, 350),\n",
       " (350, 350),\n",
       " (350, 350),\n",
       " (350, 350),\n",
       " (350, 350),\n",
       " (350, 350),\n",
       " (350, 350),\n",
       " (350, 350),\n",
       " (350, 350),\n",
       " (350, 350),\n",
       " (350, 350),\n",
       " (350, 350),\n",
       " (350, 350),\n",
       " (350, 350),\n",
       " (350, 350),\n",
       " (350, 350),\n",
       " (350, 350),\n",
       " (350, 350),\n",
       " (350, 350),\n",
       " (350, 350),\n",
       " (350, 350),\n",
       " (350, 350),\n",
       " (350, 350),\n",
       " (350, 350),\n",
       " (350, 350),\n",
       " (350, 350),\n",
       " (350, 350),\n",
       " (350, 350),\n",
       " (350, 350),\n",
       " (350, 350),\n",
       " (350, 350),\n",
       " (350, 350),\n",
       " (350, 350),\n",
       " (350, 350),\n",
       " (350, 350),\n",
       " (350, 350),\n",
       " (350, 350),\n",
       " (350, 350),\n",
       " (350, 350),\n",
       " (350, 350),\n",
       " (350, 350),\n",
       " (350, 350),\n",
       " (350, 350),\n",
       " (350, 350),\n",
       " (350, 350),\n",
       " (350, 350),\n",
       " (350, 350),\n",
       " (350, 350),\n",
       " (350, 350),\n",
       " (350, 350),\n",
       " (350, 350),\n",
       " (350, 350),\n",
       " (350, 350),\n",
       " (350, 350),\n",
       " (350, 350),\n",
       " (350, 350),\n",
       " (350, 350),\n",
       " (350, 350),\n",
       " (350, 350),\n",
       " (350, 350),\n",
       " (350, 350),\n",
       " (350, 350),\n",
       " (350, 350),\n",
       " (350, 350),\n",
       " (350, 350),\n",
       " (350, 350),\n",
       " (350, 350),\n",
       " (350, 350),\n",
       " (350, 350),\n",
       " (350, 350),\n",
       " (350, 350),\n",
       " (350, 350),\n",
       " (350, 350),\n",
       " (350, 350),\n",
       " (350, 350),\n",
       " (350, 350),\n",
       " (350, 350),\n",
       " (350, 350),\n",
       " (350, 350),\n",
       " (350, 350),\n",
       " (350, 350),\n",
       " (350, 350),\n",
       " (350, 350),\n",
       " (350, 350),\n",
       " (350, 350),\n",
       " (350, 350),\n",
       " (350, 350),\n",
       " (350, 350),\n",
       " (350, 350),\n",
       " (350, 350),\n",
       " (350, 350),\n",
       " (350, 350),\n",
       " (350, 350),\n",
       " (350, 350),\n",
       " (350, 350),\n",
       " (350, 350),\n",
       " (350, 350),\n",
       " (350, 350),\n",
       " (350, 350),\n",
       " (350, 350),\n",
       " (350, 350),\n",
       " (350, 350),\n",
       " (350, 350),\n",
       " (350, 350),\n",
       " (350, 350),\n",
       " (350, 350),\n",
       " (350, 350),\n",
       " (350, 350),\n",
       " (350, 350),\n",
       " (350, 350),\n",
       " (350, 350),\n",
       " (350, 350),\n",
       " (350, 350),\n",
       " (350, 350),\n",
       " (350, 350),\n",
       " (350, 350),\n",
       " (350, 350),\n",
       " (350, 350),\n",
       " (350, 350),\n",
       " (350, 350),\n",
       " (350, 350),\n",
       " (350, 350),\n",
       " (350, 350),\n",
       " (350, 350),\n",
       " (350, 350),\n",
       " (350, 350),\n",
       " (350, 350),\n",
       " (350, 350),\n",
       " (350, 350),\n",
       " (350, 350),\n",
       " (350, 350),\n",
       " (350, 350),\n",
       " (350, 350),\n",
       " (350, 350),\n",
       " (350, 350),\n",
       " (350, 350),\n",
       " (350, 350),\n",
       " (350, 350),\n",
       " (350, 350),\n",
       " (350, 350),\n",
       " (350, 350),\n",
       " (350, 350),\n",
       " (350, 350),\n",
       " (350, 350),\n",
       " (350, 350),\n",
       " (350, 350),\n",
       " (350, 350),\n",
       " (350, 350),\n",
       " (350, 350),\n",
       " (350, 350),\n",
       " (350, 350),\n",
       " (350, 350),\n",
       " (350, 350),\n",
       " (350, 350),\n",
       " (350, 350),\n",
       " (350, 350),\n",
       " (350, 350),\n",
       " (350, 350),\n",
       " (350, 350),\n",
       " (350, 350),\n",
       " (350, 350),\n",
       " (350, 350),\n",
       " (350, 350),\n",
       " (350, 350),\n",
       " (350, 350),\n",
       " (350, 350),\n",
       " (350, 350),\n",
       " (350, 350),\n",
       " (350, 350),\n",
       " (350, 350),\n",
       " (350, 350),\n",
       " (350, 350),\n",
       " (350, 350),\n",
       " (350, 350),\n",
       " (350, 350),\n",
       " (350, 350),\n",
       " (350, 350),\n",
       " (350, 350),\n",
       " (350, 350),\n",
       " (350, 350),\n",
       " (350, 350),\n",
       " (350, 350),\n",
       " (350, 350),\n",
       " (350, 350),\n",
       " (350, 350),\n",
       " (350, 350),\n",
       " (350, 350),\n",
       " (350, 350),\n",
       " (350, 350),\n",
       " (350, 350),\n",
       " (350, 350),\n",
       " (350, 350),\n",
       " (350, 350),\n",
       " (350, 350),\n",
       " (350, 350),\n",
       " (350, 350),\n",
       " (350, 350),\n",
       " (350, 350),\n",
       " (350, 350),\n",
       " (350, 350),\n",
       " (350, 350),\n",
       " (350, 350),\n",
       " (350, 350),\n",
       " (350, 350),\n",
       " (350, 350),\n",
       " (350, 350),\n",
       " (350, 350),\n",
       " (350, 350),\n",
       " (350, 350),\n",
       " (350, 350),\n",
       " (350, 350),\n",
       " (350, 350),\n",
       " (350, 350),\n",
       " (350, 350),\n",
       " (350, 350),\n",
       " (350, 350),\n",
       " (350, 350),\n",
       " (350, 350),\n",
       " (350, 350),\n",
       " (350, 350),\n",
       " (350, 350),\n",
       " (350, 350),\n",
       " (350, 350),\n",
       " (350, 350),\n",
       " (350, 350),\n",
       " (350, 350),\n",
       " (350, 350),\n",
       " (350, 350),\n",
       " (350, 350),\n",
       " (350, 350),\n",
       " (350, 350),\n",
       " (350, 350),\n",
       " (350, 350),\n",
       " (350, 350),\n",
       " (350, 350),\n",
       " (350, 350),\n",
       " (350, 350),\n",
       " (350, 350),\n",
       " (350, 350),\n",
       " (350, 350),\n",
       " (350, 350),\n",
       " (350, 350),\n",
       " (350, 350),\n",
       " (350, 350),\n",
       " (350, 350),\n",
       " (350, 350),\n",
       " (350, 350),\n",
       " (350, 350),\n",
       " (350, 350),\n",
       " (350, 350),\n",
       " (350, 350),\n",
       " (350, 350),\n",
       " (350, 350),\n",
       " (350, 350),\n",
       " (350, 350),\n",
       " (350, 350),\n",
       " (350, 350),\n",
       " (350, 350),\n",
       " (350, 350),\n",
       " (350, 350),\n",
       " (350, 350),\n",
       " (350, 350),\n",
       " (350, 350),\n",
       " (350, 350),\n",
       " (350, 350),\n",
       " (350, 350),\n",
       " (350, 350),\n",
       " (350, 350),\n",
       " (350, 350),\n",
       " (350, 350),\n",
       " (350, 350),\n",
       " (350, 350),\n",
       " (350, 350),\n",
       " (350, 350),\n",
       " (350, 350),\n",
       " (350, 350),\n",
       " (350, 350),\n",
       " (350, 350),\n",
       " (350, 350),\n",
       " (350, 350),\n",
       " (350, 350),\n",
       " (350, 350),\n",
       " (350, 350),\n",
       " (350, 350),\n",
       " (350, 350),\n",
       " (350, 350),\n",
       " (350, 350),\n",
       " (350, 350),\n",
       " (350, 350),\n",
       " (350, 350),\n",
       " (350, 350),\n",
       " (350, 350),\n",
       " (350, 350),\n",
       " (350, 350),\n",
       " (350, 350),\n",
       " (350, 350),\n",
       " (350, 350),\n",
       " (350, 350),\n",
       " (350, 350),\n",
       " (350, 350),\n",
       " (350, 350),\n",
       " (350, 350),\n",
       " (350, 350),\n",
       " (350, 350),\n",
       " (350, 350),\n",
       " (350, 350),\n",
       " (350, 350),\n",
       " (350, 350),\n",
       " (350, 350),\n",
       " (350, 350),\n",
       " (350, 350),\n",
       " (350, 350),\n",
       " (350, 350),\n",
       " (350, 350),\n",
       " (350, 350),\n",
       " (350, 350),\n",
       " (350, 350),\n",
       " (350, 350),\n",
       " (350, 350),\n",
       " (350, 350),\n",
       " (350, 350),\n",
       " (350, 350),\n",
       " (350, 350),\n",
       " (350, 350),\n",
       " (350, 350),\n",
       " (350, 350),\n",
       " (350, 350),\n",
       " (350, 350),\n",
       " (350, 350),\n",
       " (350, 350),\n",
       " (350, 350),\n",
       " (350, 350),\n",
       " (350, 350),\n",
       " (350, 350),\n",
       " (350, 350),\n",
       " (350, 350),\n",
       " (350, 350),\n",
       " (350, 350),\n",
       " (350, 350),\n",
       " (350, 350),\n",
       " (350, 350),\n",
       " (350, 350),\n",
       " (350, 350),\n",
       " (350, 350),\n",
       " (350, 350),\n",
       " (350, 350),\n",
       " (350, 350),\n",
       " (350, 350),\n",
       " (350, 350),\n",
       " (350, 350),\n",
       " (350, 350),\n",
       " (350, 350),\n",
       " (350, 350),\n",
       " (350, 350),\n",
       " (350, 350),\n",
       " (350, 350),\n",
       " (350, 350),\n",
       " (350, 350),\n",
       " (350, 350),\n",
       " (350, 350),\n",
       " (350, 350),\n",
       " (350, 350),\n",
       " (350, 350),\n",
       " (350, 350),\n",
       " (350, 350),\n",
       " (350, 350),\n",
       " (350, 350),\n",
       " (350, 350),\n",
       " (350, 350),\n",
       " (350, 350),\n",
       " (350, 350),\n",
       " (350, 350),\n",
       " (350, 350),\n",
       " (350, 350),\n",
       " (350, 350),\n",
       " (350, 350),\n",
       " (350, 350),\n",
       " (350, 350),\n",
       " (350, 350),\n",
       " (350, 350),\n",
       " (350, 350),\n",
       " (350, 350),\n",
       " (350, 350),\n",
       " (350, 350),\n",
       " (350, 350),\n",
       " (350, 350),\n",
       " (350, 350),\n",
       " (350, 350),\n",
       " (350, 350),\n",
       " (350, 350),\n",
       " (350, 350),\n",
       " (350, 350),\n",
       " (350, 350),\n",
       " (350, 350),\n",
       " (350, 350),\n",
       " (350, 350),\n",
       " (350, 350),\n",
       " (350, 350),\n",
       " (350, 350),\n",
       " (350, 350),\n",
       " (350, 350),\n",
       " (350, 350),\n",
       " (350, 350),\n",
       " (350, 350),\n",
       " (350, 350),\n",
       " (350, 350),\n",
       " (350, 350),\n",
       " (350, 350),\n",
       " (350, 350),\n",
       " (350, 350),\n",
       " (350, 350),\n",
       " (350, 350),\n",
       " (350, 350),\n",
       " (350, 350),\n",
       " (350, 350),\n",
       " (350, 350),\n",
       " (350, 350),\n",
       " (350, 350),\n",
       " (350, 350),\n",
       " (350, 350),\n",
       " (350, 350),\n",
       " (350, 350),\n",
       " (350, 350),\n",
       " (350, 350),\n",
       " (350, 350),\n",
       " (350, 350),\n",
       " (350, 350),\n",
       " (350, 350),\n",
       " (350, 350),\n",
       " (350, 350),\n",
       " (350, 350),\n",
       " (350, 350),\n",
       " (350, 350),\n",
       " (350, 350),\n",
       " (350, 350),\n",
       " (350, 350),\n",
       " (350, 350),\n",
       " (350, 350),\n",
       " (350, 350),\n",
       " (350, 350),\n",
       " (350, 350),\n",
       " (350, 350),\n",
       " (350, 350),\n",
       " (350, 350),\n",
       " (350, 350),\n",
       " (350, 350),\n",
       " (350, 350),\n",
       " (350, 350),\n",
       " (350, 350),\n",
       " (350, 350),\n",
       " (350, 350),\n",
       " (350, 350),\n",
       " (350, 350),\n",
       " (350, 350),\n",
       " (350, 350),\n",
       " (350, 350),\n",
       " (350, 350),\n",
       " (350, 350),\n",
       " (350, 350),\n",
       " (350, 350),\n",
       " (350, 350),\n",
       " (350, 350),\n",
       " (350, 350),\n",
       " (350, 350),\n",
       " (350, 350),\n",
       " (350, 350),\n",
       " (350, 350),\n",
       " (350, 350),\n",
       " (350, 350),\n",
       " (350, 350),\n",
       " (350, 350),\n",
       " (350, 350),\n",
       " (350, 350),\n",
       " (350, 350),\n",
       " (350, 350),\n",
       " (350, 350),\n",
       " (350, 350),\n",
       " (350, 350),\n",
       " (350, 350),\n",
       " (350, 350),\n",
       " (350, 350),\n",
       " (350, 350),\n",
       " (350, 350),\n",
       " (350, 350),\n",
       " (350, 350),\n",
       " (350, 350),\n",
       " (350, 350),\n",
       " (350, 350),\n",
       " (350, 350),\n",
       " (350, 350),\n",
       " (350, 350),\n",
       " (350, 350),\n",
       " (350, 350),\n",
       " (350, 350),\n",
       " (350, 350),\n",
       " (350, 350),\n",
       " (350, 350),\n",
       " (350, 350),\n",
       " (350, 350),\n",
       " (350, 350),\n",
       " (350, 350),\n",
       " (350, 350),\n",
       " (350, 350),\n",
       " (350, 350),\n",
       " (350, 350),\n",
       " (350, 350),\n",
       " (350, 350),\n",
       " (350, 350),\n",
       " (350, 350),\n",
       " (350, 350),\n",
       " (350, 350),\n",
       " (350, 350),\n",
       " (350, 350),\n",
       " (350, 350),\n",
       " (350, 350),\n",
       " (350, 350),\n",
       " (350, 350),\n",
       " (350, 350),\n",
       " (350, 350),\n",
       " (350, 350),\n",
       " (350, 350),\n",
       " (350, 350),\n",
       " (350, 350),\n",
       " (350, 350),\n",
       " (350, 350),\n",
       " (350, 350),\n",
       " (350, 350),\n",
       " (350, 350),\n",
       " (350, 350),\n",
       " (350, 350),\n",
       " (350, 350),\n",
       " (350, 350),\n",
       " (350, 350),\n",
       " (350, 350),\n",
       " (350, 350),\n",
       " (350, 350),\n",
       " (350, 350),\n",
       " (350, 350),\n",
       " (350, 350),\n",
       " (350, 350),\n",
       " (350, 350),\n",
       " (350, 350),\n",
       " (350, 350),\n",
       " (350, 350),\n",
       " (350, 350),\n",
       " (350, 350),\n",
       " (350, 350),\n",
       " (350, 350),\n",
       " (350, 350),\n",
       " (350, 350),\n",
       " (350, 350),\n",
       " (350, 350),\n",
       " (350, 350),\n",
       " (350, 350),\n",
       " (350, 350),\n",
       " (350, 350),\n",
       " (350, 350),\n",
       " (350, 350),\n",
       " (350, 350),\n",
       " (350, 350),\n",
       " (350, 350),\n",
       " (350, 350),\n",
       " (350, 350),\n",
       " (350, 350),\n",
       " (350, 350),\n",
       " (350, 350),\n",
       " (350, 350),\n",
       " (350, 350),\n",
       " (350, 350),\n",
       " (350, 350),\n",
       " (350, 350),\n",
       " (350, 350),\n",
       " (350, 350),\n",
       " (350, 350),\n",
       " (350, 350),\n",
       " (350, 350),\n",
       " (350, 350),\n",
       " (350, 350),\n",
       " (350, 350),\n",
       " (350, 350),\n",
       " (350, 350),\n",
       " (350, 350),\n",
       " (350, 350),\n",
       " (350, 350),\n",
       " (350, 350),\n",
       " (350, 350),\n",
       " (350, 350),\n",
       " (350, 350),\n",
       " (350, 350),\n",
       " (350, 350),\n",
       " (350, 350),\n",
       " (350, 350),\n",
       " (350, 350),\n",
       " (350, 350),\n",
       " (350, 350),\n",
       " (350, 350),\n",
       " (350, 350),\n",
       " (350, 350),\n",
       " (350, 350),\n",
       " (350, 350),\n",
       " (350, 350),\n",
       " (350, 350),\n",
       " (350, 350),\n",
       " (350, 350),\n",
       " (350, 350),\n",
       " (350, 350),\n",
       " (350, 350),\n",
       " (350, 350),\n",
       " (350, 350),\n",
       " (350, 350),\n",
       " (350, 350),\n",
       " (350, 350),\n",
       " (350, 350),\n",
       " (350, 350),\n",
       " (350, 350),\n",
       " (350, 350),\n",
       " (350, 350),\n",
       " (350, 350),\n",
       " (350, 350),\n",
       " (350, 350),\n",
       " (350, 350),\n",
       " (350, 350),\n",
       " (350, 350),\n",
       " (350, 350),\n",
       " (350, 350),\n",
       " (350, 350),\n",
       " (350, 350),\n",
       " (350, 350),\n",
       " (350, 350),\n",
       " (350, 350),\n",
       " (350, 350),\n",
       " (350, 350),\n",
       " (350, 350),\n",
       " (350, 350),\n",
       " (350, 350),\n",
       " (350, 350),\n",
       " (350, 350),\n",
       " (350, 350),\n",
       " (350, 350),\n",
       " (350, 350),\n",
       " (350, 350),\n",
       " (350, 350),\n",
       " (350, 350),\n",
       " (350, 350),\n",
       " (350, 350),\n",
       " (350, 350),\n",
       " (350, 350),\n",
       " (350, 350),\n",
       " (350, 350),\n",
       " (350, 350),\n",
       " (350, 350),\n",
       " (350, 350),\n",
       " (350, 350),\n",
       " (350, 350),\n",
       " (350, 350),\n",
       " (350, 350),\n",
       " (350, 350),\n",
       " (350, 350),\n",
       " (350, 350),\n",
       " (350, 350),\n",
       " (350, 350),\n",
       " (350, 350),\n",
       " (350, 350),\n",
       " (350, 350),\n",
       " (350, 350),\n",
       " (350, 350),\n",
       " (350, 350),\n",
       " (350, 350),\n",
       " (350, 350),\n",
       " (350, 350),\n",
       " (350, 350),\n",
       " (350, 350),\n",
       " (350, 350),\n",
       " (350, 350),\n",
       " (350, 350),\n",
       " (350, 350),\n",
       " (350, 350),\n",
       " (350, 350),\n",
       " (350, 350),\n",
       " (350, 350),\n",
       " (350, 350),\n",
       " (350, 350),\n",
       " (350, 350),\n",
       " (350, 350),\n",
       " (350, 350),\n",
       " (350, 350),\n",
       " (350, 350),\n",
       " (350, 350),\n",
       " (350, 350),\n",
       " (350, 350),\n",
       " (350, 350),\n",
       " (350, 350),\n",
       " (350, 350),\n",
       " (350, 350),\n",
       " ...]"
      ]
     },
     "execution_count": 14,
     "metadata": {},
     "output_type": "execute_result"
    }
   ],
   "source": [
    "print(\"Beds\")\n",
    "image_process.imgSizeList(beds_path)\n",
    "print(\"Chairs\")\n",
    "image_process.imgSizeList(chairs_path)\n",
    "print(\"Dressers\")\n",
    "image_process.imgSizeList(dressers_path)\n",
    "print(\"Lamps\")\n",
    "image_process.imgSizeList(lamps_path)\n",
    "print(\"sofas\")\n",
    "image_process.imgSizeList(sofas_path)\n",
    "print(\"Tables\")\n",
    "image_process.imgSizeList(tables_path)"
   ]
  },
  {
   "cell_type": "markdown",
   "metadata": {},
   "source": [
    "### Visualization"
   ]
  },
  {
   "cell_type": "code",
   "execution_count": 15,
   "metadata": {},
   "outputs": [
    {
     "name": "stderr",
     "output_type": "stream",
     "text": [
      "Getting image size: 100%|██████████| 6578/6578 [00:01<00:00, 4957.00it/s]\n"
     ]
    },
    {
     "name": "stdout",
     "output_type": "stream",
     "text": [
      "224x224 pixels:  0\n",
      "350x350 pixels:  6578\n",
      "Other size:  0\n"
     ]
    },
    {
     "name": "stderr",
     "output_type": "stream",
     "text": [
      "Getting image size: 100%|██████████| 31712/31712 [00:06<00:00, 4942.09it/s]\n"
     ]
    },
    {
     "name": "stdout",
     "output_type": "stream",
     "text": [
      "224x224 pixels:  0\n",
      "350x350 pixels:  31712\n",
      "Other size:  0\n"
     ]
    },
    {
     "name": "stderr",
     "output_type": "stream",
     "text": [
      "Getting image size: 100%|██████████| 7871/7871 [00:01<00:00, 4898.79it/s]\n"
     ]
    },
    {
     "name": "stdout",
     "output_type": "stream",
     "text": [
      "224x224 pixels:  0\n",
      "350x350 pixels:  7871\n",
      "Other size:  0\n"
     ]
    },
    {
     "name": "stderr",
     "output_type": "stream",
     "text": [
      "Getting image size: 100%|██████████| 32401/32401 [00:06<00:00, 5159.19it/s]\n"
     ]
    },
    {
     "name": "stdout",
     "output_type": "stream",
     "text": [
      "224x224 pixels:  0\n",
      "350x350 pixels:  32401\n",
      "Other size:  0\n"
     ]
    },
    {
     "name": "stderr",
     "output_type": "stream",
     "text": [
      "Getting image size: 100%|██████████| 4080/4080 [00:00<00:00, 4987.62it/s]\n"
     ]
    },
    {
     "name": "stdout",
     "output_type": "stream",
     "text": [
      "224x224 pixels:  0\n",
      "350x350 pixels:  4080\n",
      "Other size:  0\n"
     ]
    },
    {
     "name": "stderr",
     "output_type": "stream",
     "text": [
      "Getting image size: 100%|██████████| 17100/17100 [00:03<00:00, 5186.36it/s]"
     ]
    },
    {
     "name": "stdout",
     "output_type": "stream",
     "text": [
      "224x224 pixels:  0\n",
      "350x350 pixels:  17100\n",
      "Other size:  0\n"
     ]
    },
    {
     "name": "stderr",
     "output_type": "stream",
     "text": [
      "\n"
     ]
    }
   ],
   "source": [
    "df_bed_dims = pd.DataFrame(image_process.imgSizeList(beds_path), columns=['width', 'height'])\n",
    "df_chair_dims = pd.DataFrame(image_process.imgSizeList(chairs_path), columns=['width', 'height'])\n",
    "df_dresser_dims = pd.DataFrame(image_process.imgSizeList(dressers_path), columns=['width', 'height'])\n",
    "df_lamp_dims = pd.DataFrame(image_process.imgSizeList(lamps_path), columns=['width', 'height'])\n",
    "df_sofa_dims = pd.DataFrame(image_process.imgSizeList(sofas_path), columns=['width', 'height'])\n",
    "df_table_dims = pd.DataFrame(image_process.imgSizeList(tables_path), columns=['width', 'height'])\n"
   ]
  },
  {
   "cell_type": "markdown",
   "metadata": {},
   "source": [
    "#### Recheck data in each dataset"
   ]
  },
  {
   "cell_type": "code",
   "execution_count": 16,
   "metadata": {},
   "outputs": [
    {
     "data": {
      "text/html": [
       "<div>\n",
       "<style scoped>\n",
       "    .dataframe tbody tr th:only-of-type {\n",
       "        vertical-align: middle;\n",
       "    }\n",
       "\n",
       "    .dataframe tbody tr th {\n",
       "        vertical-align: top;\n",
       "    }\n",
       "\n",
       "    .dataframe thead th {\n",
       "        text-align: right;\n",
       "    }\n",
       "</style>\n",
       "<table border=\"1\" class=\"dataframe\">\n",
       "  <thead>\n",
       "    <tr style=\"text-align: right;\">\n",
       "      <th></th>\n",
       "      <th>width</th>\n",
       "      <th>height</th>\n",
       "    </tr>\n",
       "  </thead>\n",
       "  <tbody>\n",
       "    <tr>\n",
       "      <th>0</th>\n",
       "      <td>350</td>\n",
       "      <td>350</td>\n",
       "    </tr>\n",
       "    <tr>\n",
       "      <th>1</th>\n",
       "      <td>350</td>\n",
       "      <td>350</td>\n",
       "    </tr>\n",
       "    <tr>\n",
       "      <th>2</th>\n",
       "      <td>350</td>\n",
       "      <td>350</td>\n",
       "    </tr>\n",
       "    <tr>\n",
       "      <th>3</th>\n",
       "      <td>350</td>\n",
       "      <td>350</td>\n",
       "    </tr>\n",
       "    <tr>\n",
       "      <th>4</th>\n",
       "      <td>350</td>\n",
       "      <td>350</td>\n",
       "    </tr>\n",
       "    <tr>\n",
       "      <th>...</th>\n",
       "      <td>...</td>\n",
       "      <td>...</td>\n",
       "    </tr>\n",
       "    <tr>\n",
       "      <th>6573</th>\n",
       "      <td>350</td>\n",
       "      <td>350</td>\n",
       "    </tr>\n",
       "    <tr>\n",
       "      <th>6574</th>\n",
       "      <td>350</td>\n",
       "      <td>350</td>\n",
       "    </tr>\n",
       "    <tr>\n",
       "      <th>6575</th>\n",
       "      <td>350</td>\n",
       "      <td>350</td>\n",
       "    </tr>\n",
       "    <tr>\n",
       "      <th>6576</th>\n",
       "      <td>350</td>\n",
       "      <td>350</td>\n",
       "    </tr>\n",
       "    <tr>\n",
       "      <th>6577</th>\n",
       "      <td>350</td>\n",
       "      <td>350</td>\n",
       "    </tr>\n",
       "  </tbody>\n",
       "</table>\n",
       "<p>6578 rows × 2 columns</p>\n",
       "</div>"
      ],
      "text/plain": [
       "      width  height\n",
       "0       350     350\n",
       "1       350     350\n",
       "2       350     350\n",
       "3       350     350\n",
       "4       350     350\n",
       "...     ...     ...\n",
       "6573    350     350\n",
       "6574    350     350\n",
       "6575    350     350\n",
       "6576    350     350\n",
       "6577    350     350\n",
       "\n",
       "[6578 rows x 2 columns]"
      ]
     },
     "execution_count": 16,
     "metadata": {},
     "output_type": "execute_result"
    }
   ],
   "source": [
    "df_bed_dims"
   ]
  },
  {
   "cell_type": "code",
   "execution_count": 17,
   "metadata": {},
   "outputs": [
    {
     "data": {
      "text/html": [
       "<div>\n",
       "<style scoped>\n",
       "    .dataframe tbody tr th:only-of-type {\n",
       "        vertical-align: middle;\n",
       "    }\n",
       "\n",
       "    .dataframe tbody tr th {\n",
       "        vertical-align: top;\n",
       "    }\n",
       "\n",
       "    .dataframe thead th {\n",
       "        text-align: right;\n",
       "    }\n",
       "</style>\n",
       "<table border=\"1\" class=\"dataframe\">\n",
       "  <thead>\n",
       "    <tr style=\"text-align: right;\">\n",
       "      <th></th>\n",
       "      <th>width</th>\n",
       "      <th>height</th>\n",
       "    </tr>\n",
       "  </thead>\n",
       "  <tbody>\n",
       "    <tr>\n",
       "      <th>0</th>\n",
       "      <td>350</td>\n",
       "      <td>350</td>\n",
       "    </tr>\n",
       "    <tr>\n",
       "      <th>1</th>\n",
       "      <td>350</td>\n",
       "      <td>350</td>\n",
       "    </tr>\n",
       "    <tr>\n",
       "      <th>2</th>\n",
       "      <td>350</td>\n",
       "      <td>350</td>\n",
       "    </tr>\n",
       "    <tr>\n",
       "      <th>3</th>\n",
       "      <td>350</td>\n",
       "      <td>350</td>\n",
       "    </tr>\n",
       "    <tr>\n",
       "      <th>4</th>\n",
       "      <td>350</td>\n",
       "      <td>350</td>\n",
       "    </tr>\n",
       "    <tr>\n",
       "      <th>...</th>\n",
       "      <td>...</td>\n",
       "      <td>...</td>\n",
       "    </tr>\n",
       "    <tr>\n",
       "      <th>31707</th>\n",
       "      <td>350</td>\n",
       "      <td>350</td>\n",
       "    </tr>\n",
       "    <tr>\n",
       "      <th>31708</th>\n",
       "      <td>350</td>\n",
       "      <td>350</td>\n",
       "    </tr>\n",
       "    <tr>\n",
       "      <th>31709</th>\n",
       "      <td>350</td>\n",
       "      <td>350</td>\n",
       "    </tr>\n",
       "    <tr>\n",
       "      <th>31710</th>\n",
       "      <td>350</td>\n",
       "      <td>350</td>\n",
       "    </tr>\n",
       "    <tr>\n",
       "      <th>31711</th>\n",
       "      <td>350</td>\n",
       "      <td>350</td>\n",
       "    </tr>\n",
       "  </tbody>\n",
       "</table>\n",
       "<p>31712 rows × 2 columns</p>\n",
       "</div>"
      ],
      "text/plain": [
       "       width  height\n",
       "0        350     350\n",
       "1        350     350\n",
       "2        350     350\n",
       "3        350     350\n",
       "4        350     350\n",
       "...      ...     ...\n",
       "31707    350     350\n",
       "31708    350     350\n",
       "31709    350     350\n",
       "31710    350     350\n",
       "31711    350     350\n",
       "\n",
       "[31712 rows x 2 columns]"
      ]
     },
     "execution_count": 17,
     "metadata": {},
     "output_type": "execute_result"
    }
   ],
   "source": [
    "df_chair_dims"
   ]
  },
  {
   "cell_type": "code",
   "execution_count": 18,
   "metadata": {},
   "outputs": [
    {
     "data": {
      "text/html": [
       "<div>\n",
       "<style scoped>\n",
       "    .dataframe tbody tr th:only-of-type {\n",
       "        vertical-align: middle;\n",
       "    }\n",
       "\n",
       "    .dataframe tbody tr th {\n",
       "        vertical-align: top;\n",
       "    }\n",
       "\n",
       "    .dataframe thead th {\n",
       "        text-align: right;\n",
       "    }\n",
       "</style>\n",
       "<table border=\"1\" class=\"dataframe\">\n",
       "  <thead>\n",
       "    <tr style=\"text-align: right;\">\n",
       "      <th></th>\n",
       "      <th>width</th>\n",
       "      <th>height</th>\n",
       "    </tr>\n",
       "  </thead>\n",
       "  <tbody>\n",
       "    <tr>\n",
       "      <th>0</th>\n",
       "      <td>350</td>\n",
       "      <td>350</td>\n",
       "    </tr>\n",
       "    <tr>\n",
       "      <th>1</th>\n",
       "      <td>350</td>\n",
       "      <td>350</td>\n",
       "    </tr>\n",
       "    <tr>\n",
       "      <th>2</th>\n",
       "      <td>350</td>\n",
       "      <td>350</td>\n",
       "    </tr>\n",
       "    <tr>\n",
       "      <th>3</th>\n",
       "      <td>350</td>\n",
       "      <td>350</td>\n",
       "    </tr>\n",
       "    <tr>\n",
       "      <th>4</th>\n",
       "      <td>350</td>\n",
       "      <td>350</td>\n",
       "    </tr>\n",
       "    <tr>\n",
       "      <th>...</th>\n",
       "      <td>...</td>\n",
       "      <td>...</td>\n",
       "    </tr>\n",
       "    <tr>\n",
       "      <th>7866</th>\n",
       "      <td>350</td>\n",
       "      <td>350</td>\n",
       "    </tr>\n",
       "    <tr>\n",
       "      <th>7867</th>\n",
       "      <td>350</td>\n",
       "      <td>350</td>\n",
       "    </tr>\n",
       "    <tr>\n",
       "      <th>7868</th>\n",
       "      <td>350</td>\n",
       "      <td>350</td>\n",
       "    </tr>\n",
       "    <tr>\n",
       "      <th>7869</th>\n",
       "      <td>350</td>\n",
       "      <td>350</td>\n",
       "    </tr>\n",
       "    <tr>\n",
       "      <th>7870</th>\n",
       "      <td>350</td>\n",
       "      <td>350</td>\n",
       "    </tr>\n",
       "  </tbody>\n",
       "</table>\n",
       "<p>7871 rows × 2 columns</p>\n",
       "</div>"
      ],
      "text/plain": [
       "      width  height\n",
       "0       350     350\n",
       "1       350     350\n",
       "2       350     350\n",
       "3       350     350\n",
       "4       350     350\n",
       "...     ...     ...\n",
       "7866    350     350\n",
       "7867    350     350\n",
       "7868    350     350\n",
       "7869    350     350\n",
       "7870    350     350\n",
       "\n",
       "[7871 rows x 2 columns]"
      ]
     },
     "execution_count": 18,
     "metadata": {},
     "output_type": "execute_result"
    }
   ],
   "source": [
    "df_dresser_dims"
   ]
  },
  {
   "cell_type": "code",
   "execution_count": 19,
   "metadata": {},
   "outputs": [
    {
     "data": {
      "text/html": [
       "<div>\n",
       "<style scoped>\n",
       "    .dataframe tbody tr th:only-of-type {\n",
       "        vertical-align: middle;\n",
       "    }\n",
       "\n",
       "    .dataframe tbody tr th {\n",
       "        vertical-align: top;\n",
       "    }\n",
       "\n",
       "    .dataframe thead th {\n",
       "        text-align: right;\n",
       "    }\n",
       "</style>\n",
       "<table border=\"1\" class=\"dataframe\">\n",
       "  <thead>\n",
       "    <tr style=\"text-align: right;\">\n",
       "      <th></th>\n",
       "      <th>width</th>\n",
       "      <th>height</th>\n",
       "    </tr>\n",
       "  </thead>\n",
       "  <tbody>\n",
       "    <tr>\n",
       "      <th>0</th>\n",
       "      <td>350</td>\n",
       "      <td>350</td>\n",
       "    </tr>\n",
       "    <tr>\n",
       "      <th>1</th>\n",
       "      <td>350</td>\n",
       "      <td>350</td>\n",
       "    </tr>\n",
       "    <tr>\n",
       "      <th>2</th>\n",
       "      <td>350</td>\n",
       "      <td>350</td>\n",
       "    </tr>\n",
       "    <tr>\n",
       "      <th>3</th>\n",
       "      <td>350</td>\n",
       "      <td>350</td>\n",
       "    </tr>\n",
       "    <tr>\n",
       "      <th>4</th>\n",
       "      <td>350</td>\n",
       "      <td>350</td>\n",
       "    </tr>\n",
       "    <tr>\n",
       "      <th>...</th>\n",
       "      <td>...</td>\n",
       "      <td>...</td>\n",
       "    </tr>\n",
       "    <tr>\n",
       "      <th>32396</th>\n",
       "      <td>350</td>\n",
       "      <td>350</td>\n",
       "    </tr>\n",
       "    <tr>\n",
       "      <th>32397</th>\n",
       "      <td>350</td>\n",
       "      <td>350</td>\n",
       "    </tr>\n",
       "    <tr>\n",
       "      <th>32398</th>\n",
       "      <td>350</td>\n",
       "      <td>350</td>\n",
       "    </tr>\n",
       "    <tr>\n",
       "      <th>32399</th>\n",
       "      <td>350</td>\n",
       "      <td>350</td>\n",
       "    </tr>\n",
       "    <tr>\n",
       "      <th>32400</th>\n",
       "      <td>350</td>\n",
       "      <td>350</td>\n",
       "    </tr>\n",
       "  </tbody>\n",
       "</table>\n",
       "<p>32401 rows × 2 columns</p>\n",
       "</div>"
      ],
      "text/plain": [
       "       width  height\n",
       "0        350     350\n",
       "1        350     350\n",
       "2        350     350\n",
       "3        350     350\n",
       "4        350     350\n",
       "...      ...     ...\n",
       "32396    350     350\n",
       "32397    350     350\n",
       "32398    350     350\n",
       "32399    350     350\n",
       "32400    350     350\n",
       "\n",
       "[32401 rows x 2 columns]"
      ]
     },
     "execution_count": 19,
     "metadata": {},
     "output_type": "execute_result"
    }
   ],
   "source": [
    "df_lamp_dims"
   ]
  },
  {
   "cell_type": "code",
   "execution_count": 20,
   "metadata": {},
   "outputs": [
    {
     "data": {
      "text/html": [
       "<div>\n",
       "<style scoped>\n",
       "    .dataframe tbody tr th:only-of-type {\n",
       "        vertical-align: middle;\n",
       "    }\n",
       "\n",
       "    .dataframe tbody tr th {\n",
       "        vertical-align: top;\n",
       "    }\n",
       "\n",
       "    .dataframe thead th {\n",
       "        text-align: right;\n",
       "    }\n",
       "</style>\n",
       "<table border=\"1\" class=\"dataframe\">\n",
       "  <thead>\n",
       "    <tr style=\"text-align: right;\">\n",
       "      <th></th>\n",
       "      <th>width</th>\n",
       "      <th>height</th>\n",
       "    </tr>\n",
       "  </thead>\n",
       "  <tbody>\n",
       "    <tr>\n",
       "      <th>0</th>\n",
       "      <td>350</td>\n",
       "      <td>350</td>\n",
       "    </tr>\n",
       "    <tr>\n",
       "      <th>1</th>\n",
       "      <td>350</td>\n",
       "      <td>350</td>\n",
       "    </tr>\n",
       "    <tr>\n",
       "      <th>2</th>\n",
       "      <td>350</td>\n",
       "      <td>350</td>\n",
       "    </tr>\n",
       "    <tr>\n",
       "      <th>3</th>\n",
       "      <td>350</td>\n",
       "      <td>350</td>\n",
       "    </tr>\n",
       "    <tr>\n",
       "      <th>4</th>\n",
       "      <td>350</td>\n",
       "      <td>350</td>\n",
       "    </tr>\n",
       "    <tr>\n",
       "      <th>...</th>\n",
       "      <td>...</td>\n",
       "      <td>...</td>\n",
       "    </tr>\n",
       "    <tr>\n",
       "      <th>4075</th>\n",
       "      <td>350</td>\n",
       "      <td>350</td>\n",
       "    </tr>\n",
       "    <tr>\n",
       "      <th>4076</th>\n",
       "      <td>350</td>\n",
       "      <td>350</td>\n",
       "    </tr>\n",
       "    <tr>\n",
       "      <th>4077</th>\n",
       "      <td>350</td>\n",
       "      <td>350</td>\n",
       "    </tr>\n",
       "    <tr>\n",
       "      <th>4078</th>\n",
       "      <td>350</td>\n",
       "      <td>350</td>\n",
       "    </tr>\n",
       "    <tr>\n",
       "      <th>4079</th>\n",
       "      <td>350</td>\n",
       "      <td>350</td>\n",
       "    </tr>\n",
       "  </tbody>\n",
       "</table>\n",
       "<p>4080 rows × 2 columns</p>\n",
       "</div>"
      ],
      "text/plain": [
       "      width  height\n",
       "0       350     350\n",
       "1       350     350\n",
       "2       350     350\n",
       "3       350     350\n",
       "4       350     350\n",
       "...     ...     ...\n",
       "4075    350     350\n",
       "4076    350     350\n",
       "4077    350     350\n",
       "4078    350     350\n",
       "4079    350     350\n",
       "\n",
       "[4080 rows x 2 columns]"
      ]
     },
     "execution_count": 20,
     "metadata": {},
     "output_type": "execute_result"
    }
   ],
   "source": [
    "df_sofa_dims"
   ]
  },
  {
   "cell_type": "code",
   "execution_count": 21,
   "metadata": {},
   "outputs": [
    {
     "data": {
      "text/html": [
       "<div>\n",
       "<style scoped>\n",
       "    .dataframe tbody tr th:only-of-type {\n",
       "        vertical-align: middle;\n",
       "    }\n",
       "\n",
       "    .dataframe tbody tr th {\n",
       "        vertical-align: top;\n",
       "    }\n",
       "\n",
       "    .dataframe thead th {\n",
       "        text-align: right;\n",
       "    }\n",
       "</style>\n",
       "<table border=\"1\" class=\"dataframe\">\n",
       "  <thead>\n",
       "    <tr style=\"text-align: right;\">\n",
       "      <th></th>\n",
       "      <th>width</th>\n",
       "      <th>height</th>\n",
       "    </tr>\n",
       "  </thead>\n",
       "  <tbody>\n",
       "    <tr>\n",
       "      <th>0</th>\n",
       "      <td>350</td>\n",
       "      <td>350</td>\n",
       "    </tr>\n",
       "    <tr>\n",
       "      <th>1</th>\n",
       "      <td>350</td>\n",
       "      <td>350</td>\n",
       "    </tr>\n",
       "    <tr>\n",
       "      <th>2</th>\n",
       "      <td>350</td>\n",
       "      <td>350</td>\n",
       "    </tr>\n",
       "    <tr>\n",
       "      <th>3</th>\n",
       "      <td>350</td>\n",
       "      <td>350</td>\n",
       "    </tr>\n",
       "    <tr>\n",
       "      <th>4</th>\n",
       "      <td>350</td>\n",
       "      <td>350</td>\n",
       "    </tr>\n",
       "    <tr>\n",
       "      <th>...</th>\n",
       "      <td>...</td>\n",
       "      <td>...</td>\n",
       "    </tr>\n",
       "    <tr>\n",
       "      <th>17095</th>\n",
       "      <td>350</td>\n",
       "      <td>350</td>\n",
       "    </tr>\n",
       "    <tr>\n",
       "      <th>17096</th>\n",
       "      <td>350</td>\n",
       "      <td>350</td>\n",
       "    </tr>\n",
       "    <tr>\n",
       "      <th>17097</th>\n",
       "      <td>350</td>\n",
       "      <td>350</td>\n",
       "    </tr>\n",
       "    <tr>\n",
       "      <th>17098</th>\n",
       "      <td>350</td>\n",
       "      <td>350</td>\n",
       "    </tr>\n",
       "    <tr>\n",
       "      <th>17099</th>\n",
       "      <td>350</td>\n",
       "      <td>350</td>\n",
       "    </tr>\n",
       "  </tbody>\n",
       "</table>\n",
       "<p>17100 rows × 2 columns</p>\n",
       "</div>"
      ],
      "text/plain": [
       "       width  height\n",
       "0        350     350\n",
       "1        350     350\n",
       "2        350     350\n",
       "3        350     350\n",
       "4        350     350\n",
       "...      ...     ...\n",
       "17095    350     350\n",
       "17096    350     350\n",
       "17097    350     350\n",
       "17098    350     350\n",
       "17099    350     350\n",
       "\n",
       "[17100 rows x 2 columns]"
      ]
     },
     "execution_count": 21,
     "metadata": {},
     "output_type": "execute_result"
    }
   ],
   "source": [
    "df_table_dims"
   ]
  },
  {
   "cell_type": "markdown",
   "metadata": {},
   "source": [
    "#### Visualization of each dataset"
   ]
  },
  {
   "cell_type": "code",
   "execution_count": 22,
   "metadata": {},
   "outputs": [
    {
     "data": {
      "text/plain": [
       "<Axes: xlabel='width', ylabel='height'>"
      ]
     },
     "execution_count": 22,
     "metadata": {},
     "output_type": "execute_result"
    },
    {
     "data": {
      "image/png": "[encoded data removed]",
      "text/plain": [
       "<Figure size 640x480 with 1 Axes>"
      ]
     },
     "metadata": {},
     "output_type": "display_data"
    }
   ],
   "source": [
    "df_bed_dims.plot.scatter(x=\"width\", y=\"height\")"
   ]
  },
  {
   "cell_type": "code",
   "execution_count": 23,
   "metadata": {},
   "outputs": [
    {
     "data": {
      "text/plain": [
       "<Axes: xlabel='width', ylabel='height'>"
      ]
     },
     "execution_count": 23,
     "metadata": {},
     "output_type": "execute_result"
    },
    {
     "data": {
      "image/png": "[encoded data removed]",
      "text/plain": [
       "<Figure size 640x480 with 1 Axes>"
      ]
     },
     "metadata": {},
     "output_type": "display_data"
    }
   ],
   "source": [
    "df_chair_dims.plot.scatter(x=\"width\", y=\"height\")"
   ]
  },
  {
   "cell_type": "code",
   "execution_count": 24,
   "metadata": {},
   "outputs": [
    {
     "data": {
      "text/plain": [
       "<Axes: xlabel='width', ylabel='height'>"
      ]
     },
     "execution_count": 24,
     "metadata": {},
     "output_type": "execute_result"
    },
    {
     "data": {
      "image/png": "[encoded data removed]",
      "text/plain": [
       "<Figure size 640x480 with 1 Axes>"
      ]
     },
     "metadata": {},
     "output_type": "display_data"
    }
   ],
   "source": [
    "df_dresser_dims.plot.scatter(x=\"width\", y=\"height\")"
   ]
  },
  {
   "cell_type": "code",
   "execution_count": 25,
   "metadata": {},
   "outputs": [
    {
     "data": {
      "text/plain": [
       "<Axes: xlabel='width', ylabel='height'>"
      ]
     },
     "execution_count": 25,
     "metadata": {},
     "output_type": "execute_result"
    },
    {
     "data": {
      "image/png": "[encoded data removed]",
      "text/plain": [
       "<Figure size 640x480 with 1 Axes>"
      ]
     },
     "metadata": {},
     "output_type": "display_data"
    }
   ],
   "source": [
    "df_lamp_dims.plot.scatter(x=\"width\", y=\"height\")"
   ]
  },
  {
   "cell_type": "code",
   "execution_count": 26,
   "metadata": {},
   "outputs": [
    {
     "data": {
      "text/plain": [
       "<Axes: xlabel='width', ylabel='height'>"
      ]
     },
     "execution_count": 26,
     "metadata": {},
     "output_type": "execute_result"
    },
    {
     "data": {
      "image/png": "[encoded data removed]",
      "text/plain": [
       "<Figure size 640x480 with 1 Axes>"
      ]
     },
     "metadata": {},
     "output_type": "display_data"
    }
   ],
   "source": [
    "df_sofa_dims.plot.scatter(x=\"width\", y=\"height\")"
   ]
  },
  {
   "cell_type": "code",
   "execution_count": 27,
   "metadata": {},
   "outputs": [
    {
     "data": {
      "text/plain": [
       "<Axes: xlabel='width', ylabel='height'>"
      ]
     },
     "execution_count": 27,
     "metadata": {},
     "output_type": "execute_result"
    },
    {
     "data": {
      "image/png": "[encoded data removed]",
      "text/plain": [
       "<Figure size 640x480 with 1 Axes>"
      ]
     },
     "metadata": {},
     "output_type": "display_data"
    }
   ],
   "source": [
    "df_table_dims.plot.scatter(x=\"width\", y=\"height\")"
   ]
  },
  {
   "cell_type": "markdown",
   "metadata": {},
   "source": [
    "Investigate anomaly data in the dataframe"
   ]
  },
  {
   "cell_type": "code",
   "execution_count": 28,
   "metadata": {},
   "outputs": [
    {
     "data": {
      "text/html": [
       "<div>\n",
       "<style scoped>\n",
       "    .dataframe tbody tr th:only-of-type {\n",
       "        vertical-align: middle;\n",
       "    }\n",
       "\n",
       "    .dataframe tbody tr th {\n",
       "        vertical-align: top;\n",
       "    }\n",
       "\n",
       "    .dataframe thead th {\n",
       "        text-align: right;\n",
       "    }\n",
       "</style>\n",
       "<table border=\"1\" class=\"dataframe\">\n",
       "  <thead>\n",
       "    <tr style=\"text-align: right;\">\n",
       "      <th></th>\n",
       "      <th>count</th>\n",
       "      <th>mean</th>\n",
       "      <th>std</th>\n",
       "      <th>min</th>\n",
       "      <th>25%</th>\n",
       "      <th>50%</th>\n",
       "      <th>75%</th>\n",
       "      <th>max</th>\n",
       "    </tr>\n",
       "  </thead>\n",
       "  <tbody>\n",
       "    <tr>\n",
       "      <th>width</th>\n",
       "      <td>6578.0</td>\n",
       "      <td>350.0</td>\n",
       "      <td>0.0</td>\n",
       "      <td>350.0</td>\n",
       "      <td>350.0</td>\n",
       "      <td>350.0</td>\n",
       "      <td>350.0</td>\n",
       "      <td>350.0</td>\n",
       "    </tr>\n",
       "    <tr>\n",
       "      <th>height</th>\n",
       "      <td>6578.0</td>\n",
       "      <td>350.0</td>\n",
       "      <td>0.0</td>\n",
       "      <td>350.0</td>\n",
       "      <td>350.0</td>\n",
       "      <td>350.0</td>\n",
       "      <td>350.0</td>\n",
       "      <td>350.0</td>\n",
       "    </tr>\n",
       "  </tbody>\n",
       "</table>\n",
       "</div>"
      ],
      "text/plain": [
       "         count   mean  std    min    25%    50%    75%    max\n",
       "width   6578.0  350.0  0.0  350.0  350.0  350.0  350.0  350.0\n",
       "height  6578.0  350.0  0.0  350.0  350.0  350.0  350.0  350.0"
      ]
     },
     "execution_count": 28,
     "metadata": {},
     "output_type": "execute_result"
    }
   ],
   "source": [
    "df_bed_dims.describe().T"
   ]
  },
  {
   "cell_type": "code",
   "execution_count": 29,
   "metadata": {},
   "outputs": [
    {
     "data": {
      "text/html": [
       "<div>\n",
       "<style scoped>\n",
       "    .dataframe tbody tr th:only-of-type {\n",
       "        vertical-align: middle;\n",
       "    }\n",
       "\n",
       "    .dataframe tbody tr th {\n",
       "        vertical-align: top;\n",
       "    }\n",
       "\n",
       "    .dataframe thead th {\n",
       "        text-align: right;\n",
       "    }\n",
       "</style>\n",
       "<table border=\"1\" class=\"dataframe\">\n",
       "  <thead>\n",
       "    <tr style=\"text-align: right;\">\n",
       "      <th></th>\n",
       "      <th>count</th>\n",
       "      <th>mean</th>\n",
       "      <th>std</th>\n",
       "      <th>min</th>\n",
       "      <th>25%</th>\n",
       "      <th>50%</th>\n",
       "      <th>75%</th>\n",
       "      <th>max</th>\n",
       "    </tr>\n",
       "  </thead>\n",
       "  <tbody>\n",
       "    <tr>\n",
       "      <th>width</th>\n",
       "      <td>31712.0</td>\n",
       "      <td>350.0</td>\n",
       "      <td>0.0</td>\n",
       "      <td>350.0</td>\n",
       "      <td>350.0</td>\n",
       "      <td>350.0</td>\n",
       "      <td>350.0</td>\n",
       "      <td>350.0</td>\n",
       "    </tr>\n",
       "    <tr>\n",
       "      <th>height</th>\n",
       "      <td>31712.0</td>\n",
       "      <td>350.0</td>\n",
       "      <td>0.0</td>\n",
       "      <td>350.0</td>\n",
       "      <td>350.0</td>\n",
       "      <td>350.0</td>\n",
       "      <td>350.0</td>\n",
       "      <td>350.0</td>\n",
       "    </tr>\n",
       "  </tbody>\n",
       "</table>\n",
       "</div>"
      ],
      "text/plain": [
       "          count   mean  std    min    25%    50%    75%    max\n",
       "width   31712.0  350.0  0.0  350.0  350.0  350.0  350.0  350.0\n",
       "height  31712.0  350.0  0.0  350.0  350.0  350.0  350.0  350.0"
      ]
     },
     "execution_count": 29,
     "metadata": {},
     "output_type": "execute_result"
    }
   ],
   "source": [
    "df_chair_dims.describe().T"
   ]
  },
  {
   "cell_type": "code",
   "execution_count": 30,
   "metadata": {},
   "outputs": [
    {
     "data": {
      "text/html": [
       "<div>\n",
       "<style scoped>\n",
       "    .dataframe tbody tr th:only-of-type {\n",
       "        vertical-align: middle;\n",
       "    }\n",
       "\n",
       "    .dataframe tbody tr th {\n",
       "        vertical-align: top;\n",
       "    }\n",
       "\n",
       "    .dataframe thead th {\n",
       "        text-align: right;\n",
       "    }\n",
       "</style>\n",
       "<table border=\"1\" class=\"dataframe\">\n",
       "  <thead>\n",
       "    <tr style=\"text-align: right;\">\n",
       "      <th></th>\n",
       "      <th>count</th>\n",
       "      <th>mean</th>\n",
       "      <th>std</th>\n",
       "      <th>min</th>\n",
       "      <th>25%</th>\n",
       "      <th>50%</th>\n",
       "      <th>75%</th>\n",
       "      <th>max</th>\n",
       "    </tr>\n",
       "  </thead>\n",
       "  <tbody>\n",
       "    <tr>\n",
       "      <th>width</th>\n",
       "      <td>7871.0</td>\n",
       "      <td>350.0</td>\n",
       "      <td>0.0</td>\n",
       "      <td>350.0</td>\n",
       "      <td>350.0</td>\n",
       "      <td>350.0</td>\n",
       "      <td>350.0</td>\n",
       "      <td>350.0</td>\n",
       "    </tr>\n",
       "    <tr>\n",
       "      <th>height</th>\n",
       "      <td>7871.0</td>\n",
       "      <td>350.0</td>\n",
       "      <td>0.0</td>\n",
       "      <td>350.0</td>\n",
       "      <td>350.0</td>\n",
       "      <td>350.0</td>\n",
       "      <td>350.0</td>\n",
       "      <td>350.0</td>\n",
       "    </tr>\n",
       "  </tbody>\n",
       "</table>\n",
       "</div>"
      ],
      "text/plain": [
       "         count   mean  std    min    25%    50%    75%    max\n",
       "width   7871.0  350.0  0.0  350.0  350.0  350.0  350.0  350.0\n",
       "height  7871.0  350.0  0.0  350.0  350.0  350.0  350.0  350.0"
      ]
     },
     "execution_count": 30,
     "metadata": {},
     "output_type": "execute_result"
    }
   ],
   "source": [
    "df_dresser_dims.describe().T"
   ]
  },
  {
   "cell_type": "code",
   "execution_count": 31,
   "metadata": {},
   "outputs": [
    {
     "data": {
      "text/html": [
       "<div>\n",
       "<style scoped>\n",
       "    .dataframe tbody tr th:only-of-type {\n",
       "        vertical-align: middle;\n",
       "    }\n",
       "\n",
       "    .dataframe tbody tr th {\n",
       "        vertical-align: top;\n",
       "    }\n",
       "\n",
       "    .dataframe thead th {\n",
       "        text-align: right;\n",
       "    }\n",
       "</style>\n",
       "<table border=\"1\" class=\"dataframe\">\n",
       "  <thead>\n",
       "    <tr style=\"text-align: right;\">\n",
       "      <th></th>\n",
       "      <th>count</th>\n",
       "      <th>mean</th>\n",
       "      <th>std</th>\n",
       "      <th>min</th>\n",
       "      <th>25%</th>\n",
       "      <th>50%</th>\n",
       "      <th>75%</th>\n",
       "      <th>max</th>\n",
       "    </tr>\n",
       "  </thead>\n",
       "  <tbody>\n",
       "    <tr>\n",
       "      <th>width</th>\n",
       "      <td>32401.0</td>\n",
       "      <td>350.0</td>\n",
       "      <td>0.0</td>\n",
       "      <td>350.0</td>\n",
       "      <td>350.0</td>\n",
       "      <td>350.0</td>\n",
       "      <td>350.0</td>\n",
       "      <td>350.0</td>\n",
       "    </tr>\n",
       "    <tr>\n",
       "      <th>height</th>\n",
       "      <td>32401.0</td>\n",
       "      <td>350.0</td>\n",
       "      <td>0.0</td>\n",
       "      <td>350.0</td>\n",
       "      <td>350.0</td>\n",
       "      <td>350.0</td>\n",
       "      <td>350.0</td>\n",
       "      <td>350.0</td>\n",
       "    </tr>\n",
       "  </tbody>\n",
       "</table>\n",
       "</div>"
      ],
      "text/plain": [
       "          count   mean  std    min    25%    50%    75%    max\n",
       "width   32401.0  350.0  0.0  350.0  350.0  350.0  350.0  350.0\n",
       "height  32401.0  350.0  0.0  350.0  350.0  350.0  350.0  350.0"
      ]
     },
     "execution_count": 31,
     "metadata": {},
     "output_type": "execute_result"
    }
   ],
   "source": [
    "df_lamp_dims.describe().T"
   ]
  },
  {
   "cell_type": "code",
   "execution_count": 32,
   "metadata": {},
   "outputs": [
    {
     "data": {
      "text/html": [
       "<div>\n",
       "<style scoped>\n",
       "    .dataframe tbody tr th:only-of-type {\n",
       "        vertical-align: middle;\n",
       "    }\n",
       "\n",
       "    .dataframe tbody tr th {\n",
       "        vertical-align: top;\n",
       "    }\n",
       "\n",
       "    .dataframe thead th {\n",
       "        text-align: right;\n",
       "    }\n",
       "</style>\n",
       "<table border=\"1\" class=\"dataframe\">\n",
       "  <thead>\n",
       "    <tr style=\"text-align: right;\">\n",
       "      <th></th>\n",
       "      <th>count</th>\n",
       "      <th>mean</th>\n",
       "      <th>std</th>\n",
       "      <th>min</th>\n",
       "      <th>25%</th>\n",
       "      <th>50%</th>\n",
       "      <th>75%</th>\n",
       "      <th>max</th>\n",
       "    </tr>\n",
       "  </thead>\n",
       "  <tbody>\n",
       "    <tr>\n",
       "      <th>width</th>\n",
       "      <td>4080.0</td>\n",
       "      <td>350.0</td>\n",
       "      <td>0.0</td>\n",
       "      <td>350.0</td>\n",
       "      <td>350.0</td>\n",
       "      <td>350.0</td>\n",
       "      <td>350.0</td>\n",
       "      <td>350.0</td>\n",
       "    </tr>\n",
       "    <tr>\n",
       "      <th>height</th>\n",
       "      <td>4080.0</td>\n",
       "      <td>350.0</td>\n",
       "      <td>0.0</td>\n",
       "      <td>350.0</td>\n",
       "      <td>350.0</td>\n",
       "      <td>350.0</td>\n",
       "      <td>350.0</td>\n",
       "      <td>350.0</td>\n",
       "    </tr>\n",
       "  </tbody>\n",
       "</table>\n",
       "</div>"
      ],
      "text/plain": [
       "         count   mean  std    min    25%    50%    75%    max\n",
       "width   4080.0  350.0  0.0  350.0  350.0  350.0  350.0  350.0\n",
       "height  4080.0  350.0  0.0  350.0  350.0  350.0  350.0  350.0"
      ]
     },
     "execution_count": 32,
     "metadata": {},
     "output_type": "execute_result"
    }
   ],
   "source": [
    "df_sofa_dims.describe().T"
   ]
  },
  {
   "cell_type": "code",
   "execution_count": 33,
   "metadata": {},
   "outputs": [
    {
     "data": {
      "text/html": [
       "<div>\n",
       "<style scoped>\n",
       "    .dataframe tbody tr th:only-of-type {\n",
       "        vertical-align: middle;\n",
       "    }\n",
       "\n",
       "    .dataframe tbody tr th {\n",
       "        vertical-align: top;\n",
       "    }\n",
       "\n",
       "    .dataframe thead th {\n",
       "        text-align: right;\n",
       "    }\n",
       "</style>\n",
       "<table border=\"1\" class=\"dataframe\">\n",
       "  <thead>\n",
       "    <tr style=\"text-align: right;\">\n",
       "      <th></th>\n",
       "      <th>count</th>\n",
       "      <th>mean</th>\n",
       "      <th>std</th>\n",
       "      <th>min</th>\n",
       "      <th>25%</th>\n",
       "      <th>50%</th>\n",
       "      <th>75%</th>\n",
       "      <th>max</th>\n",
       "    </tr>\n",
       "  </thead>\n",
       "  <tbody>\n",
       "    <tr>\n",
       "      <th>width</th>\n",
       "      <td>17100.0</td>\n",
       "      <td>350.0</td>\n",
       "      <td>0.0</td>\n",
       "      <td>350.0</td>\n",
       "      <td>350.0</td>\n",
       "      <td>350.0</td>\n",
       "      <td>350.0</td>\n",
       "      <td>350.0</td>\n",
       "    </tr>\n",
       "    <tr>\n",
       "      <th>height</th>\n",
       "      <td>17100.0</td>\n",
       "      <td>350.0</td>\n",
       "      <td>0.0</td>\n",
       "      <td>350.0</td>\n",
       "      <td>350.0</td>\n",
       "      <td>350.0</td>\n",
       "      <td>350.0</td>\n",
       "      <td>350.0</td>\n",
       "    </tr>\n",
       "  </tbody>\n",
       "</table>\n",
       "</div>"
      ],
      "text/plain": [
       "          count   mean  std    min    25%    50%    75%    max\n",
       "width   17100.0  350.0  0.0  350.0  350.0  350.0  350.0  350.0\n",
       "height  17100.0  350.0  0.0  350.0  350.0  350.0  350.0  350.0"
      ]
     },
     "execution_count": 33,
     "metadata": {},
     "output_type": "execute_result"
    }
   ],
   "source": [
    "df_table_dims.describe().T"
   ]
  },
  {
   "cell_type": "markdown",
   "metadata": {},
   "source": [
    "## Conclusion"
   ]
  },
  {
   "cell_type": "markdown",
   "metadata": {},
   "source": [
    "-   The dataset contains 6 categories of items with 90083 items total\n",
    "-   The dataset contains all file with JPEG type\n",
    "-   The dataset contains image mainly in two dimensions: 224x224 and 350x350. However there are one anomaly dimensions in the table category which is: 500x446"
   ]
  },
  {
   "cell_type": "markdown",
   "metadata": {},
   "source": [
    "# Data Preprocessing"
   ]
  },
  {
   "cell_type": "markdown",
   "metadata": {},
   "source": [
    "## Data Cleaning\n",
    "\n"
   ]
  },
  {
   "cell_type": "markdown",
   "metadata": {},
   "source": [
    "We will start with resizing all images to 350x350. Here are some reasons:\n",
    "- The vast majority of the images are already at 350x350. Upscaling the smaller images will introduce minimal distortion compared to downscaling the majority to 224x224.\n",
    "- Upscaling generally retains more information from the original image than downscaling. While some interpolation artifacts might be introduced, they are less likely to significantly impact model performance compared to the information loss from downscaling.\n",
    "- The single image with a size of 500x448 is an outlier. which we can either upscale it to match the majority or exclude it from our dataset without significant impact."
   ]
  },
  {
   "cell_type": "code",
   "execution_count": 5,
   "metadata": {},
   "outputs": [
    {
     "name": "stdout",
     "output_type": "stream",
     "text": [
      "19948\n",
      "31733\n",
      "7892\n",
      "32422\n",
      "4101\n",
      "17121\n"
     ]
    }
   ],
   "source": [
    "print(len(beds_path))\n",
    "print(len(chairs_path))\n",
    "print(len(dressers_path))\n",
    "print(len(lamps_path))\n",
    "print(len(sofas_path))\n",
    "print(len(tables_path))"
   ]
  },
  {
   "cell_type": "markdown",
   "metadata": {},
   "source": [
    "### Data resizing"
   ]
  },
  {
   "cell_type": "code",
   "execution_count": 7,
   "metadata": {},
   "outputs": [
    {
     "name": "stderr",
     "output_type": "stream",
     "text": [
      "Resizing images: 100%|██████████| 19948/19948 [01:14<00:00, 268.07it/s]\n",
      "Resizing images: 100%|██████████| 31733/31733 [01:59<00:00, 264.56it/s]\n",
      "Resizing images: 100%|██████████| 7892/7892 [00:30<00:00, 254.81it/s]\n",
      "Resizing images: 100%|██████████| 32422/32422 [01:52<00:00, 287.51it/s]\n",
      "Resizing images: 100%|██████████| 4101/4101 [00:14<00:00, 282.14it/s]\n",
      "Resizing images: 100%|██████████| 17121/17121 [00:58<00:00, 291.43it/s]\n"
     ]
    }
   ],
   "source": [
    "size = (350,350)\n",
    "save_path = CLEANED_TRAIN_DATA_DIR\n",
    "image_process.imgResize(beds_path, size, save_path)\n",
    "image_process.imgResize(chairs_path, size, save_path)\n",
    "image_process.imgResize(dressers_path, size, save_path)\n",
    "image_process.imgResize(lamps_path, size, save_path)\n",
    "image_process.imgResize(sofas_path, size, save_path)\n",
    "image_process.imgResize(tables_path, size, save_path)"
   ]
  },
  {
   "cell_type": "markdown",
   "metadata": {},
   "source": [
    "## Getting paths from cleaned paths"
   ]
  },
  {
   "cell_type": "code",
   "execution_count": 8,
   "metadata": {},
   "outputs": [
    {
     "name": "stderr",
     "output_type": "stream",
     "text": [
      "Getting path: 100%|██████████| 17/17 [00:00<00:00, 243.47it/s]\n",
      "Getting path: 100%|██████████| 17/17 [00:00<00:00, 257.36it/s]\n",
      "Getting path: 100%|██████████| 17/17 [00:00<00:00, 3019.53it/s]\n",
      "Getting path: 100%|██████████| 17/17 [00:00<00:00, 944.45it/s]\n",
      "Getting path: 100%|██████████| 17/17 [00:00<00:00, 8501.63it/s]\n",
      "Getting path: 100%|██████████| 17/17 [00:00<00:00, 1889.03it/s]\n"
     ]
    }
   ],
   "source": [
    "cleaned_dir = CLEANED_TRAIN_DATA_DIR\n",
    "cleaned_beds_path = image_process.image_path(cleaned_dir, \"beds\")\n",
    "cleaned_chairs_path = image_process.image_path(cleaned_dir, \"chairs\")\n",
    "cleaned_dressers_path = image_process.image_path(cleaned_dir, \"dressers\")\n",
    "cleaned_lamps_path = image_process.image_path(cleaned_dir, \"lamps\")\n",
    "cleaned_sofas_path = image_process.image_path(cleaned_dir, \"sofas\")\n",
    "cleaned_tables_path = image_process.image_path(cleaned_dir, \"tables\")\n",
    "          "
   ]
  },
  {
   "cell_type": "markdown",
   "metadata": {},
   "source": [
    "## Removing duplicates "
   ]
  },
  {
   "cell_type": "code",
   "execution_count": 9,
   "metadata": {},
   "outputs": [
    {
     "name": "stderr",
     "output_type": "stream",
     "text": [
      "Finding duplicate images: 100%|██████████| 19948/19948 [00:33<00:00, 593.94it/s]\n"
     ]
    },
    {
     "name": "stdout",
     "output_type": "stream",
     "text": [
      "Number of duplicants:  1599\n",
      "Duplicants has been removed!\n"
     ]
    },
    {
     "name": "stderr",
     "output_type": "stream",
     "text": [
      "Finding duplicate images: 100%|██████████| 31733/31733 [00:52<00:00, 606.46it/s]\n"
     ]
    },
    {
     "name": "stdout",
     "output_type": "stream",
     "text": [
      "Number of duplicants:  2552\n",
      "Duplicants has been removed!\n"
     ]
    },
    {
     "name": "stderr",
     "output_type": "stream",
     "text": [
      "Finding duplicate images: 100%|██████████| 7892/7892 [00:12<00:00, 611.30it/s]\n"
     ]
    },
    {
     "name": "stdout",
     "output_type": "stream",
     "text": [
      "Number of duplicants:  643\n",
      "Duplicants has been removed!\n"
     ]
    },
    {
     "name": "stderr",
     "output_type": "stream",
     "text": [
      "Finding duplicate images: 100%|██████████| 32422/32422 [00:45<00:00, 714.98it/s]\n"
     ]
    },
    {
     "name": "stdout",
     "output_type": "stream",
     "text": [
      "Number of duplicants:  6278\n",
      "Duplicants has been removed!\n"
     ]
    },
    {
     "name": "stderr",
     "output_type": "stream",
     "text": [
      "Finding duplicate images: 100%|██████████| 4101/4101 [00:05<00:00, 733.18it/s]\n"
     ]
    },
    {
     "name": "stdout",
     "output_type": "stream",
     "text": [
      "Number of duplicants:  346\n",
      "Duplicants has been removed!\n"
     ]
    },
    {
     "name": "stderr",
     "output_type": "stream",
     "text": [
      "Finding duplicate images: 100%|██████████| 17121/17121 [00:23<00:00, 721.23it/s]"
     ]
    },
    {
     "name": "stdout",
     "output_type": "stream",
     "text": [
      "Number of duplicants:  1064\n",
      "Duplicants has been removed!\n"
     ]
    },
    {
     "name": "stderr",
     "output_type": "stream",
     "text": [
      "\n"
     ]
    }
   ],
   "source": [
    "image_process.img_dupChecks(cleaned_beds_path)\n",
    "image_process.img_dupChecks(cleaned_chairs_path)\n",
    "image_process.img_dupChecks(cleaned_dressers_path)\n",
    "image_process.img_dupChecks(cleaned_lamps_path)\n",
    "image_process.img_dupChecks(cleaned_sofas_path)\n",
    "image_process.img_dupChecks(cleaned_tables_path)\n"
   ]
  },
  {
   "cell_type": "markdown",
   "metadata": {},
   "source": [
    "## Data Augmentation"
   ]
  },
  {
   "cell_type": "code",
   "execution_count": 5,
   "metadata": {},
   "outputs": [
    {
     "name": "stderr",
     "output_type": "stream",
     "text": [
      "Resizing images:   7%|▋         | 879/12358 [01:24<18:17, 10.46it/s]\n"
     ]
    },
    {
     "ename": "KeyboardInterrupt",
     "evalue": "",
     "output_type": "error",
     "traceback": [
      "\u001b[1;31m---------------------------------------------------------------------------\u001b[0m",
      "\u001b[1;31mKeyboardInterrupt\u001b[0m                         Traceback (most recent call last)",
      "Cell \u001b[1;32mIn[5], line 1\u001b[0m\n\u001b[1;32m----> 1\u001b[0m \u001b[43mimage_process\u001b[49m\u001b[38;5;241;43m.\u001b[39;49m\u001b[43mimg_augment\u001b[49m\u001b[43m(\u001b[49m\u001b[43mbeds_path\u001b[49m\u001b[43m)\u001b[49m\n\u001b[0;32m      2\u001b[0m image_process\u001b[38;5;241m.\u001b[39mimg_augment(chairs_path)\n\u001b[0;32m      3\u001b[0m image_process\u001b[38;5;241m.\u001b[39mimg_augment(dressers_path)\n",
      "File \u001b[1;32mg:\\Assignment2\\furniture-classifier\\furniture-classifier\\utils\\image_process.py:113\u001b[0m, in \u001b[0;36mimg_augment\u001b[1;34m(lists)\u001b[0m\n\u001b[0;32m    111\u001b[0m new_save \u001b[38;5;241m=\u001b[39m save_path[\u001b[38;5;241m0\u001b[39m]\n\u001b[0;32m    112\u001b[0m image \u001b[38;5;241m=\u001b[39m tf\u001b[38;5;241m.\u001b[39mkeras\u001b[38;5;241m.\u001b[39mpreprocessing\u001b[38;5;241m.\u001b[39mimage\u001b[38;5;241m.\u001b[39mload_img(image)\n\u001b[1;32m--> 113\u001b[0m x \u001b[38;5;241m=\u001b[39m \u001b[43mtf\u001b[49m\u001b[38;5;241;43m.\u001b[39;49m\u001b[43mkeras\u001b[49m\u001b[38;5;241;43m.\u001b[39;49m\u001b[43mpreprocessing\u001b[49m\u001b[38;5;241;43m.\u001b[39;49m\u001b[43mimage\u001b[49m\u001b[38;5;241;43m.\u001b[39;49m\u001b[43mimg_to_array\u001b[49m\u001b[43m(\u001b[49m\u001b[43mimage\u001b[49m\u001b[43m)\u001b[49m\n\u001b[0;32m    114\u001b[0m x \u001b[38;5;241m=\u001b[39m x\u001b[38;5;241m.\u001b[39mreshape((\u001b[38;5;241m1\u001b[39m,) \u001b[38;5;241m+\u001b[39m x\u001b[38;5;241m.\u001b[39mshape)\n\u001b[0;32m    115\u001b[0m i \u001b[38;5;241m=\u001b[39m \u001b[38;5;241m0\u001b[39m\n",
      "File \u001b[1;32mc:\\Users\\thaih\\.conda\\envs\\Assignment2\\lib\\site-packages\\keras\\utils\\image_utils.py:324\u001b[0m, in \u001b[0;36mimg_to_array\u001b[1;34m(img, data_format, dtype)\u001b[0m\n\u001b[0;32m    320\u001b[0m     \u001b[38;5;28;01mraise\u001b[39;00m \u001b[38;5;167;01mValueError\u001b[39;00m(\u001b[38;5;124mf\u001b[39m\u001b[38;5;124m\"\u001b[39m\u001b[38;5;124mUnknown data_format: \u001b[39m\u001b[38;5;132;01m{\u001b[39;00mdata_format\u001b[38;5;132;01m}\u001b[39;00m\u001b[38;5;124m\"\u001b[39m)\n\u001b[0;32m    321\u001b[0m \u001b[38;5;66;03m# Numpy array x has format (height, width, channel)\u001b[39;00m\n\u001b[0;32m    322\u001b[0m \u001b[38;5;66;03m# or (channel, height, width)\u001b[39;00m\n\u001b[0;32m    323\u001b[0m \u001b[38;5;66;03m# but original PIL image has format (width, height, channel)\u001b[39;00m\n\u001b[1;32m--> 324\u001b[0m x \u001b[38;5;241m=\u001b[39m \u001b[43mnp\u001b[49m\u001b[38;5;241;43m.\u001b[39;49m\u001b[43masarray\u001b[49m\u001b[43m(\u001b[49m\u001b[43mimg\u001b[49m\u001b[43m,\u001b[49m\u001b[43m \u001b[49m\u001b[43mdtype\u001b[49m\u001b[38;5;241;43m=\u001b[39;49m\u001b[43mdtype\u001b[49m\u001b[43m)\u001b[49m\n\u001b[0;32m    325\u001b[0m \u001b[38;5;28;01mif\u001b[39;00m \u001b[38;5;28mlen\u001b[39m(x\u001b[38;5;241m.\u001b[39mshape) \u001b[38;5;241m==\u001b[39m \u001b[38;5;241m3\u001b[39m:\n\u001b[0;32m    326\u001b[0m     \u001b[38;5;28;01mif\u001b[39;00m data_format \u001b[38;5;241m==\u001b[39m \u001b[38;5;124m\"\u001b[39m\u001b[38;5;124mchannels_first\u001b[39m\u001b[38;5;124m\"\u001b[39m:\n",
      "File \u001b[1;32mc:\\Users\\thaih\\.conda\\envs\\Assignment2\\lib\\site-packages\\PIL\\Image.py:696\u001b[0m, in \u001b[0;36mImage.__array_interface__\u001b[1;34m(self)\u001b[0m\n\u001b[0;32m    694\u001b[0m         new[\u001b[38;5;124m\"\u001b[39m\u001b[38;5;124mdata\u001b[39m\u001b[38;5;124m\"\u001b[39m] \u001b[38;5;241m=\u001b[39m \u001b[38;5;28mself\u001b[39m\u001b[38;5;241m.\u001b[39mtobytes(\u001b[38;5;124m\"\u001b[39m\u001b[38;5;124mraw\u001b[39m\u001b[38;5;124m\"\u001b[39m, \u001b[38;5;124m\"\u001b[39m\u001b[38;5;124mL\u001b[39m\u001b[38;5;124m\"\u001b[39m)\n\u001b[0;32m    695\u001b[0m     \u001b[38;5;28;01melse\u001b[39;00m:\n\u001b[1;32m--> 696\u001b[0m         new[\u001b[38;5;124m\"\u001b[39m\u001b[38;5;124mdata\u001b[39m\u001b[38;5;124m\"\u001b[39m] \u001b[38;5;241m=\u001b[39m \u001b[38;5;28;43mself\u001b[39;49m\u001b[38;5;241;43m.\u001b[39;49m\u001b[43mtobytes\u001b[49m\u001b[43m(\u001b[49m\u001b[43m)\u001b[49m\n\u001b[0;32m    697\u001b[0m \u001b[38;5;28;01mexcept\u001b[39;00m \u001b[38;5;167;01mException\u001b[39;00m \u001b[38;5;28;01mas\u001b[39;00m e:\n\u001b[0;32m    698\u001b[0m     \u001b[38;5;28;01mif\u001b[39;00m \u001b[38;5;129;01mnot\u001b[39;00m \u001b[38;5;28misinstance\u001b[39m(e, (\u001b[38;5;167;01mMemoryError\u001b[39;00m, \u001b[38;5;167;01mRecursionError\u001b[39;00m)):\n",
      "File \u001b[1;32mc:\\Users\\thaih\\.conda\\envs\\Assignment2\\lib\\site-packages\\PIL\\Image.py:755\u001b[0m, in \u001b[0;36mImage.tobytes\u001b[1;34m(self, encoder_name, *args)\u001b[0m\n\u001b[0;32m    752\u001b[0m \u001b[38;5;28;01mif\u001b[39;00m encoder_name \u001b[38;5;241m==\u001b[39m \u001b[38;5;124m\"\u001b[39m\u001b[38;5;124mraw\u001b[39m\u001b[38;5;124m\"\u001b[39m \u001b[38;5;129;01mand\u001b[39;00m args \u001b[38;5;241m==\u001b[39m ():\n\u001b[0;32m    753\u001b[0m     args \u001b[38;5;241m=\u001b[39m \u001b[38;5;28mself\u001b[39m\u001b[38;5;241m.\u001b[39mmode\n\u001b[1;32m--> 755\u001b[0m \u001b[38;5;28;43mself\u001b[39;49m\u001b[38;5;241;43m.\u001b[39;49m\u001b[43mload\u001b[49m\u001b[43m(\u001b[49m\u001b[43m)\u001b[49m\n\u001b[0;32m    757\u001b[0m \u001b[38;5;28;01mif\u001b[39;00m \u001b[38;5;28mself\u001b[39m\u001b[38;5;241m.\u001b[39mwidth \u001b[38;5;241m==\u001b[39m \u001b[38;5;241m0\u001b[39m \u001b[38;5;129;01mor\u001b[39;00m \u001b[38;5;28mself\u001b[39m\u001b[38;5;241m.\u001b[39mheight \u001b[38;5;241m==\u001b[39m \u001b[38;5;241m0\u001b[39m:\n\u001b[0;32m    758\u001b[0m     \u001b[38;5;28;01mreturn\u001b[39;00m \u001b[38;5;124mb\u001b[39m\u001b[38;5;124m\"\u001b[39m\u001b[38;5;124m\"\u001b[39m\n",
      "File \u001b[1;32mc:\\Users\\thaih\\.conda\\envs\\Assignment2\\lib\\site-packages\\PIL\\ImageFile.py:291\u001b[0m, in \u001b[0;36mImageFile.load\u001b[1;34m(self)\u001b[0m\n\u001b[0;32m    288\u001b[0m         \u001b[38;5;28;01mraise\u001b[39;00m \u001b[38;5;167;01mOSError\u001b[39;00m(msg)\n\u001b[0;32m    290\u001b[0m b \u001b[38;5;241m=\u001b[39m b \u001b[38;5;241m+\u001b[39m s\n\u001b[1;32m--> 291\u001b[0m n, err_code \u001b[38;5;241m=\u001b[39m \u001b[43mdecoder\u001b[49m\u001b[38;5;241;43m.\u001b[39;49m\u001b[43mdecode\u001b[49m\u001b[43m(\u001b[49m\u001b[43mb\u001b[49m\u001b[43m)\u001b[49m\n\u001b[0;32m    292\u001b[0m \u001b[38;5;28;01mif\u001b[39;00m n \u001b[38;5;241m<\u001b[39m \u001b[38;5;241m0\u001b[39m:\n\u001b[0;32m    293\u001b[0m     \u001b[38;5;28;01mbreak\u001b[39;00m\n",
      "\u001b[1;31mKeyboardInterrupt\u001b[0m: "
     ]
    }
   ],
   "source": [
    "image_process.img_augment(cleaned_beds_path)\n",
    "image_process.img_augment(cleaned_chairs_path)\n",
    "image_process.img_augment(cleaned_dressers_path)\n",
    "image_process.img_augment(cleaned_lamps_path)\n",
    "image_process.img_augment(cleaned_sofas_path)\n",
    "image_process.img_augment(cleaned_tables_path)"
   ]
  },
  {
   "cell_type": "code",
   "execution_count": 148,
   "metadata": {},
   "outputs": [
    {
     "name": "stdout",
     "output_type": "stream",
     "text": [
      "Found 99921 files belonging to 6 classes.\n"
     ]
    }
   ],
   "source": [
    "processed_data = tf.keras.utils.image_dataset_from_directory(TRAIN_DATA_DIR, image_size = (350,350))\n"
   ]
  }
 ],
 "metadata": {
  "kernelspec": {
   "display_name": "ML_py10",
   "language": "python",
   "name": "python3"
  },
  "language_info": {
   "codemirror_mode": {
    "name": "ipython",
    "version": 3
   },
   "file_extension": ".py",
   "mimetype": "text/x-python",
   "name": "python",
   "nbconvert_exporter": "python",
   "pygments_lexer": "ipython3",
   "version": "3.10.14"
  }
 },
 "nbformat": 4,
 "nbformat_minor": 2
}
