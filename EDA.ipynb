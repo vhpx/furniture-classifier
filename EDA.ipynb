{
 "cells": [
  {
   "cell_type": "code",
   "execution_count": 2,
   "metadata": {},
   "outputs": [],
   "source": [
    "# from utils.image_process import image_category\n",
    "import pandas as pd\n",
    "import os\n",
    "\n",
    "from utils import image_process"
   ]
  },
  {
   "cell_type": "code",
   "execution_count": 3,
   "metadata": {},
   "outputs": [
    {
     "ename": "FileNotFoundError",
     "evalue": "[Errno 2] No such file or directory: './Furniture_Data/beds'",
     "output_type": "error",
     "traceback": [
      "\u001b[0;31m---------------------------------------------------------------------------\u001b[0m",
      "\u001b[0;31mFileNotFoundError\u001b[0m                         Traceback (most recent call last)",
      "Cell \u001b[0;32mIn[3], line 2\u001b[0m\n\u001b[1;32m      1\u001b[0m \u001b[38;5;66;03m#extracting paths from each of the category\u001b[39;00m\n\u001b[0;32m----> 2\u001b[0m beds_path \u001b[38;5;241m=\u001b[39m \u001b[43mimage_process\u001b[49m\u001b[38;5;241;43m.\u001b[39;49m\u001b[43mimage_path\u001b[49m\u001b[43m(\u001b[49m\u001b[38;5;124;43m'\u001b[39;49m\u001b[38;5;124;43mbeds\u001b[39;49m\u001b[38;5;124;43m'\u001b[39;49m\u001b[43m)\u001b[49m\n\u001b[1;32m      3\u001b[0m chairs_path \u001b[38;5;241m=\u001b[39m image_process\u001b[38;5;241m.\u001b[39mimage_path(\u001b[38;5;124m'\u001b[39m\u001b[38;5;124mchairs\u001b[39m\u001b[38;5;124m'\u001b[39m)\n\u001b[1;32m      4\u001b[0m dressers_path \u001b[38;5;241m=\u001b[39m image_process\u001b[38;5;241m.\u001b[39mimage_path(\u001b[38;5;124m'\u001b[39m\u001b[38;5;124mdressers\u001b[39m\u001b[38;5;124m'\u001b[39m)\n",
      "File \u001b[0;32m~/coding_folder/furniture-classifier/utils/image_process.py:27\u001b[0m, in \u001b[0;36mimage_path\u001b[0;34m(category)\u001b[0m\n\u001b[1;32m     26\u001b[0m \u001b[38;5;28;01mdef\u001b[39;00m \u001b[38;5;21mimage_path\u001b[39m(category):\n\u001b[0;32m---> 27\u001b[0m     style \u001b[38;5;241m=\u001b[39m \u001b[43mimage_style\u001b[49m\u001b[43m(\u001b[49m\u001b[43m)\u001b[49m\n\u001b[1;32m     28\u001b[0m     image_files \u001b[38;5;241m=\u001b[39m []\n\u001b[1;32m     31\u001b[0m     \u001b[38;5;28;01mfor\u001b[39;00m st \u001b[38;5;129;01min\u001b[39;00m style:\n",
      "File \u001b[0;32m~/coding_folder/furniture-classifier/utils/image_process.py:18\u001b[0m, in \u001b[0;36mimage_style\u001b[0;34m()\u001b[0m\n\u001b[1;32m     17\u001b[0m \u001b[38;5;28;01mdef\u001b[39;00m \u001b[38;5;21mimage_style\u001b[39m():\n\u001b[0;32m---> 18\u001b[0m     style_list \u001b[38;5;241m=\u001b[39m pd\u001b[38;5;241m.\u001b[39mDataFrame(\u001b[43mos\u001b[49m\u001b[38;5;241;43m.\u001b[39;49m\u001b[43mlistdir\u001b[49m\u001b[43m(\u001b[49m\u001b[38;5;124;43m'\u001b[39;49m\u001b[38;5;124;43m./Furniture_Data/beds\u001b[39;49m\u001b[38;5;124;43m'\u001b[39;49m\u001b[43m)\u001b[49m, columns\u001b[38;5;241m=\u001b[39m[\u001b[38;5;124m'\u001b[39m\u001b[38;5;124mStyle\u001b[39m\u001b[38;5;124m'\u001b[39m])\n\u001b[1;32m     19\u001b[0m     \u001b[38;5;28;01mfor\u001b[39;00m i \u001b[38;5;129;01min\u001b[39;00m style_list[\u001b[38;5;124m'\u001b[39m\u001b[38;5;124mStyle\u001b[39m\u001b[38;5;124m'\u001b[39m]\u001b[38;5;241m.\u001b[39mvalues:\n\u001b[1;32m     20\u001b[0m         \u001b[38;5;28;01mif\u001b[39;00m i \u001b[38;5;241m==\u001b[39m \u001b[38;5;124m'\u001b[39m\u001b[38;5;124m.DS_Store\u001b[39m\u001b[38;5;124m'\u001b[39m \u001b[38;5;129;01mor\u001b[39;00m i \u001b[38;5;241m==\u001b[39m \u001b[38;5;124m'\u001b[39m\u001b[38;5;124mREADME.txt\u001b[39m\u001b[38;5;124m'\u001b[39m:\n",
      "\u001b[0;31mFileNotFoundError\u001b[0m: [Errno 2] No such file or directory: './Furniture_Data/beds'"
     ]
    }
   ],
   "source": [
    "#extracting paths from each of the category\n",
    "beds_path = image_process.image_path('beds')\n",
    "chairs_path = image_process.image_path('chairs')\n",
    "dressers_path = image_process.image_path('dressers')\n",
    "lamps_path = image_process.image_path('lamps')\n",
    "sofas_path = image_process.image_path('sofas')\n",
    "tables_path = image_process.image_path('tables')\n",
    "\n",
    "print(len(beds_path))\n",
    "print(len(chairs_path))\n",
    "print(len(dressers_path))\n",
    "print(len(lamps_path))\n",
    "print(len(sofas_path))\n",
    "print(len(tables_path))"
   ]
  },
  {
   "cell_type": "code",
   "execution_count": null,
   "metadata": {},
   "outputs": [],
   "source": []
  }
 ],
 "metadata": {
  "kernelspec": {
   "display_name": "ML_py10",
   "language": "python",
   "name": "python3"
  },
  "language_info": {
   "codemirror_mode": {
    "name": "ipython",
    "version": 3
   },
   "file_extension": ".py",
   "mimetype": "text/x-python",
   "name": "python",
   "nbconvert_exporter": "python",
   "pygments_lexer": "ipython3",
   "version": "3.10.13"
  }
 },
 "nbformat": 4,
 "nbformat_minor": 2
}
