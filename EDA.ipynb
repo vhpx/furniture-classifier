{
 "cells": [
  {
   "cell_type": "code",
   "execution_count": 19,
   "metadata": {},
   "outputs": [],
   "source": [
    "# Set global directories\n",
    "DATA_DIR = \"./data\"\n",
    "DATASET_DIR = f\"{DATA_DIR}/datasets\"\n",
    "\n",
    "CACHE_DIR = f\"{DATA_DIR}/cache\"\n",
    "DATASET_CACHE_DIR = f\"{CACHE_DIR}/datasets\"\n",
    "\n",
    "TRAIN_DATA_DIR = f\"{DATASET_DIR}/raw\"\n",
    "CLEANED_TRAIN_DATA_DIR = f\"{DATASET_DIR}/cleaned\"\n",
    "PROCESSED_TRAIN_DATA_DIR = f\"{DATASET_DIR}/processed\"\n",
    "\n",
    "# Set path to cache visualizations and models\n",
    "VISUALIZATION_DIR = f\"{CACHE_DIR}/visualizations\"\n",
    "MODEL_DIR = f\"{CACHE_DIR}/models\""
   ]
  },
  {
   "cell_type": "code",
   "execution_count": 20,
   "metadata": {},
   "outputs": [],
   "source": [
    "from utils.cache import reload_custom_libaries\n",
    "\n",
    "reload_custom_libaries()"
   ]
  },
  {
   "cell_type": "markdown",
   "metadata": {},
   "source": [
    "# Import necessary packages and libraries"
   ]
  },
  {
   "cell_type": "code",
   "execution_count": 21,
   "metadata": {},
   "outputs": [],
   "source": [
    "import pandas as pd\n",
    "import numpy as np\n",
    "import matplotlib.pyplot as plt\n",
    "import tensorflow as tf\n",
    "from PIL import Image\n",
    "from PIL import ImageFile\n",
    "import os, sys\n",
    "from tqdm.auto import tqdm\n",
    "\n",
    "\n",
    "# Load personalize utils\n",
    "from utils.image_process import image_path, img_dupChecks, imgSizeList"
   ]
  },
  {
   "cell_type": "markdown",
   "metadata": {},
   "source": [
    "# Get a general view of the dataset"
   ]
  },
  {
   "cell_type": "code",
   "execution_count": 22,
   "metadata": {},
   "outputs": [
    {
     "name": "stdout",
     "output_type": "stream",
     "text": [
      "Found 90082 files belonging to 6 classes.\n"
     ]
    }
   ],
   "source": [
    "data = tf.keras.utils.image_dataset_from_directory(TRAIN_DATA_DIR)"
   ]
  },
  {
   "cell_type": "markdown",
   "metadata": {},
   "source": [
    "# Extract image paths into different categories base on its type"
   ]
  },
  {
   "cell_type": "code",
   "execution_count": 23,
   "metadata": {},
   "outputs": [
    {
     "name": "stderr",
     "output_type": "stream",
     "text": [
      "Getting path: 52it [00:00, 51991.37it/s]            \n",
      "Getting path: 51it [00:00, 50979.39it/s]            \n",
      "Getting path: 1953it [00:00, 325562.41it/s]         \n",
      "Getting path: 188it [00:00, 93261.87it/s]           \n",
      "Getting path:  67%|██████▋   | 22/33 [00:00<00:00, 21980.63it/s]\n",
      "Getting path: 91it [00:00, 45427.48it/s]            \n",
      "Getting path: 61it [00:00, 61091.82it/s]            \n",
      "Getting path: 75it [00:00, 75130.83it/s]            \n",
      "Getting path: 130it [00:00, 130164.60it/s]          \n",
      "Getting path: 380it [00:00, 190467.92it/s]          \n",
      "Getting path: 239it [00:00, 119565.68it/s]          \n",
      "Getting path:  89%|████████▉ | 33/37 [00:00<?, ?it/s]\n",
      "Getting path: 49it [00:00, 48921.90it/s]            \n",
      "Getting path: 1397it [00:00, 279193.91it/s]         \n",
      "Getting path: 1719it [00:00, 430448.27it/s]         \n",
      "Getting path: 55it [00:00, 55082.79it/s]            \n",
      "Getting path: 83it [00:00, ?it/s]                   \n",
      "Getting path: 381it [00:00, 190513.81it/s]          \n",
      "Getting path: 186it [00:00, 186191.06it/s]          \n",
      "Getting path: 4608it [00:00, 108281.95it/s]         \n",
      "Getting path: 210it [00:00, 105095.32it/s]          \n",
      "Getting path: 201it [00:00, 100783.63it/s]          \n",
      "Getting path: 640it [00:00, 91563.07it/s]           \n",
      "Getting path: 534it [00:00, 134077.12it/s]          \n",
      "Getting path: 187it [00:00, 93328.75it/s]           \n",
      "Getting path: 3585it [00:00, 238584.98it/s]         \n",
      "Getting path: 1788it [00:00, 210150.07it/s]         \n",
      "Getting path: 304it [00:00, 101203.94it/s]          \n",
      "Getting path: 216it [00:00, 216170.28it/s]          \n",
      "Getting path: 95it [00:00, 94758.35it/s]            \n",
      "Getting path: 3956it [00:00, 329396.04it/s]         \n",
      "Getting path: 4514it [00:00, 300611.10it/s]         \n",
      "Getting path: 430it [00:00, 214427.62it/s]          \n",
      "Getting path: 218it [00:00, 217600.73it/s]          \n",
      "Getting path: 484it [00:00, 241873.36it/s]          \n",
      "Getting path: 166it [00:00, 82592.46it/s]           \n",
      "Getting path: 1284it [00:00, 255891.21it/s]         \n",
      "Getting path: 128it [00:00, 128100.91it/s]          \n",
      "Getting path: 41it [00:00, 20491.71it/s]            \n",
      "Getting path: 568it [00:00, 141815.86it/s]          \n",
      "Getting path: 216it [00:00, 215861.25it/s]          \n",
      "Getting path: 109it [00:00, 109164.07it/s]          \n",
      "Getting path: 307it [00:00, 307535.55it/s]          \n",
      "Getting path: 256it [00:00, 254743.02it/s]          \n",
      "Getting path: 378it [00:00, 378027.40it/s]          \n",
      "Getting path:  27%|██▋       | 11/41 [00:00<00:00, 10987.70it/s]\n",
      "Getting path:  85%|████████▌ | 35/41 [00:00<00:00, 35271.66it/s]\n",
      "Getting path: 2086it [00:00, 297889.69it/s]         \n",
      "Getting path: 1622it [00:00, 324129.83it/s]         \n",
      "Getting path: 47it [00:00, 46847.03it/s]            \n",
      "Getting path: 133it [00:00, 132693.25it/s]          \n",
      "Getting path: 1572it [00:00, 448900.18it/s]         \n",
      "Getting path: 2820it [00:00, 402927.52it/s]         \n",
      "Getting path: 5343it [00:00, 534325.99it/s]         \n",
      "Getting path: 2020it [00:00, 403913.71it/s]         \n",
      "Getting path: 942it [00:00, 314147.60it/s]          \n",
      "Getting path: 1154it [00:00, 384602.85it/s]         \n",
      "Getting path: 1837it [00:00, 612816.07it/s]         \n",
      "Getting path: 1012it [00:00, 337170.20it/s]         \n",
      "Getting path: 874it [00:00, 291053.73it/s]          \n",
      "Getting path: 2336it [00:00, 467546.01it/s]         \n",
      "Getting path: 832it [00:00, 415633.75it/s]          \n",
      "Getting path: 94it [00:00, 93894.87it/s]            \n",
      "Getting path: 138it [00:00, 137944.22it/s]          \n",
      "Getting path: 4789it [00:00, 479037.51it/s]         \n",
      "Getting path: 5066it [00:00, 337693.40it/s]         \n",
      "Getting path: 271it [00:00, 272644.85it/s]          \n",
      "Getting path: 1302it [00:00, 434169.49it/s]         \n",
      "Getting path:  23%|██▎       | 7/31 [00:00<00:00, 6960.68it/s]\n",
      "Getting path:  55%|█████▍    | 17/31 [00:00<00:00, 16952.73it/s]\n",
      "Getting path: 1240it [00:00, 247769.85it/s]         \n",
      "Getting path:  37%|███▋      | 13/35 [00:00<00:00, 12979.28it/s]\n",
      "Getting path:  38%|███▊      | 13/34 [00:00<00:00, 6471.92it/s]\n",
      "Getting path:  60%|██████    | 21/35 [00:00<00:00, 20966.53it/s]\n",
      "Getting path:  47%|████▋     | 17/36 [00:00<00:00, 16989.08it/s]\n",
      "Getting path:  23%|██▎       | 9/39 [00:00<00:00, 4521.35it/s]\n",
      "Getting path: 647it [00:00, 215630.89it/s]          \n",
      "Getting path: 152it [00:00, 50569.86it/s]           \n",
      "Getting path:  47%|████▋     | 15/32 [00:00<00:00, 14979.66it/s]\n",
      "Getting path:  39%|███▉      | 15/38 [00:00<?, ?it/s]\n",
      "Getting path:  53%|█████▎    | 20/38 [00:00<00:00, 20001.45it/s]\n",
      "Getting path: 599it [00:00, 299343.27it/s]          \n",
      "Getting path: 1201it [00:00, 239771.48it/s]         \n",
      "Getting path:  82%|████████▏ | 28/34 [00:00<00:00, 27922.14it/s]\n",
      "Getting path: 66it [00:00, 65941.89it/s]            \n",
      "Getting path: 573it [00:00, 286554.93it/s]          \n",
      "Getting path: 494it [00:00, 164626.27it/s]          \n",
      "Getting path: 3177it [00:00, 317677.58it/s]         \n",
      "Getting path: 409it [00:00, 136996.51it/s]          \n",
      "Getting path: 410it [00:00, 136763.53it/s]          \n",
      "Getting path: 1279it [00:00, 319754.12it/s]         \n",
      "Getting path: 2661it [00:00, 241889.92it/s]         \n",
      "Getting path: 582it [00:00, 293858.79it/s]          \n",
      "Getting path: 1194it [00:00, 298308.25it/s]         \n",
      "Getting path: 2272it [00:00, 324528.63it/s]         \n",
      "Getting path: 71it [00:00, 71106.87it/s]            \n",
      "Getting path: 45it [00:00, 22517.74it/s]            \n",
      "Getting path:  69%|██████▉   | 27/39 [00:00<00:00, 27053.56it/s]\n",
      "Getting path: 3629it [00:00, 241409.80it/s]         \n",
      "Getting path: 207it [00:00, 206965.66it/s]          \n",
      "Getting path:  69%|██████▊   | 24/35 [00:00<00:00, 24163.06it/s]\n",
      "Getting path: 46it [00:00, 46091.25it/s]            "
     ]
    },
    {
     "name": "stdout",
     "output_type": "stream",
     "text": [
      "Successfully extract all paths!\n"
     ]
    },
    {
     "name": "stderr",
     "output_type": "stream",
     "text": [
      "\n"
     ]
    }
   ],
   "source": [
    "# extracting paths from each of the category\n",
    "beds_path = image_path(TRAIN_DATA_DIR, \"beds\")\n",
    "chairs_path = image_path(TRAIN_DATA_DIR, \"chairs\")\n",
    "dressers_path = image_path(TRAIN_DATA_DIR, \"dressers\")\n",
    "lamps_path = image_path(TRAIN_DATA_DIR, \"lamps\")\n",
    "sofas_path = image_path(TRAIN_DATA_DIR, \"sofas\")\n",
    "tables_path = image_path(TRAIN_DATA_DIR, \"tables\")\n",
    "\n",
    "print(\"Successfully extract all paths!\")"
   ]
  },
  {
   "cell_type": "markdown",
   "metadata": {},
   "source": [
    "# EDA"
   ]
  },
  {
   "cell_type": "markdown",
   "metadata": {},
   "source": [
    "## Get the total amount of images in different categories before checking for duplicants"
   ]
  },
  {
   "cell_type": "code",
   "execution_count": 24,
   "metadata": {},
   "outputs": [
    {
     "name": "stdout",
     "output_type": "stream",
     "text": [
      "Amount of bed:  6578\n",
      "Amount of chair:  22053\n",
      "Amount of dresser:  7871\n",
      "Amount of lamp:  32402\n",
      "Amount of sofa:  4080\n",
      "Amount of table:  17100\n",
      "Total:  90084\n"
     ]
    }
   ],
   "source": [
    "print(\"Amount of bed: \", len(beds_path))\n",
    "print(\"Amount of chair: \", len(chairs_path))\n",
    "print(\"Amount of dresser: \", len(dressers_path))\n",
    "print(\"Amount of lamp: \", len(lamps_path))\n",
    "print(\"Amount of sofa: \", len(sofas_path))\n",
    "print(\"Amount of table: \", len(tables_path))\n",
    "print(\n",
    "    \"Total: \",\n",
    "    len(beds_path)\n",
    "    + len(chairs_path)\n",
    "    + len(dressers_path)\n",
    "    + len(lamps_path)\n",
    "    + len(sofas_path)\n",
    "    + len(tables_path),\n",
    ")"
   ]
  },
  {
   "cell_type": "markdown",
   "metadata": {},
   "source": [
    "### Visualization"
   ]
  },
  {
   "cell_type": "code",
   "execution_count": 25,
   "metadata": {},
   "outputs": [],
   "source": [
    "image_Classes = {\n",
    "    \"Beds\": len(beds_path),\n",
    "    \"Chairs\": len(chairs_path),\n",
    "    \"Dressers\": len(dressers_path),\n",
    "    \"Sofas\": len(sofas_path),\n",
    "    \"Lamps\": len(lamps_path),\n",
    "    \"Tables\": len(tables_path),\n",
    "}"
   ]
  },
  {
   "cell_type": "code",
   "execution_count": 26,
   "metadata": {},
   "outputs": [
    {
     "data": {
      "text/plain": [
       "Text(0, 0.5, 'Amount')"
      ]
     },
     "execution_count": 26,
     "metadata": {},
     "output_type": "execute_result"
    },
    {
     "data": {
      "image/png": "[encoded data removed]",
      "text/plain": [
       "<Figure size 640x480 with 1 Axes>"
      ]
     },
     "metadata": {},
     "output_type": "display_data"
    }
   ],
   "source": [
    "plt.bar(image_Classes.keys(), image_Classes.values(), width=0.5)\n",
    "plt.title(\"Number of images in each categories\")\n",
    "plt.xlabel(\"Categories\")\n",
    "plt.ylabel(\"Amount\")"
   ]
  },
  {
   "cell_type": "markdown",
   "metadata": {},
   "source": [
    "## Get duplicate images from each categories"
   ]
  },
  {
   "cell_type": "markdown",
   "metadata": {},
   "source": [
    "### Check duplicants and remove duplicants from each categories"
   ]
  },
  {
   "cell_type": "code",
   "execution_count": 27,
   "metadata": {},
   "outputs": [
    {
     "name": "stdout",
     "output_type": "stream",
     "text": [
      "Bed\n"
     ]
    },
    {
     "name": "stderr",
     "output_type": "stream",
     "text": [
      "Finding duplicate images: 100%|██████████| 6578/6578 [00:41<00:00, 159.94it/s]\n"
     ]
    },
    {
     "name": "stdout",
     "output_type": "stream",
     "text": [
      "Number of duplicants:  400\n",
      "Duplicants has been removed!\n",
      "Chair\n"
     ]
    },
    {
     "name": "stderr",
     "output_type": "stream",
     "text": [
      "Finding duplicate images: 100%|██████████| 22053/22053 [02:37<00:00, 140.02it/s]\n"
     ]
    },
    {
     "name": "stdout",
     "output_type": "stream",
     "text": [
      "Number of duplicants:  1836\n",
      "Duplicants has been removed!\n",
      "Dresser\n"
     ]
    },
    {
     "name": "stderr",
     "output_type": "stream",
     "text": [
      "Finding duplicate images: 100%|██████████| 7871/7871 [00:56<00:00, 138.63it/s]\n"
     ]
    },
    {
     "name": "stdout",
     "output_type": "stream",
     "text": [
      "Number of duplicants:  632\n",
      "Duplicants has been removed!\n",
      "Sofa\n"
     ]
    },
    {
     "name": "stderr",
     "output_type": "stream",
     "text": [
      "Finding duplicate images: 100%|██████████| 4080/4080 [00:30<00:00, 134.37it/s]"
     ]
    },
    {
     "name": "stdout",
     "output_type": "stream",
     "text": [
      "Number of duplicants:  353\n",
      "Duplicants has been removed!\n"
     ]
    },
    {
     "name": "stderr",
     "output_type": "stream",
     "text": [
      "\n"
     ]
    }
   ],
   "source": [
    "# Get the amount of duplicants and then remove it from the dataset\n",
    "print(\"Bed\")\n",
    "img_dupChecks(beds_path)\n",
    "print(\"Chair\")\n",
    "img_dupChecks(chairs_path)\n",
    "print(\"Dresser\")\n",
    "img_dupChecks(dressers_path)\n",
    "print(\"Sofa\")\n",
    "img_dupChecks(sofas_path)"
   ]
  },
  {
   "cell_type": "code",
   "execution_count": 28,
   "metadata": {},
   "outputs": [
    {
     "name": "stdout",
     "output_type": "stream",
     "text": [
      "Lamp\n"
     ]
    },
    {
     "name": "stderr",
     "output_type": "stream",
     "text": [
      "Finding duplicate images: 100%|██████████| 32402/32402 [04:04<00:00, 132.49it/s]\n"
     ]
    },
    {
     "name": "stdout",
     "output_type": "stream",
     "text": [
      "Number of duplicants:  6245\n",
      "Duplicants has been removed!\n",
      "Table\n"
     ]
    },
    {
     "name": "stderr",
     "output_type": "stream",
     "text": [
      "Finding duplicate images: 100%|██████████| 17100/17100 [01:57<00:00, 145.21it/s]\n"
     ]
    },
    {
     "name": "stdout",
     "output_type": "stream",
     "text": [
      "Number of duplicants:  1049\n",
      "Duplicants has been removed!\n"
     ]
    }
   ],
   "source": [
    "print(\"Lamp\")\n",
    "img_dupChecks(lamps_path)\n",
    "print(\"Table\")\n",
    "img_dupChecks(tables_path)"
   ]
  },
  {
   "cell_type": "markdown",
   "metadata": {},
   "source": [
    "### Recheck the categories after removing duplicants"
   ]
  },
  {
   "cell_type": "code",
   "execution_count": 29,
   "metadata": {},
   "outputs": [
    {
     "name": "stdout",
     "output_type": "stream",
     "text": [
      "Amount of bed:  6130\n",
      "Amount of chair:  19211\n",
      "Amount of dresser:  5910\n",
      "Amount of lamp:  19903\n",
      "Amount of sofa:  3148\n",
      "Amount of table:  15447\n",
      "Total:  69749\n"
     ]
    }
   ],
   "source": [
    "print(\"Amount of bed: \", len(beds_path))\n",
    "print(\"Amount of chair: \", len(chairs_path))\n",
    "print(\"Amount of dresser: \", len(dressers_path))\n",
    "print(\"Amount of lamp: \", len(lamps_path))\n",
    "print(\"Amount of sofa: \", len(sofas_path))\n",
    "print(\"Amount of table: \", len(tables_path))\n",
    "print(\n",
    "    \"Total: \",\n",
    "    len(beds_path)\n",
    "    + len(chairs_path)\n",
    "    + len(dressers_path)\n",
    "    + len(lamps_path)\n",
    "    + len(sofas_path)\n",
    "    + len(tables_path),\n",
    ")"
   ]
  },
  {
   "cell_type": "markdown",
   "metadata": {},
   "source": [
    "### Visualization"
   ]
  },
  {
   "cell_type": "code",
   "execution_count": 30,
   "metadata": {},
   "outputs": [],
   "source": [
    "image_Classes_modified = {\n",
    "    \"Beds\": len(beds_path),\n",
    "    \"Chairs\": len(chairs_path),\n",
    "    \"Dressers\": len(dressers_path),\n",
    "    \"Sofas\": len(sofas_path),\n",
    "    \"Lamps\": len(lamps_path),\n",
    "    \"Tables\": len(tables_path),\n",
    "}"
   ]
  },
  {
   "cell_type": "code",
   "execution_count": 31,
   "metadata": {},
   "outputs": [
    {
     "data": {
      "text/plain": [
       "Text(0, 0.5, 'Amount')"
      ]
     },
     "execution_count": 31,
     "metadata": {},
     "output_type": "execute_result"
    },
    {
     "data": {
      "image/png": "[encoded data removed]",
      "text/plain": [
       "<Figure size 640x480 with 1 Axes>"
      ]
     },
     "metadata": {},
     "output_type": "display_data"
    }
   ],
   "source": [
    "plt.bar(image_Classes_modified.keys(), image_Classes_modified.values(), width=0.5)\n",
    "plt.title(\"Number of images in each categories\")\n",
    "plt.xlabel(\"Categories\")\n",
    "plt.ylabel(\"Amount\")"
   ]
  },
  {
   "cell_type": "markdown",
   "metadata": {},
   "source": [
    "-   In the plot we can see the differences between of the amount in different columns. Because of that, we will need to check for the imbalances of our dataset"
   ]
  },
  {
   "cell_type": "markdown",
   "metadata": {},
   "source": [
    "## Get different amount of image size of each category"
   ]
  },
  {
   "cell_type": "code",
   "execution_count": 48,
   "metadata": {},
   "outputs": [
    {
     "name": "stdout",
     "output_type": "stream",
     "text": [
      "Beds\n"
     ]
    },
    {
     "name": "stderr",
     "output_type": "stream",
     "text": [
      "Getting image size: 100%|██████████| 6130/6130 [00:02<00:00, 2597.90it/s]\n"
     ]
    },
    {
     "name": "stdout",
     "output_type": "stream",
     "text": [
      "224x224 pixels:  6097\n",
      "350x350 pixels:  33\n",
      "Other size:  0\n",
      "Chairs\n"
     ]
    },
    {
     "name": "stderr",
     "output_type": "stream",
     "text": [
      "Getting image size: 100%|██████████| 19211/19211 [00:08<00:00, 2365.77it/s]\n"
     ]
    },
    {
     "name": "stdout",
     "output_type": "stream",
     "text": [
      "224x224 pixels:  0\n",
      "350x350 pixels:  19211\n",
      "Other size:  0\n",
      "Dressers\n"
     ]
    },
    {
     "name": "stderr",
     "output_type": "stream",
     "text": [
      "Getting image size: 100%|██████████| 5910/5910 [00:02<00:00, 2704.85it/s]\n"
     ]
    },
    {
     "name": "stdout",
     "output_type": "stream",
     "text": [
      "224x224 pixels:  0\n",
      "350x350 pixels:  5910\n",
      "Other size:  0\n",
      "Lamps\n"
     ]
    },
    {
     "name": "stderr",
     "output_type": "stream",
     "text": [
      "Getting image size: 100%|██████████| 19903/19903 [00:07<00:00, 2549.99it/s]\n"
     ]
    },
    {
     "name": "stdout",
     "output_type": "stream",
     "text": [
      "224x224 pixels:  0\n",
      "350x350 pixels:  19903\n",
      "Other size:  0\n",
      "sofas\n"
     ]
    },
    {
     "name": "stderr",
     "output_type": "stream",
     "text": [
      "Getting image size: 100%|██████████| 3148/3148 [00:01<00:00, 2749.30it/s]\n"
     ]
    },
    {
     "name": "stdout",
     "output_type": "stream",
     "text": [
      "224x224 pixels:  0\n",
      "350x350 pixels:  3148\n",
      "Other size:  0\n",
      "Tables\n"
     ]
    },
    {
     "name": "stderr",
     "output_type": "stream",
     "text": [
      "Getting image size: 100%|██████████| 15447/15447 [00:05<00:00, 2745.62it/s]"
     ]
    },
    {
     "name": "stdout",
     "output_type": "stream",
     "text": [
      "224x224 pixels:  0\n",
      "350x350 pixels:  15446\n",
      "Other size:  1\n"
     ]
    },
    {
     "name": "stderr",
     "output_type": "stream",
     "text": [
      "\n"
     ]
    }
   ],
   "source": [
    "print(\"Beds\")\n",
    "df_bed_dims = pd.DataFrame(imgSizeList(beds_path), columns=[\"width\", \"height\"])\n",
    "print(\"Chairs\")\n",
    "df_chair_dims = pd.DataFrame(imgSizeList(chairs_path), columns=[\"width\", \"height\"])\n",
    "print(\"Dressers\")\n",
    "df_dresser_dims = pd.DataFrame(imgSizeList(dressers_path), columns=[\"width\", \"height\"])\n",
    "print(\"Lamps\")\n",
    "df_lamp_dims = pd.DataFrame(imgSizeList(lamps_path), columns=[\"width\", \"height\"])\n",
    "print(\"sofas\")\n",
    "df_sofa_dims = pd.DataFrame(imgSizeList(sofas_path), columns=[\"width\", \"height\"])\n",
    "print(\"Tables\")\n",
    "df_table_dims = pd.DataFrame(imgSizeList(tables_path), columns=[\"width\", \"height\"])"
   ]
  },
  {
   "cell_type": "markdown",
   "metadata": {},
   "source": [
    "### Visualization"
   ]
  },
  {
   "cell_type": "markdown",
   "metadata": {},
   "source": [
    "#### Recheck data in each dataset"
   ]
  },
  {
   "cell_type": "code",
   "execution_count": 49,
   "metadata": {},
   "outputs": [
    {
     "data": {
      "text/html": [
       "<div>\n",
       "<style scoped>\n",
       "    .dataframe tbody tr th:only-of-type {\n",
       "        vertical-align: middle;\n",
       "    }\n",
       "\n",
       "    .dataframe tbody tr th {\n",
       "        vertical-align: top;\n",
       "    }\n",
       "\n",
       "    .dataframe thead th {\n",
       "        text-align: right;\n",
       "    }\n",
       "</style>\n",
       "<table border=\"1\" class=\"dataframe\">\n",
       "  <thead>\n",
       "    <tr style=\"text-align: right;\">\n",
       "      <th></th>\n",
       "      <th>width</th>\n",
       "      <th>height</th>\n",
       "    </tr>\n",
       "  </thead>\n",
       "  <tbody>\n",
       "    <tr>\n",
       "      <th>0</th>\n",
       "      <td>350</td>\n",
       "      <td>350</td>\n",
       "    </tr>\n",
       "    <tr>\n",
       "      <th>1</th>\n",
       "      <td>350</td>\n",
       "      <td>350</td>\n",
       "    </tr>\n",
       "    <tr>\n",
       "      <th>2</th>\n",
       "      <td>350</td>\n",
       "      <td>350</td>\n",
       "    </tr>\n",
       "    <tr>\n",
       "      <th>3</th>\n",
       "      <td>350</td>\n",
       "      <td>350</td>\n",
       "    </tr>\n",
       "    <tr>\n",
       "      <th>4</th>\n",
       "      <td>350</td>\n",
       "      <td>350</td>\n",
       "    </tr>\n",
       "    <tr>\n",
       "      <th>...</th>\n",
       "      <td>...</td>\n",
       "      <td>...</td>\n",
       "    </tr>\n",
       "    <tr>\n",
       "      <th>6125</th>\n",
       "      <td>224</td>\n",
       "      <td>224</td>\n",
       "    </tr>\n",
       "    <tr>\n",
       "      <th>6126</th>\n",
       "      <td>224</td>\n",
       "      <td>224</td>\n",
       "    </tr>\n",
       "    <tr>\n",
       "      <th>6127</th>\n",
       "      <td>224</td>\n",
       "      <td>224</td>\n",
       "    </tr>\n",
       "    <tr>\n",
       "      <th>6128</th>\n",
       "      <td>224</td>\n",
       "      <td>224</td>\n",
       "    </tr>\n",
       "    <tr>\n",
       "      <th>6129</th>\n",
       "      <td>224</td>\n",
       "      <td>224</td>\n",
       "    </tr>\n",
       "  </tbody>\n",
       "</table>\n",
       "<p>6130 rows × 2 columns</p>\n",
       "</div>"
      ],
      "text/plain": [
       "      width  height\n",
       "0       350     350\n",
       "1       350     350\n",
       "2       350     350\n",
       "3       350     350\n",
       "4       350     350\n",
       "...     ...     ...\n",
       "6125    224     224\n",
       "6126    224     224\n",
       "6127    224     224\n",
       "6128    224     224\n",
       "6129    224     224\n",
       "\n",
       "[6130 rows x 2 columns]"
      ]
     },
     "execution_count": 49,
     "metadata": {},
     "output_type": "execute_result"
    }
   ],
   "source": [
    "df_bed_dims"
   ]
  },
  {
   "cell_type": "code",
   "execution_count": 50,
   "metadata": {},
   "outputs": [
    {
     "data": {
      "text/html": [
       "<div>\n",
       "<style scoped>\n",
       "    .dataframe tbody tr th:only-of-type {\n",
       "        vertical-align: middle;\n",
       "    }\n",
       "\n",
       "    .dataframe tbody tr th {\n",
       "        vertical-align: top;\n",
       "    }\n",
       "\n",
       "    .dataframe thead th {\n",
       "        text-align: right;\n",
       "    }\n",
       "</style>\n",
       "<table border=\"1\" class=\"dataframe\">\n",
       "  <thead>\n",
       "    <tr style=\"text-align: right;\">\n",
       "      <th></th>\n",
       "      <th>width</th>\n",
       "      <th>height</th>\n",
       "    </tr>\n",
       "  </thead>\n",
       "  <tbody>\n",
       "    <tr>\n",
       "      <th>0</th>\n",
       "      <td>350</td>\n",
       "      <td>350</td>\n",
       "    </tr>\n",
       "    <tr>\n",
       "      <th>1</th>\n",
       "      <td>350</td>\n",
       "      <td>350</td>\n",
       "    </tr>\n",
       "    <tr>\n",
       "      <th>2</th>\n",
       "      <td>350</td>\n",
       "      <td>350</td>\n",
       "    </tr>\n",
       "    <tr>\n",
       "      <th>3</th>\n",
       "      <td>350</td>\n",
       "      <td>350</td>\n",
       "    </tr>\n",
       "    <tr>\n",
       "      <th>4</th>\n",
       "      <td>350</td>\n",
       "      <td>350</td>\n",
       "    </tr>\n",
       "    <tr>\n",
       "      <th>...</th>\n",
       "      <td>...</td>\n",
       "      <td>...</td>\n",
       "    </tr>\n",
       "    <tr>\n",
       "      <th>19206</th>\n",
       "      <td>350</td>\n",
       "      <td>350</td>\n",
       "    </tr>\n",
       "    <tr>\n",
       "      <th>19207</th>\n",
       "      <td>350</td>\n",
       "      <td>350</td>\n",
       "    </tr>\n",
       "    <tr>\n",
       "      <th>19208</th>\n",
       "      <td>350</td>\n",
       "      <td>350</td>\n",
       "    </tr>\n",
       "    <tr>\n",
       "      <th>19209</th>\n",
       "      <td>350</td>\n",
       "      <td>350</td>\n",
       "    </tr>\n",
       "    <tr>\n",
       "      <th>19210</th>\n",
       "      <td>350</td>\n",
       "      <td>350</td>\n",
       "    </tr>\n",
       "  </tbody>\n",
       "</table>\n",
       "<p>19211 rows × 2 columns</p>\n",
       "</div>"
      ],
      "text/plain": [
       "       width  height\n",
       "0        350     350\n",
       "1        350     350\n",
       "2        350     350\n",
       "3        350     350\n",
       "4        350     350\n",
       "...      ...     ...\n",
       "19206    350     350\n",
       "19207    350     350\n",
       "19208    350     350\n",
       "19209    350     350\n",
       "19210    350     350\n",
       "\n",
       "[19211 rows x 2 columns]"
      ]
     },
     "execution_count": 50,
     "metadata": {},
     "output_type": "execute_result"
    }
   ],
   "source": [
    "df_chair_dims"
   ]
  },
  {
   "cell_type": "code",
   "execution_count": 51,
   "metadata": {},
   "outputs": [
    {
     "data": {
      "text/html": [
       "<div>\n",
       "<style scoped>\n",
       "    .dataframe tbody tr th:only-of-type {\n",
       "        vertical-align: middle;\n",
       "    }\n",
       "\n",
       "    .dataframe tbody tr th {\n",
       "        vertical-align: top;\n",
       "    }\n",
       "\n",
       "    .dataframe thead th {\n",
       "        text-align: right;\n",
       "    }\n",
       "</style>\n",
       "<table border=\"1\" class=\"dataframe\">\n",
       "  <thead>\n",
       "    <tr style=\"text-align: right;\">\n",
       "      <th></th>\n",
       "      <th>width</th>\n",
       "      <th>height</th>\n",
       "    </tr>\n",
       "  </thead>\n",
       "  <tbody>\n",
       "    <tr>\n",
       "      <th>0</th>\n",
       "      <td>350</td>\n",
       "      <td>350</td>\n",
       "    </tr>\n",
       "    <tr>\n",
       "      <th>1</th>\n",
       "      <td>350</td>\n",
       "      <td>350</td>\n",
       "    </tr>\n",
       "    <tr>\n",
       "      <th>2</th>\n",
       "      <td>350</td>\n",
       "      <td>350</td>\n",
       "    </tr>\n",
       "    <tr>\n",
       "      <th>3</th>\n",
       "      <td>350</td>\n",
       "      <td>350</td>\n",
       "    </tr>\n",
       "    <tr>\n",
       "      <th>4</th>\n",
       "      <td>350</td>\n",
       "      <td>350</td>\n",
       "    </tr>\n",
       "    <tr>\n",
       "      <th>...</th>\n",
       "      <td>...</td>\n",
       "      <td>...</td>\n",
       "    </tr>\n",
       "    <tr>\n",
       "      <th>5905</th>\n",
       "      <td>350</td>\n",
       "      <td>350</td>\n",
       "    </tr>\n",
       "    <tr>\n",
       "      <th>5906</th>\n",
       "      <td>350</td>\n",
       "      <td>350</td>\n",
       "    </tr>\n",
       "    <tr>\n",
       "      <th>5907</th>\n",
       "      <td>350</td>\n",
       "      <td>350</td>\n",
       "    </tr>\n",
       "    <tr>\n",
       "      <th>5908</th>\n",
       "      <td>350</td>\n",
       "      <td>350</td>\n",
       "    </tr>\n",
       "    <tr>\n",
       "      <th>5909</th>\n",
       "      <td>350</td>\n",
       "      <td>350</td>\n",
       "    </tr>\n",
       "  </tbody>\n",
       "</table>\n",
       "<p>5910 rows × 2 columns</p>\n",
       "</div>"
      ],
      "text/plain": [
       "      width  height\n",
       "0       350     350\n",
       "1       350     350\n",
       "2       350     350\n",
       "3       350     350\n",
       "4       350     350\n",
       "...     ...     ...\n",
       "5905    350     350\n",
       "5906    350     350\n",
       "5907    350     350\n",
       "5908    350     350\n",
       "5909    350     350\n",
       "\n",
       "[5910 rows x 2 columns]"
      ]
     },
     "execution_count": 51,
     "metadata": {},
     "output_type": "execute_result"
    }
   ],
   "source": [
    "df_dresser_dims"
   ]
  },
  {
   "cell_type": "code",
   "execution_count": 52,
   "metadata": {},
   "outputs": [
    {
     "data": {
      "text/html": [
       "<div>\n",
       "<style scoped>\n",
       "    .dataframe tbody tr th:only-of-type {\n",
       "        vertical-align: middle;\n",
       "    }\n",
       "\n",
       "    .dataframe tbody tr th {\n",
       "        vertical-align: top;\n",
       "    }\n",
       "\n",
       "    .dataframe thead th {\n",
       "        text-align: right;\n",
       "    }\n",
       "</style>\n",
       "<table border=\"1\" class=\"dataframe\">\n",
       "  <thead>\n",
       "    <tr style=\"text-align: right;\">\n",
       "      <th></th>\n",
       "      <th>width</th>\n",
       "      <th>height</th>\n",
       "    </tr>\n",
       "  </thead>\n",
       "  <tbody>\n",
       "    <tr>\n",
       "      <th>0</th>\n",
       "      <td>350</td>\n",
       "      <td>350</td>\n",
       "    </tr>\n",
       "    <tr>\n",
       "      <th>1</th>\n",
       "      <td>350</td>\n",
       "      <td>350</td>\n",
       "    </tr>\n",
       "    <tr>\n",
       "      <th>2</th>\n",
       "      <td>350</td>\n",
       "      <td>350</td>\n",
       "    </tr>\n",
       "    <tr>\n",
       "      <th>3</th>\n",
       "      <td>350</td>\n",
       "      <td>350</td>\n",
       "    </tr>\n",
       "    <tr>\n",
       "      <th>4</th>\n",
       "      <td>350</td>\n",
       "      <td>350</td>\n",
       "    </tr>\n",
       "    <tr>\n",
       "      <th>...</th>\n",
       "      <td>...</td>\n",
       "      <td>...</td>\n",
       "    </tr>\n",
       "    <tr>\n",
       "      <th>19898</th>\n",
       "      <td>350</td>\n",
       "      <td>350</td>\n",
       "    </tr>\n",
       "    <tr>\n",
       "      <th>19899</th>\n",
       "      <td>350</td>\n",
       "      <td>350</td>\n",
       "    </tr>\n",
       "    <tr>\n",
       "      <th>19900</th>\n",
       "      <td>350</td>\n",
       "      <td>350</td>\n",
       "    </tr>\n",
       "    <tr>\n",
       "      <th>19901</th>\n",
       "      <td>350</td>\n",
       "      <td>350</td>\n",
       "    </tr>\n",
       "    <tr>\n",
       "      <th>19902</th>\n",
       "      <td>350</td>\n",
       "      <td>350</td>\n",
       "    </tr>\n",
       "  </tbody>\n",
       "</table>\n",
       "<p>19903 rows × 2 columns</p>\n",
       "</div>"
      ],
      "text/plain": [
       "       width  height\n",
       "0        350     350\n",
       "1        350     350\n",
       "2        350     350\n",
       "3        350     350\n",
       "4        350     350\n",
       "...      ...     ...\n",
       "19898    350     350\n",
       "19899    350     350\n",
       "19900    350     350\n",
       "19901    350     350\n",
       "19902    350     350\n",
       "\n",
       "[19903 rows x 2 columns]"
      ]
     },
     "execution_count": 52,
     "metadata": {},
     "output_type": "execute_result"
    }
   ],
   "source": [
    "df_lamp_dims"
   ]
  },
  {
   "cell_type": "code",
   "execution_count": 53,
   "metadata": {},
   "outputs": [
    {
     "data": {
      "text/html": [
       "<div>\n",
       "<style scoped>\n",
       "    .dataframe tbody tr th:only-of-type {\n",
       "        vertical-align: middle;\n",
       "    }\n",
       "\n",
       "    .dataframe tbody tr th {\n",
       "        vertical-align: top;\n",
       "    }\n",
       "\n",
       "    .dataframe thead th {\n",
       "        text-align: right;\n",
       "    }\n",
       "</style>\n",
       "<table border=\"1\" class=\"dataframe\">\n",
       "  <thead>\n",
       "    <tr style=\"text-align: right;\">\n",
       "      <th></th>\n",
       "      <th>width</th>\n",
       "      <th>height</th>\n",
       "    </tr>\n",
       "  </thead>\n",
       "  <tbody>\n",
       "    <tr>\n",
       "      <th>0</th>\n",
       "      <td>350</td>\n",
       "      <td>350</td>\n",
       "    </tr>\n",
       "    <tr>\n",
       "      <th>1</th>\n",
       "      <td>350</td>\n",
       "      <td>350</td>\n",
       "    </tr>\n",
       "    <tr>\n",
       "      <th>2</th>\n",
       "      <td>350</td>\n",
       "      <td>350</td>\n",
       "    </tr>\n",
       "    <tr>\n",
       "      <th>3</th>\n",
       "      <td>350</td>\n",
       "      <td>350</td>\n",
       "    </tr>\n",
       "    <tr>\n",
       "      <th>4</th>\n",
       "      <td>350</td>\n",
       "      <td>350</td>\n",
       "    </tr>\n",
       "    <tr>\n",
       "      <th>...</th>\n",
       "      <td>...</td>\n",
       "      <td>...</td>\n",
       "    </tr>\n",
       "    <tr>\n",
       "      <th>3143</th>\n",
       "      <td>350</td>\n",
       "      <td>350</td>\n",
       "    </tr>\n",
       "    <tr>\n",
       "      <th>3144</th>\n",
       "      <td>350</td>\n",
       "      <td>350</td>\n",
       "    </tr>\n",
       "    <tr>\n",
       "      <th>3145</th>\n",
       "      <td>350</td>\n",
       "      <td>350</td>\n",
       "    </tr>\n",
       "    <tr>\n",
       "      <th>3146</th>\n",
       "      <td>350</td>\n",
       "      <td>350</td>\n",
       "    </tr>\n",
       "    <tr>\n",
       "      <th>3147</th>\n",
       "      <td>350</td>\n",
       "      <td>350</td>\n",
       "    </tr>\n",
       "  </tbody>\n",
       "</table>\n",
       "<p>3148 rows × 2 columns</p>\n",
       "</div>"
      ],
      "text/plain": [
       "      width  height\n",
       "0       350     350\n",
       "1       350     350\n",
       "2       350     350\n",
       "3       350     350\n",
       "4       350     350\n",
       "...     ...     ...\n",
       "3143    350     350\n",
       "3144    350     350\n",
       "3145    350     350\n",
       "3146    350     350\n",
       "3147    350     350\n",
       "\n",
       "[3148 rows x 2 columns]"
      ]
     },
     "execution_count": 53,
     "metadata": {},
     "output_type": "execute_result"
    }
   ],
   "source": [
    "df_sofa_dims"
   ]
  },
  {
   "cell_type": "code",
   "execution_count": 54,
   "metadata": {},
   "outputs": [
    {
     "data": {
      "text/html": [
       "<div>\n",
       "<style scoped>\n",
       "    .dataframe tbody tr th:only-of-type {\n",
       "        vertical-align: middle;\n",
       "    }\n",
       "\n",
       "    .dataframe tbody tr th {\n",
       "        vertical-align: top;\n",
       "    }\n",
       "\n",
       "    .dataframe thead th {\n",
       "        text-align: right;\n",
       "    }\n",
       "</style>\n",
       "<table border=\"1\" class=\"dataframe\">\n",
       "  <thead>\n",
       "    <tr style=\"text-align: right;\">\n",
       "      <th></th>\n",
       "      <th>width</th>\n",
       "      <th>height</th>\n",
       "    </tr>\n",
       "  </thead>\n",
       "  <tbody>\n",
       "    <tr>\n",
       "      <th>0</th>\n",
       "      <td>350</td>\n",
       "      <td>350</td>\n",
       "    </tr>\n",
       "    <tr>\n",
       "      <th>1</th>\n",
       "      <td>350</td>\n",
       "      <td>350</td>\n",
       "    </tr>\n",
       "    <tr>\n",
       "      <th>2</th>\n",
       "      <td>350</td>\n",
       "      <td>350</td>\n",
       "    </tr>\n",
       "    <tr>\n",
       "      <th>3</th>\n",
       "      <td>350</td>\n",
       "      <td>350</td>\n",
       "    </tr>\n",
       "    <tr>\n",
       "      <th>4</th>\n",
       "      <td>350</td>\n",
       "      <td>350</td>\n",
       "    </tr>\n",
       "    <tr>\n",
       "      <th>...</th>\n",
       "      <td>...</td>\n",
       "      <td>...</td>\n",
       "    </tr>\n",
       "    <tr>\n",
       "      <th>15442</th>\n",
       "      <td>350</td>\n",
       "      <td>350</td>\n",
       "    </tr>\n",
       "    <tr>\n",
       "      <th>15443</th>\n",
       "      <td>350</td>\n",
       "      <td>350</td>\n",
       "    </tr>\n",
       "    <tr>\n",
       "      <th>15444</th>\n",
       "      <td>350</td>\n",
       "      <td>350</td>\n",
       "    </tr>\n",
       "    <tr>\n",
       "      <th>15445</th>\n",
       "      <td>350</td>\n",
       "      <td>350</td>\n",
       "    </tr>\n",
       "    <tr>\n",
       "      <th>15446</th>\n",
       "      <td>350</td>\n",
       "      <td>350</td>\n",
       "    </tr>\n",
       "  </tbody>\n",
       "</table>\n",
       "<p>15447 rows × 2 columns</p>\n",
       "</div>"
      ],
      "text/plain": [
       "       width  height\n",
       "0        350     350\n",
       "1        350     350\n",
       "2        350     350\n",
       "3        350     350\n",
       "4        350     350\n",
       "...      ...     ...\n",
       "15442    350     350\n",
       "15443    350     350\n",
       "15444    350     350\n",
       "15445    350     350\n",
       "15446    350     350\n",
       "\n",
       "[15447 rows x 2 columns]"
      ]
     },
     "execution_count": 54,
     "metadata": {},
     "output_type": "execute_result"
    }
   ],
   "source": [
    "df_table_dims"
   ]
  },
  {
   "cell_type": "markdown",
   "metadata": {},
   "source": [
    "#### Visualization of each dataset"
   ]
  },
  {
   "cell_type": "code",
   "execution_count": 55,
   "metadata": {},
   "outputs": [
    {
     "data": {
      "text/plain": [
       "<Axes: xlabel='width', ylabel='height'>"
      ]
     },
     "execution_count": 55,
     "metadata": {},
     "output_type": "execute_result"
    },
    {
     "data": {
      "image/png": "[encoded data removed]",
      "text/plain": [
       "<Figure size 640x480 with 1 Axes>"
      ]
     },
     "metadata": {},
     "output_type": "display_data"
    }
   ],
   "source": [
    "df_bed_dims.plot.scatter(x=\"width\", y=\"height\")"
   ]
  },
  {
   "cell_type": "code",
   "execution_count": 56,
   "metadata": {},
   "outputs": [
    {
     "data": {
      "text/plain": [
       "<Axes: xlabel='width', ylabel='height'>"
      ]
     },
     "execution_count": 56,
     "metadata": {},
     "output_type": "execute_result"
    },
    {
     "data": {
      "image/png": "[encoded data removed]",
      "text/plain": [
       "<Figure size 640x480 with 1 Axes>"
      ]
     },
     "metadata": {},
     "output_type": "display_data"
    }
   ],
   "source": [
    "df_chair_dims.plot.scatter(x=\"width\", y=\"height\")"
   ]
  },
  {
   "cell_type": "code",
   "execution_count": 57,
   "metadata": {},
   "outputs": [
    {
     "data": {
      "text/plain": [
       "<Axes: xlabel='width', ylabel='height'>"
      ]
     },
     "execution_count": 57,
     "metadata": {},
     "output_type": "execute_result"
    },
    {
     "data": {
      "image/png": "[encoded data removed]",
      "text/plain": [
       "<Figure size 640x480 with 1 Axes>"
      ]
     },
     "metadata": {},
     "output_type": "display_data"
    }
   ],
   "source": [
    "df_dresser_dims.plot.scatter(x=\"width\", y=\"height\")"
   ]
  },
  {
   "cell_type": "code",
   "execution_count": 58,
   "metadata": {},
   "outputs": [
    {
     "data": {
      "text/plain": [
       "<Axes: xlabel='width', ylabel='height'>"
      ]
     },
     "execution_count": 58,
     "metadata": {},
     "output_type": "execute_result"
    },
    {
     "data": {
      "image/png": "[encoded data removed]",
      "text/plain": [
       "<Figure size 640x480 with 1 Axes>"
      ]
     },
     "metadata": {},
     "output_type": "display_data"
    }
   ],
   "source": [
    "df_lamp_dims.plot.scatter(x=\"width\", y=\"height\")"
   ]
  },
  {
   "cell_type": "code",
   "execution_count": 59,
   "metadata": {},
   "outputs": [
    {
     "data": {
      "text/plain": [
       "<Axes: xlabel='width', ylabel='height'>"
      ]
     },
     "execution_count": 59,
     "metadata": {},
     "output_type": "execute_result"
    },
    {
     "data": {
      "image/png": "[encoded data removed]",
      "text/plain": [
       "<Figure size 640x480 with 1 Axes>"
      ]
     },
     "metadata": {},
     "output_type": "display_data"
    }
   ],
   "source": [
    "df_sofa_dims.plot.scatter(x=\"width\", y=\"height\")"
   ]
  },
  {
   "cell_type": "code",
   "execution_count": 60,
   "metadata": {},
   "outputs": [
    {
     "data": {
      "text/plain": [
       "<Axes: xlabel='width', ylabel='height'>"
      ]
     },
     "execution_count": 60,
     "metadata": {},
     "output_type": "execute_result"
    },
    {
     "data": {
      "image/png": "[encoded data removed]",
      "text/plain": [
       "<Figure size 640x480 with 1 Axes>"
      ]
     },
     "metadata": {},
     "output_type": "display_data"
    }
   ],
   "source": [
    "df_table_dims.plot.scatter(x=\"width\", y=\"height\")"
   ]
  },
  {
   "cell_type": "markdown",
   "metadata": {},
   "source": [
    "Investigate anomaly data in the dataframe"
   ]
  },
  {
   "cell_type": "code",
   "execution_count": 61,
   "metadata": {},
   "outputs": [
    {
     "data": {
      "text/html": [
       "<div>\n",
       "<style scoped>\n",
       "    .dataframe tbody tr th:only-of-type {\n",
       "        vertical-align: middle;\n",
       "    }\n",
       "\n",
       "    .dataframe tbody tr th {\n",
       "        vertical-align: top;\n",
       "    }\n",
       "\n",
       "    .dataframe thead th {\n",
       "        text-align: right;\n",
       "    }\n",
       "</style>\n",
       "<table border=\"1\" class=\"dataframe\">\n",
       "  <thead>\n",
       "    <tr style=\"text-align: right;\">\n",
       "      <th></th>\n",
       "      <th>count</th>\n",
       "      <th>mean</th>\n",
       "      <th>std</th>\n",
       "      <th>min</th>\n",
       "      <th>25%</th>\n",
       "      <th>50%</th>\n",
       "      <th>75%</th>\n",
       "      <th>max</th>\n",
       "    </tr>\n",
       "  </thead>\n",
       "  <tbody>\n",
       "    <tr>\n",
       "      <th>width</th>\n",
       "      <td>15447.0</td>\n",
       "      <td>350.009711</td>\n",
       "      <td>1.206894</td>\n",
       "      <td>350.0</td>\n",
       "      <td>350.0</td>\n",
       "      <td>350.0</td>\n",
       "      <td>350.0</td>\n",
       "      <td>500.0</td>\n",
       "    </tr>\n",
       "    <tr>\n",
       "      <th>height</th>\n",
       "      <td>15447.0</td>\n",
       "      <td>350.006215</td>\n",
       "      <td>0.772412</td>\n",
       "      <td>350.0</td>\n",
       "      <td>350.0</td>\n",
       "      <td>350.0</td>\n",
       "      <td>350.0</td>\n",
       "      <td>446.0</td>\n",
       "    </tr>\n",
       "  </tbody>\n",
       "</table>\n",
       "</div>"
      ],
      "text/plain": [
       "          count        mean       std    min    25%    50%    75%    max\n",
       "width   15447.0  350.009711  1.206894  350.0  350.0  350.0  350.0  500.0\n",
       "height  15447.0  350.006215  0.772412  350.0  350.0  350.0  350.0  446.0"
      ]
     },
     "execution_count": 61,
     "metadata": {},
     "output_type": "execute_result"
    }
   ],
   "source": [
    "df_table_dims.describe().T"
   ]
  },
  {
   "cell_type": "markdown",
   "metadata": {},
   "source": [
    "## Conclusion"
   ]
  },
  {
   "cell_type": "markdown",
   "metadata": {},
   "source": [
    "-   The dataset contains 6 categories of items with 90083 items total\n",
    "-   The dataset contains all file with JPEG type\n",
    "-   The dataset contains image mainly in two dimensions: 224x224 and 350x350. However there are one anomaly dimensions in the table category which is: 500x446\n",
    "-"
   ]
  }
 ],
 "metadata": {
  "kernelspec": {
   "display_name": "ML_py10",
   "language": "python",
   "name": "python3"
  },
  "language_info": {
   "codemirror_mode": {
    "name": "ipython",
    "version": 3
   },
   "file_extension": ".py",
   "mimetype": "text/x-python",
   "name": "python",
   "nbconvert_exporter": "python",
   "pygments_lexer": "ipython3",
   "version": "3.10.14"
  }
 },
 "nbformat": 4,
 "nbformat_minor": 2
}
