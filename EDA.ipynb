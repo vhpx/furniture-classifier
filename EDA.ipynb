{
 "cells": [
  {
   "cell_type": "code",
   "execution_count": 5,
   "metadata": {},
   "outputs": [],
   "source": [
    "# Set global directories\n",
    "DATA_DIR = \"./data\"\n",
    "DATASET_DIR = f\"{DATA_DIR}/datasets\"\n",
    "\n",
    "CACHE_DIR = f\"{DATA_DIR}/cache\"\n",
    "DATASET_CACHE_DIR = f\"{CACHE_DIR}/datasets\"\n",
    "\n",
    "########################################\n",
    "#\n",
    "TRAIN_DATA_DIR = f\"/Furniture_Data\"\n",
    "#\n",
    "# IMPORTANT: After everyone in the team has migrated the \"./Furniture_Data\" to\n",
    "# \"./data/datasets/raw\", we can change the TRAIN_DATA_DIR to the following:\n",
    "#\n",
    "# TRAIN_DATA_DIR = f\"{DATASET_DIR}/raw\"\n",
    "#\n",
    "########################################\n",
    "\n",
    "CLEANED_TRAIN_DATA_DIR = f\"{DATASET_DIR}/cleaned\"\n",
    "PROCESSED_TRAIN_DATA_DIR = f\"{DATASET_DIR}/processed\"\n",
    "\n",
    "# Set path to cache visualizations and models\n",
    "VISUALIZATION_DIR = f\"{CACHE_DIR}/visualizations\"\n",
    "MODEL_DIR = f\"{CACHE_DIR}/models\""
   ]
  },
  {
   "cell_type": "code",
   "execution_count": 6,
   "metadata": {},
   "outputs": [],
   "source": [
    "from utils.cache import reload_custom_libaries\n",
    "\n",
    "reload_custom_libaries()"
   ]
  },
  {
   "cell_type": "markdown",
   "metadata": {},
   "source": [
    "# Import necessary packages and libraries"
   ]
  },
  {
   "cell_type": "code",
   "execution_count": 7,
   "metadata": {},
   "outputs": [],
   "source": [
    "import pandas as pd\n",
    "import numpy as np\n",
    "import matplotlib.pyplot as plt\n",
    "import tensorflow as tf\n",
    "from PIL import Image\n",
    "from PIL import ImageFile\n",
    "import os, sys\n",
    "\n",
    "# Load personalize utils\n",
    "from utils.image_process import image_path, img_dupChecks, imgSizeList"
   ]
  },
  {
   "cell_type": "markdown",
   "metadata": {},
   "source": [
    "# Get a general view of the dataset"
   ]
  },
  {
   "cell_type": "code",
   "execution_count": 8,
   "metadata": {},
   "outputs": [
    {
     "name": "stdout",
     "output_type": "stream",
     "text": [
      "Found 90082 files belonging to 6 classes.\n"
     ]
    }
   ],
   "source": [
    "data = tf.keras.utils.image_dataset_from_directory(TRAIN_DATA_DIR)"
   ]
  },
  {
   "cell_type": "markdown",
   "metadata": {},
   "source": [
    "# Extract image paths into different categories base on its type"
   ]
  },
  {
   "cell_type": "code",
   "execution_count": 9,
   "metadata": {},
   "outputs": [
    {
     "name": "stdout",
     "output_type": "stream",
     "text": [
      "Successfully extract all paths!\n"
     ]
    }
   ],
   "source": [
    "# extracting paths from each of the category\n",
    "beds_path = image_path(TRAIN_DATA_DIR, \"beds\")\n",
    "chairs_path = image_path(TRAIN_DATA_DIR, \"chairs\")\n",
    "dressers_path = image_path(TRAIN_DATA_DIR, \"dressers\")\n",
    "lamps_path = image_path(TRAIN_DATA_DIR, \"lamps\")\n",
    "sofas_path = image_path(TRAIN_DATA_DIR, \"sofas\")\n",
    "tables_path = image_path(TRAIN_DATA_DIR, \"tables\")\n",
    "\n",
    "print(\"Successfully extract all paths!\")"
   ]
  },
  {
   "cell_type": "markdown",
   "metadata": {},
   "source": [
    "# EDA"
   ]
  },
  {
   "cell_type": "markdown",
   "metadata": {},
   "source": [
    "## Get the total amount of images in different categories before checking for duplicants"
   ]
  },
  {
   "cell_type": "code",
   "execution_count": 10,
   "metadata": {},
   "outputs": [
    {
     "name": "stdout",
     "output_type": "stream",
     "text": [
      "Amount of bed:  6578\n",
      "Amount of chair:  22053\n",
      "Amount of dresser:  7871\n",
      "Amount of lamp:  32402\n",
      "Amount of sofa:  4080\n",
      "Amount of table:  17100\n",
      "Total:  90084\n"
     ]
    }
   ],
   "source": [
    "print(\"Amount of bed: \", len(beds_path))\n",
    "print(\"Amount of chair: \", len(chairs_path))\n",
    "print(\"Amount of dresser: \", len(dressers_path))\n",
    "print(\"Amount of lamp: \", len(lamps_path))\n",
    "print(\"Amount of sofa: \", len(sofas_path))\n",
    "print(\"Amount of table: \", len(tables_path))\n",
    "print(\n",
    "    \"Total: \",\n",
    "    len(beds_path)\n",
    "    + len(chairs_path)\n",
    "    + len(dressers_path)\n",
    "    + len(lamps_path)\n",
    "    + len(sofas_path)\n",
    "    + len(tables_path),\n",
    ")"
   ]
  },
  {
   "cell_type": "markdown",
   "metadata": {},
   "source": [
    "Visualization"
   ]
  },
  {
   "cell_type": "markdown",
   "metadata": {},
   "source": [
    "## Get duplicate images from each categories"
   ]
  },
  {
   "cell_type": "markdown",
   "metadata": {},
   "source": [
    "### Check duplicants and remove duplicants from each categories"
   ]
  },
  {
   "cell_type": "code",
   "execution_count": 11,
   "metadata": {},
   "outputs": [
    {
     "name": "stdout",
     "output_type": "stream",
     "text": [
      "Bed\n",
      "Number of duplicants:  400\n",
      "Duplicants has been removed!\n",
      "Chair\n",
      "Number of duplicants:  1836\n",
      "Duplicants has been removed!\n",
      "Dresser\n",
      "Number of duplicants:  632\n",
      "Duplicants has been removed!\n",
      "Sofa\n",
      "Number of duplicants:  353\n",
      "Duplicants has been removed!\n"
     ]
    }
   ],
   "source": [
    "# Get the amount of duplicants and then remove it from the dataset\n",
    "print(\"Bed\")\n",
    "img_dupChecks(beds_path)\n",
    "print(\"Chair\")\n",
    "img_dupChecks(chairs_path)\n",
    "print(\"Dresser\")\n",
    "img_dupChecks(dressers_path)\n",
    "print(\"Sofa\")\n",
    "img_dupChecks(sofas_path)"
   ]
  },
  {
   "cell_type": "code",
   "execution_count": 12,
   "metadata": {},
   "outputs": [
    {
     "name": "stdout",
     "output_type": "stream",
     "text": [
      "Lamp\n",
      "Number of duplicants:  6245\n",
      "Duplicants has been removed!\n",
      "Table\n",
      "Number of duplicants:  1049\n",
      "Duplicants has been removed!\n"
     ]
    }
   ],
   "source": [
    "print(\"Lamp\")\n",
    "img_dupChecks(lamps_path)\n",
    "print(\"Table\")\n",
    "img_dupChecks(tables_path)"
   ]
  },
  {
   "cell_type": "markdown",
   "metadata": {},
   "source": [
    "### Recheck the categories after removing duplicants"
   ]
  },
  {
   "cell_type": "code",
   "execution_count": 13,
   "metadata": {},
   "outputs": [
    {
     "name": "stdout",
     "output_type": "stream",
     "text": [
      "Amount of bed:  6130\n",
      "Amount of chair:  19211\n",
      "Amount of dresser:  5910\n",
      "Amount of lamp:  19903\n",
      "Amount of sofa:  3148\n",
      "Amount of table:  15447\n",
      "Total:  69749\n"
     ]
    }
   ],
   "source": [
    "print(\"Amount of bed: \", len(beds_path))\n",
    "print(\"Amount of chair: \", len(chairs_path))\n",
    "print(\"Amount of dresser: \", len(dressers_path))\n",
    "print(\"Amount of lamp: \", len(lamps_path))\n",
    "print(\"Amount of sofa: \", len(sofas_path))\n",
    "print(\"Amount of table: \", len(tables_path))\n",
    "print(\n",
    "    \"Total: \",\n",
    "    len(beds_path)\n",
    "    + len(chairs_path)\n",
    "    + len(dressers_path)\n",
    "    + len(lamps_path)\n",
    "    + len(sofas_path)\n",
    "    + len(tables_path),\n",
    ")"
   ]
  },
  {
   "cell_type": "markdown",
   "metadata": {},
   "source": [
    "Visualization"
   ]
  },
  {
   "cell_type": "markdown",
   "metadata": {},
   "source": [
    "## Get different amount of image size of each category"
   ]
  },
  {
   "cell_type": "code",
   "execution_count": 14,
   "metadata": {},
   "outputs": [
    {
     "name": "stdout",
     "output_type": "stream",
     "text": [
      "Beds\n",
      "224x224 pixels:  6097\n",
      "350x350 pixels:  33\n",
      "Other size:  0\n",
      "Chairs\n",
      "224x224 pixels:  0\n",
      "350x350 pixels:  19211\n",
      "Other size:  0\n",
      "Dressers\n",
      "224x224 pixels:  0\n",
      "350x350 pixels:  5910\n",
      "Other size:  0\n",
      "Lamps\n",
      "224x224 pixels:  0\n",
      "350x350 pixels:  19903\n",
      "Other size:  0\n",
      "sofas\n",
      "224x224 pixels:  0\n",
      "350x350 pixels:  3148\n",
      "Other size:  0\n",
      "Tables\n",
      "224x224 pixels:  0\n",
      "350x350 pixels:  15446\n",
      "Other size:  1\n"
     ]
    }
   ],
   "source": [
    "print(\"Beds\")\n",
    "imgSizeList(beds_path)\n",
    "print(\"Chairs\")\n",
    "imgSizeList(chairs_path)\n",
    "print(\"Dressers\")\n",
    "imgSizeList(dressers_path)\n",
    "print(\"Lamps\")\n",
    "imgSizeList(lamps_path)\n",
    "print(\"sofas\")\n",
    "imgSizeList(sofas_path)\n",
    "print(\"Tables\")\n",
    "imgSizeList(tables_path)"
   ]
  },
  {
   "cell_type": "markdown",
   "metadata": {},
   "source": [
    "Visualization"
   ]
  },
  {
   "cell_type": "code",
   "execution_count": null,
   "metadata": {},
   "outputs": [],
   "source": []
  },
  {
   "cell_type": "markdown",
   "metadata": {},
   "source": [
    "## Rescale all of the images to one size"
   ]
  },
  {
   "cell_type": "markdown",
   "metadata": {},
   "source": [
    "What is better in this situation? Downscale or Upscale the Image"
   ]
  }
 ],
 "metadata": {
  "kernelspec": {
   "display_name": "ML_py10",
   "language": "python",
   "name": "python3"
  },
  "language_info": {
   "codemirror_mode": {
    "name": "ipython",
    "version": 3
   },
   "file_extension": ".py",
   "mimetype": "text/x-python",
   "name": "python",
   "nbconvert_exporter": "python",
   "pygments_lexer": "ipython3",
   "version": "3.10.14"
  }
 },
 "nbformat": 4,
 "nbformat_minor": 2
}
