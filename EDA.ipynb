{
 "cells": [
  {
   "cell_type": "code",
   "execution_count": 2,
   "metadata": {},
   "outputs": [],
   "source": [
    "# Set global directories\n",
    "DATA_DIR = \"./data\"\n",
    "DATASET_DIR = f\"{DATA_DIR}/datasets\"\n",
    "\n",
    "CACHE_DIR = f\"{DATA_DIR}/cache\"\n",
    "DATASET_CACHE_DIR = f\"{CACHE_DIR}/datasets\"\n",
    "\n",
    "TRAIN_DATA_DIR = f\"{DATASET_DIR}/raw\"\n",
    "CLEANED_TRAIN_DATA_DIR = f\"{DATASET_DIR}/cleaned\"\n",
    "PROCESSED_TRAIN_DATA_DIR = f\"{DATASET_DIR}/processed\"\n",
    "\n",
    "# Set path to cache visualizations and models\n",
    "VISUALIZATION_DIR = f\"{CACHE_DIR}/visualizations\"\n",
    "MODEL_DIR = f\"{CACHE_DIR}/models\""
   ]
  },
  {
   "cell_type": "code",
   "execution_count": 3,
   "metadata": {},
   "outputs": [
    {
     "name": "stdout",
     "output_type": "stream",
     "text": [
      "Modules ['utils.image_process'] do not exist in the current environment.\n",
      "Refreshing cache for all modules...\n"
     ]
    }
   ],
   "source": [
    "from utils.cache import reload_custom_libaries\n",
    "\n",
    "reload_custom_libaries()"
   ]
  },
  {
   "cell_type": "markdown",
   "metadata": {},
   "source": [
    "# Import necessary packages and libraries"
   ]
  },
  {
   "cell_type": "code",
   "execution_count": 4,
   "metadata": {},
   "outputs": [
    {
     "name": "stderr",
     "output_type": "stream",
     "text": [
      "c:\\Users\\thaih\\.conda\\envs\\Assignment2\\lib\\site-packages\\tqdm\\auto.py:21: TqdmWarning: IProgress not found. Please update jupyter and ipywidgets. See https://ipywidgets.readthedocs.io/en/stable/user_install.html\n",
      "  from .autonotebook import tqdm as notebook_tqdm\n"
     ]
    }
   ],
   "source": [
    "import pandas as pd\n",
    "import numpy as np\n",
    "import matplotlib.pyplot as plt\n",
    "import tensorflow as tf\n",
    "from PIL import Image\n",
    "from PIL import ImageFile\n",
    "import os, sys\n",
    "from tqdm.auto import tqdm\n",
    "\n",
    "\n",
    "# Load personalize utils\n",
    "from utils.image_process import image_path, img_dupChecks, imgSizeList"
   ]
  },
  {
   "cell_type": "markdown",
   "metadata": {},
   "source": [
    "# Get a general view of the dataset"
   ]
  },
  {
   "cell_type": "code",
   "execution_count": 5,
   "metadata": {},
   "outputs": [
    {
     "name": "stdout",
     "output_type": "stream",
     "text": [
      "Found 90082 files belonging to 6 classes.\n"
     ]
    }
   ],
   "source": [
    "data = tf.keras.utils.image_dataset_from_directory(TRAIN_DATA_DIR)"
   ]
  },
  {
   "cell_type": "markdown",
   "metadata": {},
   "source": [
    "# Extract image paths into different categories base on its type"
   ]
  },
  {
   "cell_type": "code",
   "execution_count": 6,
   "metadata": {},
   "outputs": [
    {
     "name": "stderr",
     "output_type": "stream",
     "text": [
      "Getting path: 100%|██████████| 17/17 [00:00<00:00, 246.05it/s]\n",
      "Getting path: 100%|██████████| 17/17 [00:00<00:00, 103.18it/s]\n",
      "Getting path: 100%|██████████| 17/17 [00:00<00:00, 313.20it/s]\n",
      "Getting path: 100%|██████████| 17/17 [00:00<00:00, 80.18it/s]\n",
      "Getting path: 100%|██████████| 17/17 [00:00<00:00, 545.78it/s]\n",
      "Getting path: 100%|██████████| 17/17 [00:00<00:00, 114.35it/s]\n"
     ]
    },
    {
     "name": "stdout",
     "output_type": "stream",
     "text": [
      "Successfully extract all paths!\n"
     ]
    }
   ],
   "source": [
    "# extracting paths from each of the category\n",
    "beds_path = image_path(TRAIN_DATA_DIR, \"beds\")\n",
    "chairs_path = image_path(TRAIN_DATA_DIR, \"chairs\")\n",
    "dressers_path = image_path(TRAIN_DATA_DIR, \"dressers\")\n",
    "lamps_path = image_path(TRAIN_DATA_DIR, \"lamps\")\n",
    "sofas_path = image_path(TRAIN_DATA_DIR, \"sofas\")\n",
    "tables_path = image_path(TRAIN_DATA_DIR, \"tables\")\n",
    "\n",
    "print(\"Successfully extract all paths!\")"
   ]
  },
  {
   "cell_type": "markdown",
   "metadata": {},
   "source": [
    "# EDA"
   ]
  },
  {
   "cell_type": "markdown",
   "metadata": {},
   "source": [
    "## Get the total amount of images in different categories before checking for duplicants"
   ]
  },
  {
   "cell_type": "code",
   "execution_count": 7,
   "metadata": {},
   "outputs": [
    {
     "name": "stdout",
     "output_type": "stream",
     "text": [
      "Amount of bed:  6578\n",
      "Amount of chair:  22053\n",
      "Amount of dresser:  7871\n",
      "Amount of lamp:  32401\n",
      "Amount of sofa:  4080\n",
      "Amount of table:  17100\n",
      "Total:  90083\n"
     ]
    }
   ],
   "source": [
    "print(\"Amount of bed: \", len(beds_path))\n",
    "print(\"Amount of chair: \", len(chairs_path))\n",
    "print(\"Amount of dresser: \", len(dressers_path))\n",
    "print(\"Amount of lamp: \", len(lamps_path))\n",
    "print(\"Amount of sofa: \", len(sofas_path))\n",
    "print(\"Amount of table: \", len(tables_path))\n",
    "print(\n",
    "    \"Total: \",\n",
    "    len(beds_path)\n",
    "    + len(chairs_path)\n",
    "    + len(dressers_path)\n",
    "    + len(lamps_path)\n",
    "    + len(sofas_path)\n",
    "    + len(tables_path),\n",
    ")"
   ]
  },
  {
   "cell_type": "markdown",
   "metadata": {},
   "source": [
    "### Visualization"
   ]
  },
  {
   "cell_type": "code",
   "execution_count": 8,
   "metadata": {},
   "outputs": [],
   "source": [
    "image_Classes = {\n",
    "    \"Beds\": len(beds_path),\n",
    "    \"Chairs\": len(chairs_path),\n",
    "    \"Dressers\": len(dressers_path),\n",
    "    \"Sofas\": len(sofas_path),\n",
    "    \"Lamps\": len(lamps_path),\n",
    "    \"Tables\": len(tables_path),\n",
    "}"
   ]
  },
  {
   "cell_type": "code",
   "execution_count": 9,
   "metadata": {},
   "outputs": [
    {
     "data": {
      "text/plain": [
       "Text(0, 0.5, 'Amount')"
      ]
     },
     "execution_count": 9,
     "metadata": {},
     "output_type": "execute_result"
    },
    {
     "data": {
      "image/png": "[encoded data removed]",
      "text/plain": [
       "<Figure size 640x480 with 1 Axes>"
      ]
     },
     "metadata": {},
     "output_type": "display_data"
    }
   ],
   "source": [
    "plt.bar(image_Classes.keys(), image_Classes.values(), width=0.5)\n",
    "plt.title(\"Number of images in each categories\")\n",
    "plt.xlabel(\"Categories\")\n",
    "plt.ylabel(\"Amount\")"
   ]
  },
  {
   "cell_type": "markdown",
   "metadata": {},
   "source": [
    "## Get duplicate images from each categories"
   ]
  },
  {
   "cell_type": "markdown",
   "metadata": {},
   "source": [
    "### Check duplicants and remove duplicants from each categories"
   ]
  },
  {
   "cell_type": "code",
   "execution_count": 10,
   "metadata": {},
   "outputs": [
    {
     "name": "stdout",
     "output_type": "stream",
     "text": [
      "Bed\n"
     ]
    },
    {
     "name": "stderr",
     "output_type": "stream",
     "text": [
      "Finding duplicate images: 100%|██████████| 6578/6578 [00:08<00:00, 753.84it/s]\n"
     ]
    },
    {
     "name": "stdout",
     "output_type": "stream",
     "text": [
      "Number of duplicants:  397\n",
      "Duplicants has been removed!\n",
      "Chair\n"
     ]
    },
    {
     "name": "stderr",
     "output_type": "stream",
     "text": [
      "Finding duplicate images: 100%|██████████| 22053/22053 [00:31<00:00, 710.61it/s]\n"
     ]
    },
    {
     "name": "stdout",
     "output_type": "stream",
     "text": [
      "Number of duplicants:  1789\n",
      "Duplicants has been removed!\n",
      "Dresser\n"
     ]
    },
    {
     "name": "stderr",
     "output_type": "stream",
     "text": [
      "Finding duplicate images: 100%|██████████| 7871/7871 [00:11<00:00, 676.91it/s]\n"
     ]
    },
    {
     "name": "stdout",
     "output_type": "stream",
     "text": [
      "Number of duplicants:  595\n",
      "Duplicants has been removed!\n",
      "Sofa\n"
     ]
    },
    {
     "name": "stderr",
     "output_type": "stream",
     "text": [
      "Finding duplicate images: 100%|██████████| 4080/4080 [00:05<00:00, 680.10it/s]"
     ]
    },
    {
     "name": "stdout",
     "output_type": "stream",
     "text": [
      "Number of duplicants:  357\n",
      "Duplicants has been removed!\n"
     ]
    },
    {
     "name": "stderr",
     "output_type": "stream",
     "text": [
      "\n"
     ]
    }
   ],
   "source": [
    "# Get the amount of duplicants and then remove it from the dataset\n",
    "print(\"Bed\")\n",
    "img_dupChecks(beds_path)\n",
    "print(\"Chair\")\n",
    "img_dupChecks(chairs_path)\n",
    "print(\"Dresser\")\n",
    "img_dupChecks(dressers_path)\n",
    "print(\"Sofa\")\n",
    "img_dupChecks(sofas_path)"
   ]
  },
  {
   "cell_type": "code",
   "execution_count": 11,
   "metadata": {},
   "outputs": [
    {
     "name": "stdout",
     "output_type": "stream",
     "text": [
      "Lamp\n"
     ]
    },
    {
     "name": "stderr",
     "output_type": "stream",
     "text": [
      "Finding duplicate images: 100%|██████████| 32401/32401 [00:54<00:00, 598.25it/s]\n"
     ]
    },
    {
     "name": "stdout",
     "output_type": "stream",
     "text": [
      "Number of duplicants:  5528\n",
      "Duplicants has been removed!\n",
      "Table\n"
     ]
    },
    {
     "name": "stderr",
     "output_type": "stream",
     "text": [
      "Finding duplicate images: 100%|██████████| 17100/17100 [00:23<00:00, 733.03it/s]"
     ]
    },
    {
     "name": "stdout",
     "output_type": "stream",
     "text": [
      "Number of duplicants:  1007\n",
      "Duplicants has been removed!\n"
     ]
    },
    {
     "name": "stderr",
     "output_type": "stream",
     "text": [
      "\n"
     ]
    }
   ],
   "source": [
    "print(\"Lamp\")\n",
    "img_dupChecks(lamps_path)\n",
    "print(\"Table\")\n",
    "img_dupChecks(tables_path)"
   ]
  },
  {
   "cell_type": "markdown",
   "metadata": {},
   "source": [
    "### Recheck the categories after removing duplicants"
   ]
  },
  {
   "cell_type": "code",
   "execution_count": 12,
   "metadata": {},
   "outputs": [
    {
     "name": "stdout",
     "output_type": "stream",
     "text": [
      "Amount of bed:  6578\n",
      "Amount of chair:  22053\n",
      "Amount of dresser:  7871\n",
      "Amount of lamp:  32401\n",
      "Amount of sofa:  4080\n",
      "Amount of table:  17100\n",
      "Total:  90083\n"
     ]
    }
   ],
   "source": [
    "print(\"Amount of bed: \", len(beds_path))\n",
    "print(\"Amount of chair: \", len(chairs_path))\n",
    "print(\"Amount of dresser: \", len(dressers_path))\n",
    "print(\"Amount of lamp: \", len(lamps_path))\n",
    "print(\"Amount of sofa: \", len(sofas_path))\n",
    "print(\"Amount of table: \", len(tables_path))\n",
    "print(\n",
    "    \"Total: \",\n",
    "    len(beds_path)\n",
    "    + len(chairs_path)\n",
    "    + len(dressers_path)\n",
    "    + len(lamps_path)\n",
    "    + len(sofas_path)\n",
    "    + len(tables_path),\n",
    ")"
   ]
  },
  {
   "cell_type": "markdown",
   "metadata": {},
   "source": [
    "### Visualization"
   ]
  },
  {
   "cell_type": "code",
   "execution_count": 13,
   "metadata": {},
   "outputs": [],
   "source": [
    "image_Classes_modified = {\n",
    "    \"Beds\": len(beds_path),\n",
    "    \"Chairs\": len(chairs_path),\n",
    "    \"Dressers\": len(dressers_path),\n",
    "    \"Sofas\": len(sofas_path),\n",
    "    \"Lamps\": len(lamps_path),\n",
    "    \"Tables\": len(tables_path),\n",
    "}"
   ]
  },
  {
   "cell_type": "code",
   "execution_count": 14,
   "metadata": {},
   "outputs": [
    {
     "data": {
      "text/plain": [
       "Text(0, 0.5, 'Amount')"
      ]
     },
     "execution_count": 14,
     "metadata": {},
     "output_type": "execute_result"
    },
    {
     "data": {
      "image/png": "[encoded data removed]",
      "text/plain": [
       "<Figure size 640x480 with 1 Axes>"
      ]
     },
     "metadata": {},
     "output_type": "display_data"
    }
   ],
   "source": [
    "plt.bar(image_Classes_modified.keys(), image_Classes_modified.values(), width=0.5)\n",
    "plt.title(\"Number of images in each categories\")\n",
    "plt.xlabel(\"Categories\")\n",
    "plt.ylabel(\"Amount\")"
   ]
  },
  {
   "cell_type": "markdown",
   "metadata": {},
   "source": [
    "-   In the plot we can see the differences between of the amount in different columns. Because of that, we will need to check for the imbalances of our dataset"
   ]
  },
  {
   "cell_type": "markdown",
   "metadata": {},
   "source": [
    "## Get different amount of image size of each category"
   ]
  },
  {
   "cell_type": "code",
   "execution_count": 15,
   "metadata": {},
   "outputs": [
    {
     "name": "stdout",
     "output_type": "stream",
     "text": [
      "Beds\n"
     ]
    },
    {
     "name": "stderr",
     "output_type": "stream",
     "text": [
      "Getting image size: 100%|██████████| 6578/6578 [00:02<00:00, 2232.81it/s]\n"
     ]
    },
    {
     "name": "stdout",
     "output_type": "stream",
     "text": [
      "224x224 pixels:  6578\n",
      "350x350 pixels:  0\n",
      "Other size:  0\n",
      "Chairs\n"
     ]
    },
    {
     "name": "stderr",
     "output_type": "stream",
     "text": [
      "Getting image size: 100%|██████████| 22053/22053 [00:11<00:00, 1882.63it/s]\n"
     ]
    },
    {
     "name": "stdout",
     "output_type": "stream",
     "text": [
      "224x224 pixels:  19234\n",
      "350x350 pixels:  2819\n",
      "Other size:  0\n",
      "Dressers\n"
     ]
    },
    {
     "name": "stderr",
     "output_type": "stream",
     "text": [
      "Getting image size: 100%|██████████| 7871/7871 [00:03<00:00, 2114.77it/s]\n"
     ]
    },
    {
     "name": "stdout",
     "output_type": "stream",
     "text": [
      "224x224 pixels:  5912\n",
      "350x350 pixels:  1959\n",
      "Other size:  0\n",
      "Lamps\n"
     ]
    },
    {
     "name": "stderr",
     "output_type": "stream",
     "text": [
      "Getting image size: 100%|██████████| 32401/32401 [00:15<00:00, 2145.82it/s]\n"
     ]
    },
    {
     "name": "stdout",
     "output_type": "stream",
     "text": [
      "224x224 pixels:  19908\n",
      "350x350 pixels:  12493\n",
      "Other size:  0\n",
      "sofas\n"
     ]
    },
    {
     "name": "stderr",
     "output_type": "stream",
     "text": [
      "Getting image size: 100%|██████████| 4080/4080 [00:01<00:00, 2188.68it/s]\n"
     ]
    },
    {
     "name": "stdout",
     "output_type": "stream",
     "text": [
      "224x224 pixels:  3149\n",
      "350x350 pixels:  931\n",
      "Other size:  0\n",
      "Tables\n"
     ]
    },
    {
     "name": "stderr",
     "output_type": "stream",
     "text": [
      "Getting image size: 100%|██████████| 17100/17100 [00:07<00:00, 2188.08it/s]"
     ]
    },
    {
     "name": "stdout",
     "output_type": "stream",
     "text": [
      "224x224 pixels:  15442\n",
      "350x350 pixels:  1658\n",
      "Other size:  0\n"
     ]
    },
    {
     "name": "stderr",
     "output_type": "stream",
     "text": [
      "\n"
     ]
    },
    {
     "data": {
      "text/plain": [
       "[(224, 224),\n",
       " (224, 224),\n",
       " (224, 224),\n",
       " (224, 224),\n",
       " (224, 224),\n",
       " (224, 224),\n",
       " (224, 224),\n",
       " (224, 224),\n",
       " (224, 224),\n",
       " (224, 224),\n",
       " (224, 224),\n",
       " (224, 224),\n",
       " (224, 224),\n",
       " (224, 224),\n",
       " (224, 224),\n",
       " (224, 224),\n",
       " (224, 224),\n",
       " (224, 224),\n",
       " (224, 224),\n",
       " (224, 224),\n",
       " (224, 224),\n",
       " (224, 224),\n",
       " (224, 224),\n",
       " (224, 224),\n",
       " (224, 224),\n",
       " (224, 224),\n",
       " (224, 224),\n",
       " (224, 224),\n",
       " (224, 224),\n",
       " (224, 224),\n",
       " (224, 224),\n",
       " (224, 224),\n",
       " (224, 224),\n",
       " (224, 224),\n",
       " (224, 224),\n",
       " (224, 224),\n",
       " (224, 224),\n",
       " (224, 224),\n",
       " (224, 224),\n",
       " (224, 224),\n",
       " (224, 224),\n",
       " (224, 224),\n",
       " (224, 224),\n",
       " (224, 224),\n",
       " (224, 224),\n",
       " (224, 224),\n",
       " (224, 224),\n",
       " (224, 224),\n",
       " (224, 224),\n",
       " (224, 224),\n",
       " (224, 224),\n",
       " (224, 224),\n",
       " (224, 224),\n",
       " (224, 224),\n",
       " (224, 224),\n",
       " (224, 224),\n",
       " (224, 224),\n",
       " (224, 224),\n",
       " (224, 224),\n",
       " (224, 224),\n",
       " (224, 224),\n",
       " (224, 224),\n",
       " (224, 224),\n",
       " (224, 224),\n",
       " (224, 224),\n",
       " (224, 224),\n",
       " (224, 224),\n",
       " (224, 224),\n",
       " (224, 224),\n",
       " (224, 224),\n",
       " (350, 350),\n",
       " (224, 224),\n",
       " (224, 224),\n",
       " (224, 224),\n",
       " (224, 224),\n",
       " (224, 224),\n",
       " (224, 224),\n",
       " (224, 224),\n",
       " (224, 224),\n",
       " (224, 224),\n",
       " (224, 224),\n",
       " (224, 224),\n",
       " (224, 224),\n",
       " (224, 224),\n",
       " (224, 224),\n",
       " (224, 224),\n",
       " (224, 224),\n",
       " (224, 224),\n",
       " (224, 224),\n",
       " (224, 224),\n",
       " (224, 224),\n",
       " (224, 224),\n",
       " (224, 224),\n",
       " (224, 224),\n",
       " (224, 224),\n",
       " (224, 224),\n",
       " (224, 224),\n",
       " (224, 224),\n",
       " (224, 224),\n",
       " (224, 224),\n",
       " (224, 224),\n",
       " (224, 224),\n",
       " (224, 224),\n",
       " (224, 224),\n",
       " (224, 224),\n",
       " (224, 224),\n",
       " (224, 224),\n",
       " (224, 224),\n",
       " (224, 224),\n",
       " (224, 224),\n",
       " (224, 224),\n",
       " (224, 224),\n",
       " (224, 224),\n",
       " (224, 224),\n",
       " (224, 224),\n",
       " (224, 224),\n",
       " (224, 224),\n",
       " (224, 224),\n",
       " (224, 224),\n",
       " (224, 224),\n",
       " (224, 224),\n",
       " (224, 224),\n",
       " (224, 224),\n",
       " (224, 224),\n",
       " (224, 224),\n",
       " (224, 224),\n",
       " (224, 224),\n",
       " (224, 224),\n",
       " (224, 224),\n",
       " (224, 224),\n",
       " (224, 224),\n",
       " (224, 224),\n",
       " (224, 224),\n",
       " (224, 224),\n",
       " (224, 224),\n",
       " (224, 224),\n",
       " (224, 224),\n",
       " (224, 224),\n",
       " (224, 224),\n",
       " (224, 224),\n",
       " (224, 224),\n",
       " (224, 224),\n",
       " (224, 224),\n",
       " (224, 224),\n",
       " (224, 224),\n",
       " (224, 224),\n",
       " (224, 224),\n",
       " (224, 224),\n",
       " (224, 224),\n",
       " (224, 224),\n",
       " (224, 224),\n",
       " (224, 224),\n",
       " (224, 224),\n",
       " (224, 224),\n",
       " (224, 224),\n",
       " (224, 224),\n",
       " (224, 224),\n",
       " (224, 224),\n",
       " (224, 224),\n",
       " (224, 224),\n",
       " (224, 224),\n",
       " (224, 224),\n",
       " (224, 224),\n",
       " (224, 224),\n",
       " (224, 224),\n",
       " (224, 224),\n",
       " (224, 224),\n",
       " (224, 224),\n",
       " (224, 224),\n",
       " (224, 224),\n",
       " (224, 224),\n",
       " (224, 224),\n",
       " (350, 350),\n",
       " (224, 224),\n",
       " (350, 350),\n",
       " (224, 224),\n",
       " (224, 224),\n",
       " (224, 224),\n",
       " (224, 224),\n",
       " (224, 224),\n",
       " (224, 224),\n",
       " (224, 224),\n",
       " (224, 224),\n",
       " (224, 224),\n",
       " (224, 224),\n",
       " (224, 224),\n",
       " (224, 224),\n",
       " (224, 224),\n",
       " (224, 224),\n",
       " (224, 224),\n",
       " (224, 224),\n",
       " (350, 350),\n",
       " (224, 224),\n",
       " (224, 224),\n",
       " (350, 350),\n",
       " (224, 224),\n",
       " (224, 224),\n",
       " (224, 224),\n",
       " (224, 224),\n",
       " (224, 224),\n",
       " (350, 350),\n",
       " (224, 224),\n",
       " (350, 350),\n",
       " (224, 224),\n",
       " (224, 224),\n",
       " (224, 224),\n",
       " (350, 350),\n",
       " (224, 224),\n",
       " (350, 350),\n",
       " (224, 224),\n",
       " (350, 350),\n",
       " (224, 224),\n",
       " (224, 224),\n",
       " (224, 224),\n",
       " (224, 224),\n",
       " (224, 224),\n",
       " (224, 224),\n",
       " (224, 224),\n",
       " (224, 224),\n",
       " (224, 224),\n",
       " (350, 350),\n",
       " (224, 224),\n",
       " (224, 224),\n",
       " (224, 224),\n",
       " (224, 224),\n",
       " (350, 350),\n",
       " (224, 224),\n",
       " (224, 224),\n",
       " (224, 224),\n",
       " (224, 224),\n",
       " (224, 224),\n",
       " (224, 224),\n",
       " (224, 224),\n",
       " (350, 350),\n",
       " (224, 224),\n",
       " (224, 224),\n",
       " (224, 224),\n",
       " (224, 224),\n",
       " (224, 224),\n",
       " (224, 224),\n",
       " (224, 224),\n",
       " (224, 224),\n",
       " (224, 224),\n",
       " (224, 224),\n",
       " (224, 224),\n",
       " (350, 350),\n",
       " (350, 350),\n",
       " (224, 224),\n",
       " (224, 224),\n",
       " (224, 224),\n",
       " (224, 224),\n",
       " (224, 224),\n",
       " (224, 224),\n",
       " (224, 224),\n",
       " (224, 224),\n",
       " (224, 224),\n",
       " (224, 224),\n",
       " (224, 224),\n",
       " (224, 224),\n",
       " (224, 224),\n",
       " (224, 224),\n",
       " (224, 224),\n",
       " (224, 224),\n",
       " (224, 224),\n",
       " (224, 224),\n",
       " (224, 224),\n",
       " (224, 224),\n",
       " (224, 224),\n",
       " (224, 224),\n",
       " (224, 224),\n",
       " (224, 224),\n",
       " (224, 224),\n",
       " (224, 224),\n",
       " (224, 224),\n",
       " (224, 224),\n",
       " (224, 224),\n",
       " (224, 224),\n",
       " (224, 224),\n",
       " (224, 224),\n",
       " (224, 224),\n",
       " (224, 224),\n",
       " (224, 224),\n",
       " (224, 224),\n",
       " (350, 350),\n",
       " (224, 224),\n",
       " (224, 224),\n",
       " (224, 224),\n",
       " (224, 224),\n",
       " (224, 224),\n",
       " (224, 224),\n",
       " (224, 224),\n",
       " (224, 224),\n",
       " (224, 224),\n",
       " (224, 224),\n",
       " (350, 350),\n",
       " (224, 224),\n",
       " (224, 224),\n",
       " (224, 224),\n",
       " (224, 224),\n",
       " (224, 224),\n",
       " (224, 224),\n",
       " (224, 224),\n",
       " (224, 224),\n",
       " (224, 224),\n",
       " (224, 224),\n",
       " (350, 350),\n",
       " (224, 224),\n",
       " (224, 224),\n",
       " (224, 224),\n",
       " (224, 224),\n",
       " (224, 224),\n",
       " (224, 224),\n",
       " (224, 224),\n",
       " (224, 224),\n",
       " (224, 224),\n",
       " (224, 224),\n",
       " (224, 224),\n",
       " (350, 350),\n",
       " (224, 224),\n",
       " (224, 224),\n",
       " (224, 224),\n",
       " (224, 224),\n",
       " (224, 224),\n",
       " (224, 224),\n",
       " (224, 224),\n",
       " (224, 224),\n",
       " (224, 224),\n",
       " (350, 350),\n",
       " (224, 224),\n",
       " (224, 224),\n",
       " (224, 224),\n",
       " (224, 224),\n",
       " (224, 224),\n",
       " (224, 224),\n",
       " (224, 224),\n",
       " (350, 350),\n",
       " (224, 224),\n",
       " (350, 350),\n",
       " (224, 224),\n",
       " (224, 224),\n",
       " (224, 224),\n",
       " (224, 224),\n",
       " (224, 224),\n",
       " (224, 224),\n",
       " (224, 224),\n",
       " (350, 350),\n",
       " (224, 224),\n",
       " (224, 224),\n",
       " (224, 224),\n",
       " (224, 224),\n",
       " (224, 224),\n",
       " (224, 224),\n",
       " (224, 224),\n",
       " (224, 224),\n",
       " (224, 224),\n",
       " (224, 224),\n",
       " (224, 224),\n",
       " (224, 224),\n",
       " (224, 224),\n",
       " (224, 224),\n",
       " (224, 224),\n",
       " (224, 224),\n",
       " (224, 224),\n",
       " (224, 224),\n",
       " (224, 224),\n",
       " (224, 224),\n",
       " (224, 224),\n",
       " (350, 350),\n",
       " (224, 224),\n",
       " (350, 350),\n",
       " (224, 224),\n",
       " (224, 224),\n",
       " (224, 224),\n",
       " (350, 350),\n",
       " (350, 350),\n",
       " (350, 350),\n",
       " (224, 224),\n",
       " (224, 224),\n",
       " (224, 224),\n",
       " (224, 224),\n",
       " (350, 350),\n",
       " (350, 350),\n",
       " (224, 224),\n",
       " (350, 350),\n",
       " (224, 224),\n",
       " (224, 224),\n",
       " (224, 224),\n",
       " (224, 224),\n",
       " (224, 224),\n",
       " (224, 224),\n",
       " (224, 224),\n",
       " (224, 224),\n",
       " (224, 224),\n",
       " (224, 224),\n",
       " (224, 224),\n",
       " (224, 224),\n",
       " (224, 224),\n",
       " (224, 224),\n",
       " (224, 224),\n",
       " (224, 224),\n",
       " (224, 224),\n",
       " (224, 224),\n",
       " (350, 350),\n",
       " (224, 224),\n",
       " (224, 224),\n",
       " (224, 224),\n",
       " (224, 224),\n",
       " (224, 224),\n",
       " (224, 224),\n",
       " (224, 224),\n",
       " (224, 224),\n",
       " (224, 224),\n",
       " (224, 224),\n",
       " (224, 224),\n",
       " (224, 224),\n",
       " (224, 224),\n",
       " (350, 350),\n",
       " (224, 224),\n",
       " (224, 224),\n",
       " (224, 224),\n",
       " (224, 224),\n",
       " (224, 224),\n",
       " (224, 224),\n",
       " (224, 224),\n",
       " (224, 224),\n",
       " (224, 224),\n",
       " (224, 224),\n",
       " (224, 224),\n",
       " (224, 224),\n",
       " (224, 224),\n",
       " (224, 224),\n",
       " (224, 224),\n",
       " (224, 224),\n",
       " (224, 224),\n",
       " (224, 224),\n",
       " (224, 224),\n",
       " (224, 224),\n",
       " (224, 224),\n",
       " (224, 224),\n",
       " (224, 224),\n",
       " (224, 224),\n",
       " (224, 224),\n",
       " (224, 224),\n",
       " (224, 224),\n",
       " (224, 224),\n",
       " (224, 224),\n",
       " (224, 224),\n",
       " (224, 224),\n",
       " (224, 224),\n",
       " (224, 224),\n",
       " (224, 224),\n",
       " (224, 224),\n",
       " (224, 224),\n",
       " (224, 224),\n",
       " (224, 224),\n",
       " (224, 224),\n",
       " (224, 224),\n",
       " (224, 224),\n",
       " (224, 224),\n",
       " (224, 224),\n",
       " (224, 224),\n",
       " (350, 350),\n",
       " (224, 224),\n",
       " (224, 224),\n",
       " (224, 224),\n",
       " (224, 224),\n",
       " (350, 350),\n",
       " (224, 224),\n",
       " (224, 224),\n",
       " (224, 224),\n",
       " (224, 224),\n",
       " (224, 224),\n",
       " (350, 350),\n",
       " (224, 224),\n",
       " (224, 224),\n",
       " (224, 224),\n",
       " (224, 224),\n",
       " (224, 224),\n",
       " (224, 224),\n",
       " (224, 224),\n",
       " (224, 224),\n",
       " (350, 350),\n",
       " (224, 224),\n",
       " (224, 224),\n",
       " (224, 224),\n",
       " (224, 224),\n",
       " (224, 224),\n",
       " (350, 350),\n",
       " (224, 224),\n",
       " (224, 224),\n",
       " (350, 350),\n",
       " (224, 224),\n",
       " (224, 224),\n",
       " (224, 224),\n",
       " (224, 224),\n",
       " (224, 224),\n",
       " (224, 224),\n",
       " (224, 224),\n",
       " (224, 224),\n",
       " (224, 224),\n",
       " (224, 224),\n",
       " (224, 224),\n",
       " (224, 224),\n",
       " (224, 224),\n",
       " (224, 224),\n",
       " (224, 224),\n",
       " (350, 350),\n",
       " (224, 224),\n",
       " (224, 224),\n",
       " (224, 224),\n",
       " (224, 224),\n",
       " (224, 224),\n",
       " (224, 224),\n",
       " (224, 224),\n",
       " (224, 224),\n",
       " (224, 224),\n",
       " (224, 224),\n",
       " (224, 224),\n",
       " (224, 224),\n",
       " (224, 224),\n",
       " (224, 224),\n",
       " (224, 224),\n",
       " (224, 224),\n",
       " (224, 224),\n",
       " (224, 224),\n",
       " (350, 350),\n",
       " (224, 224),\n",
       " (350, 350),\n",
       " (224, 224),\n",
       " (224, 224),\n",
       " (224, 224),\n",
       " (224, 224),\n",
       " (224, 224),\n",
       " (224, 224),\n",
       " (224, 224),\n",
       " (224, 224),\n",
       " (224, 224),\n",
       " (224, 224),\n",
       " (224, 224),\n",
       " (224, 224),\n",
       " (224, 224),\n",
       " (224, 224),\n",
       " (224, 224),\n",
       " (350, 350),\n",
       " (224, 224),\n",
       " (224, 224),\n",
       " (224, 224),\n",
       " (224, 224),\n",
       " (224, 224),\n",
       " (224, 224),\n",
       " (224, 224),\n",
       " (224, 224),\n",
       " (224, 224),\n",
       " (224, 224),\n",
       " (224, 224),\n",
       " (224, 224),\n",
       " (224, 224),\n",
       " (224, 224),\n",
       " (224, 224),\n",
       " (224, 224),\n",
       " (224, 224),\n",
       " (224, 224),\n",
       " (224, 224),\n",
       " (224, 224),\n",
       " (224, 224),\n",
       " (224, 224),\n",
       " (224, 224),\n",
       " (224, 224),\n",
       " (224, 224),\n",
       " (224, 224),\n",
       " (224, 224),\n",
       " (224, 224),\n",
       " (224, 224),\n",
       " (224, 224),\n",
       " (224, 224),\n",
       " (224, 224),\n",
       " (224, 224),\n",
       " (224, 224),\n",
       " (224, 224),\n",
       " (224, 224),\n",
       " (224, 224),\n",
       " (224, 224),\n",
       " (224, 224),\n",
       " (224, 224),\n",
       " (224, 224),\n",
       " (224, 224),\n",
       " (224, 224),\n",
       " (224, 224),\n",
       " (224, 224),\n",
       " (224, 224),\n",
       " (224, 224),\n",
       " (224, 224),\n",
       " (224, 224),\n",
       " (224, 224),\n",
       " (224, 224),\n",
       " (224, 224),\n",
       " (224, 224),\n",
       " (224, 224),\n",
       " (224, 224),\n",
       " (224, 224),\n",
       " (224, 224),\n",
       " (224, 224),\n",
       " (224, 224),\n",
       " (224, 224),\n",
       " (224, 224),\n",
       " (224, 224),\n",
       " (224, 224),\n",
       " (224, 224),\n",
       " (224, 224),\n",
       " (224, 224),\n",
       " (224, 224),\n",
       " (224, 224),\n",
       " (224, 224),\n",
       " (224, 224),\n",
       " (224, 224),\n",
       " (224, 224),\n",
       " (224, 224),\n",
       " (224, 224),\n",
       " (224, 224),\n",
       " (224, 224),\n",
       " (224, 224),\n",
       " (224, 224),\n",
       " (224, 224),\n",
       " (224, 224),\n",
       " (224, 224),\n",
       " (224, 224),\n",
       " (224, 224),\n",
       " (224, 224),\n",
       " (224, 224),\n",
       " (224, 224),\n",
       " (224, 224),\n",
       " (224, 224),\n",
       " (224, 224),\n",
       " (224, 224),\n",
       " (224, 224),\n",
       " (224, 224),\n",
       " (224, 224),\n",
       " (224, 224),\n",
       " (224, 224),\n",
       " (224, 224),\n",
       " (224, 224),\n",
       " (224, 224),\n",
       " (224, 224),\n",
       " (224, 224),\n",
       " (224, 224),\n",
       " (224, 224),\n",
       " (224, 224),\n",
       " (224, 224),\n",
       " (224, 224),\n",
       " (224, 224),\n",
       " (224, 224),\n",
       " (224, 224),\n",
       " (224, 224),\n",
       " (224, 224),\n",
       " (224, 224),\n",
       " (224, 224),\n",
       " (224, 224),\n",
       " (224, 224),\n",
       " (224, 224),\n",
       " (224, 224),\n",
       " (224, 224),\n",
       " (224, 224),\n",
       " (224, 224),\n",
       " (350, 350),\n",
       " (224, 224),\n",
       " (224, 224),\n",
       " (224, 224),\n",
       " (224, 224),\n",
       " (224, 224),\n",
       " (224, 224),\n",
       " (224, 224),\n",
       " (224, 224),\n",
       " (224, 224),\n",
       " (224, 224),\n",
       " (224, 224),\n",
       " (224, 224),\n",
       " (224, 224),\n",
       " (224, 224),\n",
       " (224, 224),\n",
       " (224, 224),\n",
       " (224, 224),\n",
       " (224, 224),\n",
       " (224, 224),\n",
       " (224, 224),\n",
       " (224, 224),\n",
       " (224, 224),\n",
       " (224, 224),\n",
       " (224, 224),\n",
       " (224, 224),\n",
       " (224, 224),\n",
       " (224, 224),\n",
       " (224, 224),\n",
       " (224, 224),\n",
       " (224, 224),\n",
       " (224, 224),\n",
       " (224, 224),\n",
       " (224, 224),\n",
       " (224, 224),\n",
       " (224, 224),\n",
       " (224, 224),\n",
       " (224, 224),\n",
       " (224, 224),\n",
       " (224, 224),\n",
       " (224, 224),\n",
       " (224, 224),\n",
       " (224, 224),\n",
       " (224, 224),\n",
       " (224, 224),\n",
       " (224, 224),\n",
       " (224, 224),\n",
       " (224, 224),\n",
       " (224, 224),\n",
       " (224, 224),\n",
       " (224, 224),\n",
       " (224, 224),\n",
       " (224, 224),\n",
       " (224, 224),\n",
       " (224, 224),\n",
       " (224, 224),\n",
       " (224, 224),\n",
       " (224, 224),\n",
       " (224, 224),\n",
       " (224, 224),\n",
       " (224, 224),\n",
       " (224, 224),\n",
       " (350, 350),\n",
       " (224, 224),\n",
       " (224, 224),\n",
       " (224, 224),\n",
       " (224, 224),\n",
       " (224, 224),\n",
       " (224, 224),\n",
       " (224, 224),\n",
       " (224, 224),\n",
       " (224, 224),\n",
       " (224, 224),\n",
       " (224, 224),\n",
       " (224, 224),\n",
       " (224, 224),\n",
       " (224, 224),\n",
       " (224, 224),\n",
       " (224, 224),\n",
       " (224, 224),\n",
       " (224, 224),\n",
       " (224, 224),\n",
       " (224, 224),\n",
       " (224, 224),\n",
       " (224, 224),\n",
       " (224, 224),\n",
       " (224, 224),\n",
       " (224, 224),\n",
       " (350, 350),\n",
       " (224, 224),\n",
       " (224, 224),\n",
       " (224, 224),\n",
       " (224, 224),\n",
       " (224, 224),\n",
       " (224, 224),\n",
       " (224, 224),\n",
       " (224, 224),\n",
       " (224, 224),\n",
       " (224, 224),\n",
       " (224, 224),\n",
       " (224, 224),\n",
       " (224, 224),\n",
       " (224, 224),\n",
       " (224, 224),\n",
       " (350, 350),\n",
       " (224, 224),\n",
       " (224, 224),\n",
       " (224, 224),\n",
       " (224, 224),\n",
       " (224, 224),\n",
       " (224, 224),\n",
       " (224, 224),\n",
       " (224, 224),\n",
       " (224, 224),\n",
       " (224, 224),\n",
       " (224, 224),\n",
       " (224, 224),\n",
       " (224, 224),\n",
       " (224, 224),\n",
       " (224, 224),\n",
       " (224, 224),\n",
       " (224, 224),\n",
       " (224, 224),\n",
       " (224, 224),\n",
       " (224, 224),\n",
       " (224, 224),\n",
       " (224, 224),\n",
       " (224, 224),\n",
       " (224, 224),\n",
       " (224, 224),\n",
       " (224, 224),\n",
       " (224, 224),\n",
       " (350, 350),\n",
       " (224, 224),\n",
       " (224, 224),\n",
       " (224, 224),\n",
       " (224, 224),\n",
       " (224, 224),\n",
       " (224, 224),\n",
       " (224, 224),\n",
       " (350, 350),\n",
       " (224, 224),\n",
       " (224, 224),\n",
       " (224, 224),\n",
       " (224, 224),\n",
       " (224, 224),\n",
       " (224, 224),\n",
       " (224, 224),\n",
       " (224, 224),\n",
       " (224, 224),\n",
       " (224, 224),\n",
       " (350, 350),\n",
       " (224, 224),\n",
       " (224, 224),\n",
       " (350, 350),\n",
       " (224, 224),\n",
       " (224, 224),\n",
       " (350, 350),\n",
       " (224, 224),\n",
       " (224, 224),\n",
       " (224, 224),\n",
       " (224, 224),\n",
       " (224, 224),\n",
       " (224, 224),\n",
       " (224, 224),\n",
       " (224, 224),\n",
       " (224, 224),\n",
       " (224, 224),\n",
       " (350, 350),\n",
       " (350, 350),\n",
       " (224, 224),\n",
       " (224, 224),\n",
       " (224, 224),\n",
       " (350, 350),\n",
       " (224, 224),\n",
       " (224, 224),\n",
       " (224, 224),\n",
       " (224, 224),\n",
       " (224, 224),\n",
       " (224, 224),\n",
       " (224, 224),\n",
       " (224, 224),\n",
       " (224, 224),\n",
       " (224, 224),\n",
       " (224, 224),\n",
       " (224, 224),\n",
       " (224, 224),\n",
       " (224, 224),\n",
       " (224, 224),\n",
       " (224, 224),\n",
       " (224, 224),\n",
       " (224, 224),\n",
       " (224, 224),\n",
       " (224, 224),\n",
       " (224, 224),\n",
       " (224, 224),\n",
       " (224, 224),\n",
       " (224, 224),\n",
       " (224, 224),\n",
       " (224, 224),\n",
       " (350, 350),\n",
       " (350, 350),\n",
       " (224, 224),\n",
       " (224, 224),\n",
       " (350, 350),\n",
       " (224, 224),\n",
       " (350, 350),\n",
       " (224, 224),\n",
       " (350, 350),\n",
       " (350, 350),\n",
       " (224, 224),\n",
       " (224, 224),\n",
       " (350, 350),\n",
       " (350, 350),\n",
       " (350, 350),\n",
       " (224, 224),\n",
       " (224, 224),\n",
       " (350, 350),\n",
       " (224, 224),\n",
       " (224, 224),\n",
       " (224, 224),\n",
       " (224, 224),\n",
       " (224, 224),\n",
       " (224, 224),\n",
       " (224, 224),\n",
       " (224, 224),\n",
       " (350, 350),\n",
       " (224, 224),\n",
       " (224, 224),\n",
       " (224, 224),\n",
       " (224, 224),\n",
       " (224, 224),\n",
       " (350, 350),\n",
       " (224, 224),\n",
       " (224, 224),\n",
       " (224, 224),\n",
       " (224, 224),\n",
       " (224, 224),\n",
       " (224, 224),\n",
       " (224, 224),\n",
       " (224, 224),\n",
       " (224, 224),\n",
       " (224, 224),\n",
       " (224, 224),\n",
       " (224, 224),\n",
       " (224, 224),\n",
       " (224, 224),\n",
       " (224, 224),\n",
       " (224, 224),\n",
       " (224, 224),\n",
       " (224, 224),\n",
       " (224, 224),\n",
       " (224, 224),\n",
       " (224, 224),\n",
       " (224, 224),\n",
       " (224, 224),\n",
       " (224, 224),\n",
       " (224, 224),\n",
       " (224, 224),\n",
       " (224, 224),\n",
       " (224, 224),\n",
       " (224, 224),\n",
       " (224, 224),\n",
       " (224, 224),\n",
       " (224, 224),\n",
       " (224, 224),\n",
       " (224, 224),\n",
       " (224, 224),\n",
       " (224, 224),\n",
       " (224, 224),\n",
       " (224, 224),\n",
       " (224, 224),\n",
       " (350, 350),\n",
       " (224, 224),\n",
       " (224, 224),\n",
       " (224, 224),\n",
       " (224, 224),\n",
       " (224, 224),\n",
       " (350, 350),\n",
       " (224, 224),\n",
       " (224, 224),\n",
       " (224, 224),\n",
       " (224, 224),\n",
       " (224, 224),\n",
       " (224, 224),\n",
       " (224, 224),\n",
       " (224, 224),\n",
       " (224, 224),\n",
       " (224, 224),\n",
       " (224, 224),\n",
       " (224, 224),\n",
       " (224, 224),\n",
       " (224, 224),\n",
       " (224, 224),\n",
       " (224, 224),\n",
       " (224, 224),\n",
       " (224, 224),\n",
       " (224, 224),\n",
       " (224, 224),\n",
       " (224, 224),\n",
       " (224, 224),\n",
       " (224, 224),\n",
       " (224, 224),\n",
       " (224, 224),\n",
       " (224, 224),\n",
       " (224, 224),\n",
       " (224, 224),\n",
       " (224, 224),\n",
       " (350, 350),\n",
       " (224, 224),\n",
       " (224, 224),\n",
       " (350, 350),\n",
       " (224, 224),\n",
       " (224, 224),\n",
       " (224, 224),\n",
       " (224, 224),\n",
       " (224, 224),\n",
       " (224, 224),\n",
       " (224, 224),\n",
       " (224, 224),\n",
       " (224, 224),\n",
       " (224, 224),\n",
       " (224, 224),\n",
       " (224, 224),\n",
       " (224, 224),\n",
       " (224, 224),\n",
       " (224, 224),\n",
       " (224, 224),\n",
       " (224, 224),\n",
       " (224, 224),\n",
       " (224, 224),\n",
       " (224, 224),\n",
       " (224, 224),\n",
       " (224, 224),\n",
       " (224, 224),\n",
       " (224, 224),\n",
       " (224, 224),\n",
       " ...]"
      ]
     },
     "execution_count": 15,
     "metadata": {},
     "output_type": "execute_result"
    }
   ],
   "source": [
    "print(\"Beds\")\n",
    "imgSizeList(beds_path)\n",
    "print(\"Chairs\")\n",
    "imgSizeList(chairs_path)\n",
    "print(\"Dressers\")\n",
    "imgSizeList(dressers_path)\n",
    "print(\"Lamps\")\n",
    "imgSizeList(lamps_path)\n",
    "print(\"sofas\")\n",
    "imgSizeList(sofas_path)\n",
    "print(\"Tables\")\n",
    "imgSizeList(tables_path)"
   ]
  },
  {
   "cell_type": "markdown",
   "metadata": {},
   "source": [
    "### Visualization"
   ]
  },
  {
   "cell_type": "code",
   "execution_count": 16,
   "metadata": {},
   "outputs": [
    {
     "name": "stderr",
     "output_type": "stream",
     "text": [
      "Getting image size: 100%|██████████| 6578/6578 [00:02<00:00, 2311.70it/s]\n"
     ]
    },
    {
     "name": "stdout",
     "output_type": "stream",
     "text": [
      "224x224 pixels:  6578\n",
      "350x350 pixels:  0\n",
      "Other size:  0\n"
     ]
    },
    {
     "name": "stderr",
     "output_type": "stream",
     "text": [
      "Getting image size: 100%|██████████| 22053/22053 [00:10<00:00, 2103.33it/s]\n"
     ]
    },
    {
     "name": "stdout",
     "output_type": "stream",
     "text": [
      "224x224 pixels:  19234\n",
      "350x350 pixels:  2819\n",
      "Other size:  0\n"
     ]
    },
    {
     "name": "stderr",
     "output_type": "stream",
     "text": [
      "Getting image size: 100%|██████████| 7871/7871 [00:03<00:00, 2110.20it/s]\n"
     ]
    },
    {
     "name": "stdout",
     "output_type": "stream",
     "text": [
      "224x224 pixels:  5912\n",
      "350x350 pixels:  1959\n",
      "Other size:  0\n"
     ]
    },
    {
     "name": "stderr",
     "output_type": "stream",
     "text": [
      "Getting image size: 100%|██████████| 32401/32401 [00:17<00:00, 1895.37it/s]\n"
     ]
    },
    {
     "name": "stdout",
     "output_type": "stream",
     "text": [
      "224x224 pixels:  19908\n",
      "350x350 pixels:  12493\n",
      "Other size:  0\n"
     ]
    },
    {
     "name": "stderr",
     "output_type": "stream",
     "text": [
      "Getting image size: 100%|██████████| 4080/4080 [00:02<00:00, 1745.97it/s]\n"
     ]
    },
    {
     "name": "stdout",
     "output_type": "stream",
     "text": [
      "224x224 pixels:  3149\n",
      "350x350 pixels:  931\n",
      "Other size:  0\n"
     ]
    },
    {
     "name": "stderr",
     "output_type": "stream",
     "text": [
      "Getting image size: 100%|██████████| 17100/17100 [00:09<00:00, 1777.78it/s]"
     ]
    },
    {
     "name": "stdout",
     "output_type": "stream",
     "text": [
      "224x224 pixels:  15442\n",
      "350x350 pixels:  1658\n",
      "Other size:  0\n"
     ]
    },
    {
     "name": "stderr",
     "output_type": "stream",
     "text": [
      "\n"
     ]
    }
   ],
   "source": [
    "df_bed_dims = pd.DataFrame(imgSizeList(beds_path), columns=['width', 'height'])\n",
    "df_chair_dims = pd.DataFrame(imgSizeList(chairs_path), columns=['width', 'height'])\n",
    "df_dresser_dims = pd.DataFrame(imgSizeList(dressers_path), columns=['width', 'height'])\n",
    "df_lamp_dims = pd.DataFrame(imgSizeList(lamps_path), columns=['width', 'height'])\n",
    "df_sofa_dims = pd.DataFrame(imgSizeList(sofas_path), columns=['width', 'height'])\n",
    "df_table_dims = pd.DataFrame(imgSizeList(tables_path), columns=['width', 'height'])\n"
   ]
  },
  {
   "cell_type": "markdown",
   "metadata": {},
   "source": [
    "#### Recheck data in each dataset"
   ]
  },
  {
   "cell_type": "code",
   "execution_count": 17,
   "metadata": {},
   "outputs": [
    {
     "data": {
      "text/html": [
       "<div>\n",
       "<style scoped>\n",
       "    .dataframe tbody tr th:only-of-type {\n",
       "        vertical-align: middle;\n",
       "    }\n",
       "\n",
       "    .dataframe tbody tr th {\n",
       "        vertical-align: top;\n",
       "    }\n",
       "\n",
       "    .dataframe thead th {\n",
       "        text-align: right;\n",
       "    }\n",
       "</style>\n",
       "<table border=\"1\" class=\"dataframe\">\n",
       "  <thead>\n",
       "    <tr style=\"text-align: right;\">\n",
       "      <th></th>\n",
       "      <th>width</th>\n",
       "      <th>height</th>\n",
       "    </tr>\n",
       "  </thead>\n",
       "  <tbody>\n",
       "    <tr>\n",
       "      <th>0</th>\n",
       "      <td>224</td>\n",
       "      <td>224</td>\n",
       "    </tr>\n",
       "    <tr>\n",
       "      <th>1</th>\n",
       "      <td>224</td>\n",
       "      <td>224</td>\n",
       "    </tr>\n",
       "    <tr>\n",
       "      <th>2</th>\n",
       "      <td>224</td>\n",
       "      <td>224</td>\n",
       "    </tr>\n",
       "    <tr>\n",
       "      <th>3</th>\n",
       "      <td>224</td>\n",
       "      <td>224</td>\n",
       "    </tr>\n",
       "    <tr>\n",
       "      <th>4</th>\n",
       "      <td>224</td>\n",
       "      <td>224</td>\n",
       "    </tr>\n",
       "    <tr>\n",
       "      <th>...</th>\n",
       "      <td>...</td>\n",
       "      <td>...</td>\n",
       "    </tr>\n",
       "    <tr>\n",
       "      <th>6573</th>\n",
       "      <td>224</td>\n",
       "      <td>224</td>\n",
       "    </tr>\n",
       "    <tr>\n",
       "      <th>6574</th>\n",
       "      <td>224</td>\n",
       "      <td>224</td>\n",
       "    </tr>\n",
       "    <tr>\n",
       "      <th>6575</th>\n",
       "      <td>224</td>\n",
       "      <td>224</td>\n",
       "    </tr>\n",
       "    <tr>\n",
       "      <th>6576</th>\n",
       "      <td>224</td>\n",
       "      <td>224</td>\n",
       "    </tr>\n",
       "    <tr>\n",
       "      <th>6577</th>\n",
       "      <td>224</td>\n",
       "      <td>224</td>\n",
       "    </tr>\n",
       "  </tbody>\n",
       "</table>\n",
       "<p>6578 rows × 2 columns</p>\n",
       "</div>"
      ],
      "text/plain": [
       "      width  height\n",
       "0       224     224\n",
       "1       224     224\n",
       "2       224     224\n",
       "3       224     224\n",
       "4       224     224\n",
       "...     ...     ...\n",
       "6573    224     224\n",
       "6574    224     224\n",
       "6575    224     224\n",
       "6576    224     224\n",
       "6577    224     224\n",
       "\n",
       "[6578 rows x 2 columns]"
      ]
     },
     "execution_count": 17,
     "metadata": {},
     "output_type": "execute_result"
    }
   ],
   "source": [
    "df_bed_dims"
   ]
  },
  {
   "cell_type": "code",
   "execution_count": 18,
   "metadata": {},
   "outputs": [
    {
     "data": {
      "text/html": [
       "<div>\n",
       "<style scoped>\n",
       "    .dataframe tbody tr th:only-of-type {\n",
       "        vertical-align: middle;\n",
       "    }\n",
       "\n",
       "    .dataframe tbody tr th {\n",
       "        vertical-align: top;\n",
       "    }\n",
       "\n",
       "    .dataframe thead th {\n",
       "        text-align: right;\n",
       "    }\n",
       "</style>\n",
       "<table border=\"1\" class=\"dataframe\">\n",
       "  <thead>\n",
       "    <tr style=\"text-align: right;\">\n",
       "      <th></th>\n",
       "      <th>width</th>\n",
       "      <th>height</th>\n",
       "    </tr>\n",
       "  </thead>\n",
       "  <tbody>\n",
       "    <tr>\n",
       "      <th>0</th>\n",
       "      <td>224</td>\n",
       "      <td>224</td>\n",
       "    </tr>\n",
       "    <tr>\n",
       "      <th>1</th>\n",
       "      <td>224</td>\n",
       "      <td>224</td>\n",
       "    </tr>\n",
       "    <tr>\n",
       "      <th>2</th>\n",
       "      <td>224</td>\n",
       "      <td>224</td>\n",
       "    </tr>\n",
       "    <tr>\n",
       "      <th>3</th>\n",
       "      <td>224</td>\n",
       "      <td>224</td>\n",
       "    </tr>\n",
       "    <tr>\n",
       "      <th>4</th>\n",
       "      <td>224</td>\n",
       "      <td>224</td>\n",
       "    </tr>\n",
       "    <tr>\n",
       "      <th>...</th>\n",
       "      <td>...</td>\n",
       "      <td>...</td>\n",
       "    </tr>\n",
       "    <tr>\n",
       "      <th>22048</th>\n",
       "      <td>224</td>\n",
       "      <td>224</td>\n",
       "    </tr>\n",
       "    <tr>\n",
       "      <th>22049</th>\n",
       "      <td>350</td>\n",
       "      <td>350</td>\n",
       "    </tr>\n",
       "    <tr>\n",
       "      <th>22050</th>\n",
       "      <td>224</td>\n",
       "      <td>224</td>\n",
       "    </tr>\n",
       "    <tr>\n",
       "      <th>22051</th>\n",
       "      <td>224</td>\n",
       "      <td>224</td>\n",
       "    </tr>\n",
       "    <tr>\n",
       "      <th>22052</th>\n",
       "      <td>224</td>\n",
       "      <td>224</td>\n",
       "    </tr>\n",
       "  </tbody>\n",
       "</table>\n",
       "<p>22053 rows × 2 columns</p>\n",
       "</div>"
      ],
      "text/plain": [
       "       width  height\n",
       "0        224     224\n",
       "1        224     224\n",
       "2        224     224\n",
       "3        224     224\n",
       "4        224     224\n",
       "...      ...     ...\n",
       "22048    224     224\n",
       "22049    350     350\n",
       "22050    224     224\n",
       "22051    224     224\n",
       "22052    224     224\n",
       "\n",
       "[22053 rows x 2 columns]"
      ]
     },
     "execution_count": 18,
     "metadata": {},
     "output_type": "execute_result"
    }
   ],
   "source": [
    "df_chair_dims"
   ]
  },
  {
   "cell_type": "code",
   "execution_count": 19,
   "metadata": {},
   "outputs": [
    {
     "data": {
      "text/html": [
       "<div>\n",
       "<style scoped>\n",
       "    .dataframe tbody tr th:only-of-type {\n",
       "        vertical-align: middle;\n",
       "    }\n",
       "\n",
       "    .dataframe tbody tr th {\n",
       "        vertical-align: top;\n",
       "    }\n",
       "\n",
       "    .dataframe thead th {\n",
       "        text-align: right;\n",
       "    }\n",
       "</style>\n",
       "<table border=\"1\" class=\"dataframe\">\n",
       "  <thead>\n",
       "    <tr style=\"text-align: right;\">\n",
       "      <th></th>\n",
       "      <th>width</th>\n",
       "      <th>height</th>\n",
       "    </tr>\n",
       "  </thead>\n",
       "  <tbody>\n",
       "    <tr>\n",
       "      <th>0</th>\n",
       "      <td>224</td>\n",
       "      <td>224</td>\n",
       "    </tr>\n",
       "    <tr>\n",
       "      <th>1</th>\n",
       "      <td>224</td>\n",
       "      <td>224</td>\n",
       "    </tr>\n",
       "    <tr>\n",
       "      <th>2</th>\n",
       "      <td>224</td>\n",
       "      <td>224</td>\n",
       "    </tr>\n",
       "    <tr>\n",
       "      <th>3</th>\n",
       "      <td>224</td>\n",
       "      <td>224</td>\n",
       "    </tr>\n",
       "    <tr>\n",
       "      <th>4</th>\n",
       "      <td>224</td>\n",
       "      <td>224</td>\n",
       "    </tr>\n",
       "    <tr>\n",
       "      <th>...</th>\n",
       "      <td>...</td>\n",
       "      <td>...</td>\n",
       "    </tr>\n",
       "    <tr>\n",
       "      <th>7866</th>\n",
       "      <td>224</td>\n",
       "      <td>224</td>\n",
       "    </tr>\n",
       "    <tr>\n",
       "      <th>7867</th>\n",
       "      <td>224</td>\n",
       "      <td>224</td>\n",
       "    </tr>\n",
       "    <tr>\n",
       "      <th>7868</th>\n",
       "      <td>224</td>\n",
       "      <td>224</td>\n",
       "    </tr>\n",
       "    <tr>\n",
       "      <th>7869</th>\n",
       "      <td>224</td>\n",
       "      <td>224</td>\n",
       "    </tr>\n",
       "    <tr>\n",
       "      <th>7870</th>\n",
       "      <td>224</td>\n",
       "      <td>224</td>\n",
       "    </tr>\n",
       "  </tbody>\n",
       "</table>\n",
       "<p>7871 rows × 2 columns</p>\n",
       "</div>"
      ],
      "text/plain": [
       "      width  height\n",
       "0       224     224\n",
       "1       224     224\n",
       "2       224     224\n",
       "3       224     224\n",
       "4       224     224\n",
       "...     ...     ...\n",
       "7866    224     224\n",
       "7867    224     224\n",
       "7868    224     224\n",
       "7869    224     224\n",
       "7870    224     224\n",
       "\n",
       "[7871 rows x 2 columns]"
      ]
     },
     "execution_count": 19,
     "metadata": {},
     "output_type": "execute_result"
    }
   ],
   "source": [
    "df_dresser_dims"
   ]
  },
  {
   "cell_type": "code",
   "execution_count": 20,
   "metadata": {},
   "outputs": [
    {
     "data": {
      "text/html": [
       "<div>\n",
       "<style scoped>\n",
       "    .dataframe tbody tr th:only-of-type {\n",
       "        vertical-align: middle;\n",
       "    }\n",
       "\n",
       "    .dataframe tbody tr th {\n",
       "        vertical-align: top;\n",
       "    }\n",
       "\n",
       "    .dataframe thead th {\n",
       "        text-align: right;\n",
       "    }\n",
       "</style>\n",
       "<table border=\"1\" class=\"dataframe\">\n",
       "  <thead>\n",
       "    <tr style=\"text-align: right;\">\n",
       "      <th></th>\n",
       "      <th>width</th>\n",
       "      <th>height</th>\n",
       "    </tr>\n",
       "  </thead>\n",
       "  <tbody>\n",
       "    <tr>\n",
       "      <th>0</th>\n",
       "      <td>224</td>\n",
       "      <td>224</td>\n",
       "    </tr>\n",
       "    <tr>\n",
       "      <th>1</th>\n",
       "      <td>224</td>\n",
       "      <td>224</td>\n",
       "    </tr>\n",
       "    <tr>\n",
       "      <th>2</th>\n",
       "      <td>224</td>\n",
       "      <td>224</td>\n",
       "    </tr>\n",
       "    <tr>\n",
       "      <th>3</th>\n",
       "      <td>224</td>\n",
       "      <td>224</td>\n",
       "    </tr>\n",
       "    <tr>\n",
       "      <th>4</th>\n",
       "      <td>224</td>\n",
       "      <td>224</td>\n",
       "    </tr>\n",
       "    <tr>\n",
       "      <th>...</th>\n",
       "      <td>...</td>\n",
       "      <td>...</td>\n",
       "    </tr>\n",
       "    <tr>\n",
       "      <th>32396</th>\n",
       "      <td>350</td>\n",
       "      <td>350</td>\n",
       "    </tr>\n",
       "    <tr>\n",
       "      <th>32397</th>\n",
       "      <td>224</td>\n",
       "      <td>224</td>\n",
       "    </tr>\n",
       "    <tr>\n",
       "      <th>32398</th>\n",
       "      <td>350</td>\n",
       "      <td>350</td>\n",
       "    </tr>\n",
       "    <tr>\n",
       "      <th>32399</th>\n",
       "      <td>350</td>\n",
       "      <td>350</td>\n",
       "    </tr>\n",
       "    <tr>\n",
       "      <th>32400</th>\n",
       "      <td>224</td>\n",
       "      <td>224</td>\n",
       "    </tr>\n",
       "  </tbody>\n",
       "</table>\n",
       "<p>32401 rows × 2 columns</p>\n",
       "</div>"
      ],
      "text/plain": [
       "       width  height\n",
       "0        224     224\n",
       "1        224     224\n",
       "2        224     224\n",
       "3        224     224\n",
       "4        224     224\n",
       "...      ...     ...\n",
       "32396    350     350\n",
       "32397    224     224\n",
       "32398    350     350\n",
       "32399    350     350\n",
       "32400    224     224\n",
       "\n",
       "[32401 rows x 2 columns]"
      ]
     },
     "execution_count": 20,
     "metadata": {},
     "output_type": "execute_result"
    }
   ],
   "source": [
    "df_lamp_dims"
   ]
  },
  {
   "cell_type": "code",
   "execution_count": 21,
   "metadata": {},
   "outputs": [
    {
     "data": {
      "text/html": [
       "<div>\n",
       "<style scoped>\n",
       "    .dataframe tbody tr th:only-of-type {\n",
       "        vertical-align: middle;\n",
       "    }\n",
       "\n",
       "    .dataframe tbody tr th {\n",
       "        vertical-align: top;\n",
       "    }\n",
       "\n",
       "    .dataframe thead th {\n",
       "        text-align: right;\n",
       "    }\n",
       "</style>\n",
       "<table border=\"1\" class=\"dataframe\">\n",
       "  <thead>\n",
       "    <tr style=\"text-align: right;\">\n",
       "      <th></th>\n",
       "      <th>width</th>\n",
       "      <th>height</th>\n",
       "    </tr>\n",
       "  </thead>\n",
       "  <tbody>\n",
       "    <tr>\n",
       "      <th>0</th>\n",
       "      <td>224</td>\n",
       "      <td>224</td>\n",
       "    </tr>\n",
       "    <tr>\n",
       "      <th>1</th>\n",
       "      <td>224</td>\n",
       "      <td>224</td>\n",
       "    </tr>\n",
       "    <tr>\n",
       "      <th>2</th>\n",
       "      <td>224</td>\n",
       "      <td>224</td>\n",
       "    </tr>\n",
       "    <tr>\n",
       "      <th>3</th>\n",
       "      <td>224</td>\n",
       "      <td>224</td>\n",
       "    </tr>\n",
       "    <tr>\n",
       "      <th>4</th>\n",
       "      <td>224</td>\n",
       "      <td>224</td>\n",
       "    </tr>\n",
       "    <tr>\n",
       "      <th>...</th>\n",
       "      <td>...</td>\n",
       "      <td>...</td>\n",
       "    </tr>\n",
       "    <tr>\n",
       "      <th>4075</th>\n",
       "      <td>224</td>\n",
       "      <td>224</td>\n",
       "    </tr>\n",
       "    <tr>\n",
       "      <th>4076</th>\n",
       "      <td>224</td>\n",
       "      <td>224</td>\n",
       "    </tr>\n",
       "    <tr>\n",
       "      <th>4077</th>\n",
       "      <td>224</td>\n",
       "      <td>224</td>\n",
       "    </tr>\n",
       "    <tr>\n",
       "      <th>4078</th>\n",
       "      <td>224</td>\n",
       "      <td>224</td>\n",
       "    </tr>\n",
       "    <tr>\n",
       "      <th>4079</th>\n",
       "      <td>224</td>\n",
       "      <td>224</td>\n",
       "    </tr>\n",
       "  </tbody>\n",
       "</table>\n",
       "<p>4080 rows × 2 columns</p>\n",
       "</div>"
      ],
      "text/plain": [
       "      width  height\n",
       "0       224     224\n",
       "1       224     224\n",
       "2       224     224\n",
       "3       224     224\n",
       "4       224     224\n",
       "...     ...     ...\n",
       "4075    224     224\n",
       "4076    224     224\n",
       "4077    224     224\n",
       "4078    224     224\n",
       "4079    224     224\n",
       "\n",
       "[4080 rows x 2 columns]"
      ]
     },
     "execution_count": 21,
     "metadata": {},
     "output_type": "execute_result"
    }
   ],
   "source": [
    "df_sofa_dims"
   ]
  },
  {
   "cell_type": "code",
   "execution_count": 22,
   "metadata": {},
   "outputs": [
    {
     "data": {
      "text/html": [
       "<div>\n",
       "<style scoped>\n",
       "    .dataframe tbody tr th:only-of-type {\n",
       "        vertical-align: middle;\n",
       "    }\n",
       "\n",
       "    .dataframe tbody tr th {\n",
       "        vertical-align: top;\n",
       "    }\n",
       "\n",
       "    .dataframe thead th {\n",
       "        text-align: right;\n",
       "    }\n",
       "</style>\n",
       "<table border=\"1\" class=\"dataframe\">\n",
       "  <thead>\n",
       "    <tr style=\"text-align: right;\">\n",
       "      <th></th>\n",
       "      <th>width</th>\n",
       "      <th>height</th>\n",
       "    </tr>\n",
       "  </thead>\n",
       "  <tbody>\n",
       "    <tr>\n",
       "      <th>0</th>\n",
       "      <td>224</td>\n",
       "      <td>224</td>\n",
       "    </tr>\n",
       "    <tr>\n",
       "      <th>1</th>\n",
       "      <td>224</td>\n",
       "      <td>224</td>\n",
       "    </tr>\n",
       "    <tr>\n",
       "      <th>2</th>\n",
       "      <td>224</td>\n",
       "      <td>224</td>\n",
       "    </tr>\n",
       "    <tr>\n",
       "      <th>3</th>\n",
       "      <td>224</td>\n",
       "      <td>224</td>\n",
       "    </tr>\n",
       "    <tr>\n",
       "      <th>4</th>\n",
       "      <td>224</td>\n",
       "      <td>224</td>\n",
       "    </tr>\n",
       "    <tr>\n",
       "      <th>...</th>\n",
       "      <td>...</td>\n",
       "      <td>...</td>\n",
       "    </tr>\n",
       "    <tr>\n",
       "      <th>17095</th>\n",
       "      <td>350</td>\n",
       "      <td>350</td>\n",
       "    </tr>\n",
       "    <tr>\n",
       "      <th>17096</th>\n",
       "      <td>224</td>\n",
       "      <td>224</td>\n",
       "    </tr>\n",
       "    <tr>\n",
       "      <th>17097</th>\n",
       "      <td>224</td>\n",
       "      <td>224</td>\n",
       "    </tr>\n",
       "    <tr>\n",
       "      <th>17098</th>\n",
       "      <td>224</td>\n",
       "      <td>224</td>\n",
       "    </tr>\n",
       "    <tr>\n",
       "      <th>17099</th>\n",
       "      <td>350</td>\n",
       "      <td>350</td>\n",
       "    </tr>\n",
       "  </tbody>\n",
       "</table>\n",
       "<p>17100 rows × 2 columns</p>\n",
       "</div>"
      ],
      "text/plain": [
       "       width  height\n",
       "0        224     224\n",
       "1        224     224\n",
       "2        224     224\n",
       "3        224     224\n",
       "4        224     224\n",
       "...      ...     ...\n",
       "17095    350     350\n",
       "17096    224     224\n",
       "17097    224     224\n",
       "17098    224     224\n",
       "17099    350     350\n",
       "\n",
       "[17100 rows x 2 columns]"
      ]
     },
     "execution_count": 22,
     "metadata": {},
     "output_type": "execute_result"
    }
   ],
   "source": [
    "df_table_dims"
   ]
  },
  {
   "cell_type": "markdown",
   "metadata": {},
   "source": [
    "#### Visualization of each dataset"
   ]
  },
  {
   "cell_type": "code",
   "execution_count": 23,
   "metadata": {},
   "outputs": [
    {
     "data": {
      "text/plain": [
       "<Axes: xlabel='width', ylabel='height'>"
      ]
     },
     "execution_count": 23,
     "metadata": {},
     "output_type": "execute_result"
    },
    {
     "data": {
      "image/png": "[encoded data removed]",
      "text/plain": [
       "<Figure size 640x480 with 1 Axes>"
      ]
     },
     "metadata": {},
     "output_type": "display_data"
    }
   ],
   "source": [
    "df_bed_dims.plot.scatter(x=\"width\", y=\"height\")"
   ]
  },
  {
   "cell_type": "code",
   "execution_count": 24,
   "metadata": {},
   "outputs": [
    {
     "data": {
      "text/plain": [
       "<Axes: xlabel='width', ylabel='height'>"
      ]
     },
     "execution_count": 24,
     "metadata": {},
     "output_type": "execute_result"
    },
    {
     "data": {
      "image/png": "[encoded data removed]",
      "text/plain": [
       "<Figure size 640x480 with 1 Axes>"
      ]
     },
     "metadata": {},
     "output_type": "display_data"
    }
   ],
   "source": [
    "df_chair_dims.plot.scatter(x=\"width\", y=\"height\")"
   ]
  },
  {
   "cell_type": "code",
   "execution_count": 25,
   "metadata": {},
   "outputs": [
    {
     "data": {
      "text/plain": [
       "<Axes: xlabel='width', ylabel='height'>"
      ]
     },
     "execution_count": 25,
     "metadata": {},
     "output_type": "execute_result"
    },
    {
     "data": {
      "image/png": "[encoded data removed]",
      "text/plain": [
       "<Figure size 640x480 with 1 Axes>"
      ]
     },
     "metadata": {},
     "output_type": "display_data"
    }
   ],
   "source": [
    "df_dresser_dims.plot.scatter(x=\"width\", y=\"height\")"
   ]
  },
  {
   "cell_type": "code",
   "execution_count": 26,
   "metadata": {},
   "outputs": [
    {
     "data": {
      "text/plain": [
       "<Axes: xlabel='width', ylabel='height'>"
      ]
     },
     "execution_count": 26,
     "metadata": {},
     "output_type": "execute_result"
    },
    {
     "data": {
      "image/png": "[encoded data removed]",
      "text/plain": [
       "<Figure size 640x480 with 1 Axes>"
      ]
     },
     "metadata": {},
     "output_type": "display_data"
    }
   ],
   "source": [
    "df_lamp_dims.plot.scatter(x=\"width\", y=\"height\")"
   ]
  },
  {
   "cell_type": "code",
   "execution_count": 27,
   "metadata": {},
   "outputs": [
    {
     "data": {
      "text/plain": [
       "<Axes: xlabel='width', ylabel='height'>"
      ]
     },
     "execution_count": 27,
     "metadata": {},
     "output_type": "execute_result"
    },
    {
     "data": {
      "image/png": "[encoded data removed]",
      "text/plain": [
       "<Figure size 640x480 with 1 Axes>"
      ]
     },
     "metadata": {},
     "output_type": "display_data"
    }
   ],
   "source": [
    "df_sofa_dims.plot.scatter(x=\"width\", y=\"height\")"
   ]
  },
  {
   "cell_type": "code",
   "execution_count": 28,
   "metadata": {},
   "outputs": [
    {
     "data": {
      "text/plain": [
       "<Axes: xlabel='width', ylabel='height'>"
      ]
     },
     "execution_count": 28,
     "metadata": {},
     "output_type": "execute_result"
    },
    {
     "data": {
      "image/png": "[encoded data removed]",
      "text/plain": [
       "<Figure size 640x480 with 1 Axes>"
      ]
     },
     "metadata": {},
     "output_type": "display_data"
    }
   ],
   "source": [
    "df_table_dims.plot.scatter(x=\"width\", y=\"height\")"
   ]
  },
  {
   "cell_type": "markdown",
   "metadata": {},
   "source": [
    "Investigate anomaly data in the dataframe"
   ]
  },
  {
   "cell_type": "code",
   "execution_count": 29,
   "metadata": {},
   "outputs": [
    {
     "data": {
      "text/html": [
       "<div>\n",
       "<style scoped>\n",
       "    .dataframe tbody tr th:only-of-type {\n",
       "        vertical-align: middle;\n",
       "    }\n",
       "\n",
       "    .dataframe tbody tr th {\n",
       "        vertical-align: top;\n",
       "    }\n",
       "\n",
       "    .dataframe thead th {\n",
       "        text-align: right;\n",
       "    }\n",
       "</style>\n",
       "<table border=\"1\" class=\"dataframe\">\n",
       "  <thead>\n",
       "    <tr style=\"text-align: right;\">\n",
       "      <th></th>\n",
       "      <th>count</th>\n",
       "      <th>mean</th>\n",
       "      <th>std</th>\n",
       "      <th>min</th>\n",
       "      <th>25%</th>\n",
       "      <th>50%</th>\n",
       "      <th>75%</th>\n",
       "      <th>max</th>\n",
       "    </tr>\n",
       "  </thead>\n",
       "  <tbody>\n",
       "    <tr>\n",
       "      <th>width</th>\n",
       "      <td>6578.0</td>\n",
       "      <td>224.0</td>\n",
       "      <td>0.0</td>\n",
       "      <td>224.0</td>\n",
       "      <td>224.0</td>\n",
       "      <td>224.0</td>\n",
       "      <td>224.0</td>\n",
       "      <td>224.0</td>\n",
       "    </tr>\n",
       "    <tr>\n",
       "      <th>height</th>\n",
       "      <td>6578.0</td>\n",
       "      <td>224.0</td>\n",
       "      <td>0.0</td>\n",
       "      <td>224.0</td>\n",
       "      <td>224.0</td>\n",
       "      <td>224.0</td>\n",
       "      <td>224.0</td>\n",
       "      <td>224.0</td>\n",
       "    </tr>\n",
       "  </tbody>\n",
       "</table>\n",
       "</div>"
      ],
      "text/plain": [
       "         count   mean  std    min    25%    50%    75%    max\n",
       "width   6578.0  224.0  0.0  224.0  224.0  224.0  224.0  224.0\n",
       "height  6578.0  224.0  0.0  224.0  224.0  224.0  224.0  224.0"
      ]
     },
     "execution_count": 29,
     "metadata": {},
     "output_type": "execute_result"
    }
   ],
   "source": [
    "df_bed_dims.describe().T"
   ]
  },
  {
   "cell_type": "code",
   "execution_count": 30,
   "metadata": {},
   "outputs": [
    {
     "data": {
      "text/html": [
       "<div>\n",
       "<style scoped>\n",
       "    .dataframe tbody tr th:only-of-type {\n",
       "        vertical-align: middle;\n",
       "    }\n",
       "\n",
       "    .dataframe tbody tr th {\n",
       "        vertical-align: top;\n",
       "    }\n",
       "\n",
       "    .dataframe thead th {\n",
       "        text-align: right;\n",
       "    }\n",
       "</style>\n",
       "<table border=\"1\" class=\"dataframe\">\n",
       "  <thead>\n",
       "    <tr style=\"text-align: right;\">\n",
       "      <th></th>\n",
       "      <th>count</th>\n",
       "      <th>mean</th>\n",
       "      <th>std</th>\n",
       "      <th>min</th>\n",
       "      <th>25%</th>\n",
       "      <th>50%</th>\n",
       "      <th>75%</th>\n",
       "      <th>max</th>\n",
       "    </tr>\n",
       "  </thead>\n",
       "  <tbody>\n",
       "    <tr>\n",
       "      <th>width</th>\n",
       "      <td>22053.0</td>\n",
       "      <td>240.10638</td>\n",
       "      <td>42.072184</td>\n",
       "      <td>224.0</td>\n",
       "      <td>224.0</td>\n",
       "      <td>224.0</td>\n",
       "      <td>224.0</td>\n",
       "      <td>350.0</td>\n",
       "    </tr>\n",
       "    <tr>\n",
       "      <th>height</th>\n",
       "      <td>22053.0</td>\n",
       "      <td>240.10638</td>\n",
       "      <td>42.072184</td>\n",
       "      <td>224.0</td>\n",
       "      <td>224.0</td>\n",
       "      <td>224.0</td>\n",
       "      <td>224.0</td>\n",
       "      <td>350.0</td>\n",
       "    </tr>\n",
       "  </tbody>\n",
       "</table>\n",
       "</div>"
      ],
      "text/plain": [
       "          count       mean        std    min    25%    50%    75%    max\n",
       "width   22053.0  240.10638  42.072184  224.0  224.0  224.0  224.0  350.0\n",
       "height  22053.0  240.10638  42.072184  224.0  224.0  224.0  224.0  350.0"
      ]
     },
     "execution_count": 30,
     "metadata": {},
     "output_type": "execute_result"
    }
   ],
   "source": [
    "df_chair_dims.describe().T"
   ]
  },
  {
   "cell_type": "code",
   "execution_count": 31,
   "metadata": {},
   "outputs": [
    {
     "data": {
      "text/html": [
       "<div>\n",
       "<style scoped>\n",
       "    .dataframe tbody tr th:only-of-type {\n",
       "        vertical-align: middle;\n",
       "    }\n",
       "\n",
       "    .dataframe tbody tr th {\n",
       "        vertical-align: top;\n",
       "    }\n",
       "\n",
       "    .dataframe thead th {\n",
       "        text-align: right;\n",
       "    }\n",
       "</style>\n",
       "<table border=\"1\" class=\"dataframe\">\n",
       "  <thead>\n",
       "    <tr style=\"text-align: right;\">\n",
       "      <th></th>\n",
       "      <th>count</th>\n",
       "      <th>mean</th>\n",
       "      <th>std</th>\n",
       "      <th>min</th>\n",
       "      <th>25%</th>\n",
       "      <th>50%</th>\n",
       "      <th>75%</th>\n",
       "      <th>max</th>\n",
       "    </tr>\n",
       "  </thead>\n",
       "  <tbody>\n",
       "    <tr>\n",
       "      <th>width</th>\n",
       "      <td>7871.0</td>\n",
       "      <td>255.359929</td>\n",
       "      <td>54.481951</td>\n",
       "      <td>224.0</td>\n",
       "      <td>224.0</td>\n",
       "      <td>224.0</td>\n",
       "      <td>224.0</td>\n",
       "      <td>350.0</td>\n",
       "    </tr>\n",
       "    <tr>\n",
       "      <th>height</th>\n",
       "      <td>7871.0</td>\n",
       "      <td>255.359929</td>\n",
       "      <td>54.481951</td>\n",
       "      <td>224.0</td>\n",
       "      <td>224.0</td>\n",
       "      <td>224.0</td>\n",
       "      <td>224.0</td>\n",
       "      <td>350.0</td>\n",
       "    </tr>\n",
       "  </tbody>\n",
       "</table>\n",
       "</div>"
      ],
      "text/plain": [
       "         count        mean        std    min    25%    50%    75%    max\n",
       "width   7871.0  255.359929  54.481951  224.0  224.0  224.0  224.0  350.0\n",
       "height  7871.0  255.359929  54.481951  224.0  224.0  224.0  224.0  350.0"
      ]
     },
     "execution_count": 31,
     "metadata": {},
     "output_type": "execute_result"
    }
   ],
   "source": [
    "df_dresser_dims.describe().T"
   ]
  },
  {
   "cell_type": "code",
   "execution_count": 32,
   "metadata": {},
   "outputs": [
    {
     "data": {
      "text/html": [
       "<div>\n",
       "<style scoped>\n",
       "    .dataframe tbody tr th:only-of-type {\n",
       "        vertical-align: middle;\n",
       "    }\n",
       "\n",
       "    .dataframe tbody tr th {\n",
       "        vertical-align: top;\n",
       "    }\n",
       "\n",
       "    .dataframe thead th {\n",
       "        text-align: right;\n",
       "    }\n",
       "</style>\n",
       "<table border=\"1\" class=\"dataframe\">\n",
       "  <thead>\n",
       "    <tr style=\"text-align: right;\">\n",
       "      <th></th>\n",
       "      <th>count</th>\n",
       "      <th>mean</th>\n",
       "      <th>std</th>\n",
       "      <th>min</th>\n",
       "      <th>25%</th>\n",
       "      <th>50%</th>\n",
       "      <th>75%</th>\n",
       "      <th>max</th>\n",
       "    </tr>\n",
       "  </thead>\n",
       "  <tbody>\n",
       "    <tr>\n",
       "      <th>width</th>\n",
       "      <td>32401.0</td>\n",
       "      <td>272.582389</td>\n",
       "      <td>61.329019</td>\n",
       "      <td>224.0</td>\n",
       "      <td>224.0</td>\n",
       "      <td>224.0</td>\n",
       "      <td>350.0</td>\n",
       "      <td>350.0</td>\n",
       "    </tr>\n",
       "    <tr>\n",
       "      <th>height</th>\n",
       "      <td>32401.0</td>\n",
       "      <td>272.582389</td>\n",
       "      <td>61.329019</td>\n",
       "      <td>224.0</td>\n",
       "      <td>224.0</td>\n",
       "      <td>224.0</td>\n",
       "      <td>350.0</td>\n",
       "      <td>350.0</td>\n",
       "    </tr>\n",
       "  </tbody>\n",
       "</table>\n",
       "</div>"
      ],
      "text/plain": [
       "          count        mean        std    min    25%    50%    75%    max\n",
       "width   32401.0  272.582389  61.329019  224.0  224.0  224.0  350.0  350.0\n",
       "height  32401.0  272.582389  61.329019  224.0  224.0  224.0  350.0  350.0"
      ]
     },
     "execution_count": 32,
     "metadata": {},
     "output_type": "execute_result"
    }
   ],
   "source": [
    "df_lamp_dims.describe().T"
   ]
  },
  {
   "cell_type": "code",
   "execution_count": 33,
   "metadata": {},
   "outputs": [
    {
     "data": {
      "text/html": [
       "<div>\n",
       "<style scoped>\n",
       "    .dataframe tbody tr th:only-of-type {\n",
       "        vertical-align: middle;\n",
       "    }\n",
       "\n",
       "    .dataframe tbody tr th {\n",
       "        vertical-align: top;\n",
       "    }\n",
       "\n",
       "    .dataframe thead th {\n",
       "        text-align: right;\n",
       "    }\n",
       "</style>\n",
       "<table border=\"1\" class=\"dataframe\">\n",
       "  <thead>\n",
       "    <tr style=\"text-align: right;\">\n",
       "      <th></th>\n",
       "      <th>count</th>\n",
       "      <th>mean</th>\n",
       "      <th>std</th>\n",
       "      <th>min</th>\n",
       "      <th>25%</th>\n",
       "      <th>50%</th>\n",
       "      <th>75%</th>\n",
       "      <th>max</th>\n",
       "    </tr>\n",
       "  </thead>\n",
       "  <tbody>\n",
       "    <tr>\n",
       "      <th>width</th>\n",
       "      <td>4080.0</td>\n",
       "      <td>252.751471</td>\n",
       "      <td>52.884059</td>\n",
       "      <td>224.0</td>\n",
       "      <td>224.0</td>\n",
       "      <td>224.0</td>\n",
       "      <td>224.0</td>\n",
       "      <td>350.0</td>\n",
       "    </tr>\n",
       "    <tr>\n",
       "      <th>height</th>\n",
       "      <td>4080.0</td>\n",
       "      <td>252.751471</td>\n",
       "      <td>52.884059</td>\n",
       "      <td>224.0</td>\n",
       "      <td>224.0</td>\n",
       "      <td>224.0</td>\n",
       "      <td>224.0</td>\n",
       "      <td>350.0</td>\n",
       "    </tr>\n",
       "  </tbody>\n",
       "</table>\n",
       "</div>"
      ],
      "text/plain": [
       "         count        mean        std    min    25%    50%    75%    max\n",
       "width   4080.0  252.751471  52.884059  224.0  224.0  224.0  224.0  350.0\n",
       "height  4080.0  252.751471  52.884059  224.0  224.0  224.0  224.0  350.0"
      ]
     },
     "execution_count": 33,
     "metadata": {},
     "output_type": "execute_result"
    }
   ],
   "source": [
    "df_sofa_dims.describe().T"
   ]
  },
  {
   "cell_type": "code",
   "execution_count": 34,
   "metadata": {},
   "outputs": [
    {
     "data": {
      "text/html": [
       "<div>\n",
       "<style scoped>\n",
       "    .dataframe tbody tr th:only-of-type {\n",
       "        vertical-align: middle;\n",
       "    }\n",
       "\n",
       "    .dataframe tbody tr th {\n",
       "        vertical-align: top;\n",
       "    }\n",
       "\n",
       "    .dataframe thead th {\n",
       "        text-align: right;\n",
       "    }\n",
       "</style>\n",
       "<table border=\"1\" class=\"dataframe\">\n",
       "  <thead>\n",
       "    <tr style=\"text-align: right;\">\n",
       "      <th></th>\n",
       "      <th>count</th>\n",
       "      <th>mean</th>\n",
       "      <th>std</th>\n",
       "      <th>min</th>\n",
       "      <th>25%</th>\n",
       "      <th>50%</th>\n",
       "      <th>75%</th>\n",
       "      <th>max</th>\n",
       "    </tr>\n",
       "  </thead>\n",
       "  <tbody>\n",
       "    <tr>\n",
       "      <th>width</th>\n",
       "      <td>17100.0</td>\n",
       "      <td>236.216842</td>\n",
       "      <td>37.284744</td>\n",
       "      <td>224.0</td>\n",
       "      <td>224.0</td>\n",
       "      <td>224.0</td>\n",
       "      <td>224.0</td>\n",
       "      <td>350.0</td>\n",
       "    </tr>\n",
       "    <tr>\n",
       "      <th>height</th>\n",
       "      <td>17100.0</td>\n",
       "      <td>236.216842</td>\n",
       "      <td>37.284744</td>\n",
       "      <td>224.0</td>\n",
       "      <td>224.0</td>\n",
       "      <td>224.0</td>\n",
       "      <td>224.0</td>\n",
       "      <td>350.0</td>\n",
       "    </tr>\n",
       "  </tbody>\n",
       "</table>\n",
       "</div>"
      ],
      "text/plain": [
       "          count        mean        std    min    25%    50%    75%    max\n",
       "width   17100.0  236.216842  37.284744  224.0  224.0  224.0  224.0  350.0\n",
       "height  17100.0  236.216842  37.284744  224.0  224.0  224.0  224.0  350.0"
      ]
     },
     "execution_count": 34,
     "metadata": {},
     "output_type": "execute_result"
    }
   ],
   "source": [
    "df_table_dims.describe().T"
   ]
  },
  {
   "cell_type": "markdown",
   "metadata": {},
   "source": [
    "## Conclusion"
   ]
  },
  {
   "cell_type": "markdown",
   "metadata": {},
   "source": [
    "-   The dataset contains 6 categories of items with 90083 items total\n",
    "-   The dataset contains all file with JPEG type\n",
    "-   The dataset contains image mainly in two dimensions: 224x224 and 350x350. However there are one anomaly dimensions in the table category which is: 500x446"
   ]
  },
  {
   "cell_type": "markdown",
   "metadata": {},
   "source": [
    "## Data Preprocessing"
   ]
  },
  {
   "cell_type": "markdown",
   "metadata": {},
   "source": [
    "### Data Cleaning"
   ]
  },
  {
   "cell_type": "markdown",
   "metadata": {},
   "source": [
    "First we will start with resizing all images to 350x350. Here are some reasons:\n",
    "- The vast majority of the images are already at 350x350. Upscaling the smaller images will introduce minimal distortion compared to downscaling the majority to 224x224.\n",
    "- Upscaling generally retains more information from the original image than downscaling. While some interpolation artifacts might be introduced, they are less likely to significantly impact model performance compared to the information loss from downscaling.\n",
    "- The single image with a size of 500x448 is an outlier. which we can either upscale it to match the majority or exclude it from our dataset without significant impact."
   ]
  },
  {
   "cell_type": "code",
   "execution_count": 35,
   "metadata": {},
   "outputs": [
    {
     "ename": "NameError",
     "evalue": "name 'image_process' is not defined",
     "output_type": "error",
     "traceback": [
      "\u001b[1;31m---------------------------------------------------------------------------\u001b[0m",
      "\u001b[1;31mNameError\u001b[0m                                 Traceback (most recent call last)",
      "Cell \u001b[1;32mIn[35], line 1\u001b[0m\n\u001b[1;32m----> 1\u001b[0m \u001b[43mimage_process\u001b[49m\u001b[38;5;241m.\u001b[39mimgResize(beds_path, \u001b[38;5;241m350\u001b[39m)\n\u001b[0;32m      2\u001b[0m image_process\u001b[38;5;241m.\u001b[39mimgResize(chairs_path, \u001b[38;5;241m350\u001b[39m)\n\u001b[0;32m      3\u001b[0m image_process\u001b[38;5;241m.\u001b[39mimgResize(dressers_path, \u001b[38;5;241m350\u001b[39m)\n",
      "\u001b[1;31mNameError\u001b[0m: name 'image_process' is not defined"
     ]
    }
   ],
   "source": [
    "image_process.imgResize(beds_path, 350)\n",
    "image_process.imgResize(chairs_path, 350)\n",
    "image_process.imgResize(dressers_path, 350)\n",
    "image_process.imgResize(lamps_path, 350)\n",
    "image_process.imgResize(sofas_path, 350)\n",
    "image_process.imgResize(tables_path, 350)\n"
   ]
  },
  {
   "cell_type": "markdown",
   "metadata": {},
   "source": [
    "### Data Augmentation"
   ]
  },
  {
   "cell_type": "markdown",
   "metadata": {},
   "source": []
  }
 ],
 "metadata": {
  "kernelspec": {
   "display_name": "ML_py10",
   "language": "python",
   "name": "python3"
  },
  "language_info": {
   "codemirror_mode": {
    "name": "ipython",
    "version": 3
   },
   "file_extension": ".py",
   "mimetype": "text/x-python",
   "name": "python",
   "nbconvert_exporter": "python",
   "pygments_lexer": "ipython3",
   "version": "3.10.14"
  }
 },
 "nbformat": 4,
 "nbformat_minor": 2
}
