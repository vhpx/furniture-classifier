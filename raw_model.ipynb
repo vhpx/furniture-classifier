{
 "cells": [
  {
   "cell_type": "code",
   "execution_count": 19,
   "metadata": {},
   "outputs": [],
   "source": [
    "import tensorflow as tf\n",
    "import numpy as np\n",
    "from sklearn.model_selection import train_test_split\n",
    "import pandas as pd\n",
    "\n",
    "from utils import image_process"
   ]
  },
  {
   "cell_type": "code",
   "execution_count": 20,
   "metadata": {},
   "outputs": [
    {
     "name": "stdout",
     "output_type": "stream",
     "text": [
      "6578\n",
      "22053\n",
      "4080\n",
      "17100\n",
      "7871\n",
      "32402\n"
     ]
    }
   ],
   "source": [
    "beds_path = image_process.image_path('beds')\n",
    "chairs_path = image_process.image_path('chairs')\n",
    "sofas_path = image_process.image_path('sofas')\n",
    "tables_path = image_process.image_path('tables')\n",
    "dressers_path = image_process.image_path('dressers')\n",
    "lamps_path = image_process.image_path('lamps')\n",
    "\n",
    "print(len(beds_path))\n",
    "print(len(chairs_path))\n",
    "print(len(sofas_path))\n",
    "print(len(tables_path))\n",
    "print(len(dressers_path))\n",
    "print(len(lamps_path))"
   ]
  },
  {
   "cell_type": "code",
   "execution_count": 21,
   "metadata": {},
   "outputs": [],
   "source": [
    "label_names = {\n",
    "    'beds': 0,\n",
    "    'chairs': 1,\n",
    "    'dressers': 2,\n",
    "    'lamps': 3,\n",
    "    'sofas': 4,\n",
    "    'tables': 5\n",
    "}"
   ]
  },
  {
   "cell_type": "code",
   "execution_count": 22,
   "metadata": {},
   "outputs": [],
   "source": [
    "# general_path = beds_path + chairs_path + sofas_path + tables_path + dressers_path + lamps_path\n",
    "# print(len(general_path))\n",
    "# gen_df = pd.DataFrame(general_path, columns=['path'])\n",
    "# gen_df['label'] = ''\n"
   ]
  },
  {
   "cell_type": "code",
   "execution_count": 23,
   "metadata": {},
   "outputs": [],
   "source": [
    "beds_df = pd.DataFrame(beds_path, columns=['path'])\n",
    "beds_df['label'] = 0\n",
    "\n",
    "chairs_df = pd.DataFrame(chairs_path, columns=['path'])\n",
    "chairs_df['label'] = 1\n",
    "\n",
    "sofas_df = pd.DataFrame(sofas_path, columns=['path'])\n",
    "sofas_df['label'] = 4\n",
    "\n",
    "tables_df = pd.DataFrame(tables_path, columns=['path'])\n",
    "tables_df['label'] = 5\n",
    "\n",
    "dressers_df = pd.DataFrame(dressers_path, columns=['path'])\n",
    "dressers_df['label'] = 2\n",
    "\n",
    "lamps_df = pd.DataFrame(lamps_path, columns=['path'])\n",
    "lamps_df['label'] = 3\n",
    "\n",
    "general_path = pd.concat([beds_df, chairs_df, sofas_df, tables_df, dressers_df, lamps_df], ignore_index=True)\n",
    "\n",
    "        "
   ]
  },
  {
   "cell_type": "code",
   "execution_count": 24,
   "metadata": {},
   "outputs": [
    {
     "data": {
      "text/html": [
       "<div>\n",
       "<style scoped>\n",
       "    .dataframe tbody tr th:only-of-type {\n",
       "        vertical-align: middle;\n",
       "    }\n",
       "\n",
       "    .dataframe tbody tr th {\n",
       "        vertical-align: top;\n",
       "    }\n",
       "\n",
       "    .dataframe thead th {\n",
       "        text-align: right;\n",
       "    }\n",
       "</style>\n",
       "<table border=\"1\" class=\"dataframe\">\n",
       "  <thead>\n",
       "    <tr style=\"text-align: right;\">\n",
       "      <th></th>\n",
       "      <th>path</th>\n",
       "      <th>label</th>\n",
       "    </tr>\n",
       "  </thead>\n",
       "  <tbody>\n",
       "    <tr>\n",
       "      <th>0</th>\n",
       "      <td>./Furniture_Data/beds/Asian/19726asian-daybeds...</td>\n",
       "      <td>0</td>\n",
       "    </tr>\n",
       "    <tr>\n",
       "      <th>1</th>\n",
       "      <td>./Furniture_Data/beds/Asian/20027asian-canopy-...</td>\n",
       "      <td>0</td>\n",
       "    </tr>\n",
       "    <tr>\n",
       "      <th>2</th>\n",
       "      <td>./Furniture_Data/beds/Asian/20109asian-panel-b...</td>\n",
       "      <td>0</td>\n",
       "    </tr>\n",
       "    <tr>\n",
       "      <th>3</th>\n",
       "      <td>./Furniture_Data/beds/Asian/20508asian-platfor...</td>\n",
       "      <td>0</td>\n",
       "    </tr>\n",
       "    <tr>\n",
       "      <th>4</th>\n",
       "      <td>./Furniture_Data/beds/Asian/20750asian-comfort...</td>\n",
       "      <td>0</td>\n",
       "    </tr>\n",
       "    <tr>\n",
       "      <th>...</th>\n",
       "      <td>...</td>\n",
       "      <td>...</td>\n",
       "    </tr>\n",
       "    <tr>\n",
       "      <th>90079</th>\n",
       "      <td>./Furniture_Data/lamps/Victorian/8704victorian...</td>\n",
       "      <td>3</td>\n",
       "    </tr>\n",
       "    <tr>\n",
       "      <th>90080</th>\n",
       "      <td>./Furniture_Data/lamps/Victorian/8722victorian...</td>\n",
       "      <td>3</td>\n",
       "    </tr>\n",
       "    <tr>\n",
       "      <th>90081</th>\n",
       "      <td>./Furniture_Data/lamps/Victorian/8857victorian...</td>\n",
       "      <td>3</td>\n",
       "    </tr>\n",
       "    <tr>\n",
       "      <th>90082</th>\n",
       "      <td>./Furniture_Data/lamps/Victorian/9061victorian...</td>\n",
       "      <td>3</td>\n",
       "    </tr>\n",
       "    <tr>\n",
       "      <th>90083</th>\n",
       "      <td>./Furniture_Data/lamps/Victorian/9254victorian...</td>\n",
       "      <td>3</td>\n",
       "    </tr>\n",
       "  </tbody>\n",
       "</table>\n",
       "<p>90084 rows × 2 columns</p>\n",
       "</div>"
      ],
      "text/plain": [
       "                                                    path  label\n",
       "0      ./Furniture_Data/beds/Asian/19726asian-daybeds...      0\n",
       "1      ./Furniture_Data/beds/Asian/20027asian-canopy-...      0\n",
       "2      ./Furniture_Data/beds/Asian/20109asian-panel-b...      0\n",
       "3      ./Furniture_Data/beds/Asian/20508asian-platfor...      0\n",
       "4      ./Furniture_Data/beds/Asian/20750asian-comfort...      0\n",
       "...                                                  ...    ...\n",
       "90079  ./Furniture_Data/lamps/Victorian/8704victorian...      3\n",
       "90080  ./Furniture_Data/lamps/Victorian/8722victorian...      3\n",
       "90081  ./Furniture_Data/lamps/Victorian/8857victorian...      3\n",
       "90082  ./Furniture_Data/lamps/Victorian/9061victorian...      3\n",
       "90083  ./Furniture_Data/lamps/Victorian/9254victorian...      3\n",
       "\n",
       "[90084 rows x 2 columns]"
      ]
     },
     "execution_count": 24,
     "metadata": {},
     "output_type": "execute_result"
    }
   ],
   "source": [
    "general_path"
   ]
  },
  {
   "cell_type": "code",
   "execution_count": 25,
   "metadata": {},
   "outputs": [],
   "source": [
    "train_data, test_data = train_test_split(general_path, test_size=0.2, shuffle=True)\n",
    "train_data, val_data = train_test_split(train_data, test_size=0.25, shuffle=True)"
   ]
  },
  {
   "cell_type": "code",
   "execution_count": 26,
   "metadata": {},
   "outputs": [
    {
     "name": "stdout",
     "output_type": "stream",
     "text": [
      "54050\n",
      "18017\n",
      "18017\n"
     ]
    },
    {
     "data": {
      "text/html": [
       "<div>\n",
       "<style scoped>\n",
       "    .dataframe tbody tr th:only-of-type {\n",
       "        vertical-align: middle;\n",
       "    }\n",
       "\n",
       "    .dataframe tbody tr th {\n",
       "        vertical-align: top;\n",
       "    }\n",
       "\n",
       "    .dataframe thead th {\n",
       "        text-align: right;\n",
       "    }\n",
       "</style>\n",
       "<table border=\"1\" class=\"dataframe\">\n",
       "  <thead>\n",
       "    <tr style=\"text-align: right;\">\n",
       "      <th></th>\n",
       "      <th>path</th>\n",
       "      <th>label</th>\n",
       "    </tr>\n",
       "  </thead>\n",
       "  <tbody>\n",
       "    <tr>\n",
       "      <th>63570</th>\n",
       "      <td>./Furniture_Data/lamps/Contemporary/2152contem...</td>\n",
       "      <td>3</td>\n",
       "    </tr>\n",
       "    <tr>\n",
       "      <th>68858</th>\n",
       "      <td>./Furniture_Data/lamps/Craftsman/27400craftsma...</td>\n",
       "      <td>3</td>\n",
       "    </tr>\n",
       "    <tr>\n",
       "      <th>66674</th>\n",
       "      <td>./Furniture_Data/lamps/Contemporary/625contemp...</td>\n",
       "      <td>3</td>\n",
       "    </tr>\n",
       "    <tr>\n",
       "      <th>59637</th>\n",
       "      <td>./Furniture_Data/lamps/Beach/15366beach-style-...</td>\n",
       "      <td>3</td>\n",
       "    </tr>\n",
       "    <tr>\n",
       "      <th>47260</th>\n",
       "      <td>./Furniture_Data/tables/Traditional/15024tradi...</td>\n",
       "      <td>5</td>\n",
       "    </tr>\n",
       "  </tbody>\n",
       "</table>\n",
       "</div>"
      ],
      "text/plain": [
       "                                                    path  label\n",
       "63570  ./Furniture_Data/lamps/Contemporary/2152contem...      3\n",
       "68858  ./Furniture_Data/lamps/Craftsman/27400craftsma...      3\n",
       "66674  ./Furniture_Data/lamps/Contemporary/625contemp...      3\n",
       "59637  ./Furniture_Data/lamps/Beach/15366beach-style-...      3\n",
       "47260  ./Furniture_Data/tables/Traditional/15024tradi...      5"
      ]
     },
     "execution_count": 26,
     "metadata": {},
     "output_type": "execute_result"
    }
   ],
   "source": [
    "print(len(train_data))\n",
    "print(len(test_data))\n",
    "print(len(val_data))\n",
    "\n",
    "train_data.head()"
   ]
  },
  {
   "cell_type": "code",
   "execution_count": 27,
   "metadata": {},
   "outputs": [],
   "source": [
    "INPUT_DIM = (32,32,3)\n",
    "HIDDEN_LAYER_DIM = 256\n",
    "OUTPUT_CLASSES = 6"
   ]
  },
  {
   "cell_type": "code",
   "execution_count": 28,
   "metadata": {},
   "outputs": [
    {
     "data": {
      "text/plain": [
       "'2.10.1'"
      ]
     },
     "execution_count": 28,
     "metadata": {},
     "output_type": "execute_result"
    }
   ],
   "source": [
    "AUTOTUNE = tf.data.experimental.AUTOTUNE\n",
    "\n",
    "tf.__version__"
   ]
  },
  {
   "cell_type": "code",
   "execution_count": 29,
   "metadata": {},
   "outputs": [],
   "source": [
    "model = tf.keras.models.Sequential([\n",
    "    tf.keras.layers.Flatten(input_shape=INPUT_DIM),\n",
    "    tf.keras.layers.Dense(HIDDEN_LAYER_DIM, activation='sigmoid'),\n",
    "    tf.keras.layers.Dense(OUTPUT_CLASSES)\n",
    "])"
   ]
  },
  {
   "cell_type": "code",
   "execution_count": 30,
   "metadata": {},
   "outputs": [
    {
     "name": "stdout",
     "output_type": "stream",
     "text": [
      "Model: \"sequential_1\"\n",
      "_________________________________________________________________\n",
      " Layer (type)                Output Shape              Param #   \n",
      "=================================================================\n",
      " flatten_1 (Flatten)         (None, 3072)              0         \n",
      "                                                                 \n",
      " dense_2 (Dense)             (None, 256)               786688    \n",
      "                                                                 \n",
      " dense_3 (Dense)             (None, 6)                 1542      \n",
      "                                                                 \n",
      "=================================================================\n",
      "Total params: 788,230\n",
      "Trainable params: 788,230\n",
      "Non-trainable params: 0\n",
      "_________________________________________________________________\n"
     ]
    }
   ],
   "source": [
    "model.summary()"
   ]
  },
  {
   "cell_type": "code",
   "execution_count": 31,
   "metadata": {},
   "outputs": [
    {
     "name": "stdout",
     "output_type": "stream",
     "text": [
      "You must install pydot (`pip install pydot`) and install graphviz (see instructions at https://graphviz.gitlab.io/download/) for plot_model to work.\n"
     ]
    }
   ],
   "source": [
    "tf.keras.utils.plot_model(model, show_shapes=True)"
   ]
  },
  {
   "cell_type": "code",
   "execution_count": 32,
   "metadata": {},
   "outputs": [],
   "source": [
    "model.compile(optimizer='SGD', loss=tf.keras.losses.CategoricalCrossentropy(from_logits=True), metrics=['categorical_accuracy'])"
   ]
  },
  {
   "cell_type": "code",
   "execution_count": 33,
   "metadata": {},
   "outputs": [],
   "source": [
    "# train_data_df = pd.DataFrame(train_data, columns=['path'])\n",
    "# test_data_df = pd.DataFrame(test_data, columns=['path'])\n",
    "# val_data_df = pd.DataFrame(val_data, columns=['path'])\n"
   ]
  },
  {
   "cell_type": "code",
   "execution_count": 34,
   "metadata": {},
   "outputs": [],
   "source": [
    "train_data['label'] = train_data['label'].astype('str')\n",
    "test_data['label'] = test_data['label'].astype('str')\n",
    "val_data['label'] = val_data['label'].astype('str')"
   ]
  },
  {
   "cell_type": "code",
   "execution_count": 43,
   "metadata": {},
   "outputs": [
    {
     "name": "stdout",
     "output_type": "stream",
     "text": [
      "Found 54049 validated image filenames belonging to 6 classes.\n"
     ]
    },
    {
     "name": "stderr",
     "output_type": "stream",
     "text": [
      "c:\\Users\\maste\\anaconda3\\envs\\ML_py3.10\\lib\\site-packages\\keras\\preprocessing\\image.py:1139: UserWarning: Found 1 invalid image filename(s) in x_col=\"path\". These filename(s) will be ignored.\n",
      "  warnings.warn(\n"
     ]
    },
    {
     "name": "stdout",
     "output_type": "stream",
     "text": [
      "Found 18017 validated image filenames belonging to 6 classes.\n",
      "Found 18016 validated image filenames belonging to 6 classes.\n"
     ]
    },
    {
     "name": "stderr",
     "output_type": "stream",
     "text": [
      "c:\\Users\\maste\\anaconda3\\envs\\ML_py3.10\\lib\\site-packages\\keras\\preprocessing\\image.py:1139: UserWarning: Found 1 invalid image filename(s) in x_col=\"path\". These filename(s) will be ignored.\n",
      "  warnings.warn(\n"
     ]
    }
   ],
   "source": [
    "from tensorflow.keras.preprocessing.image import ImageDataGenerator\n",
    "\n",
    "train_datagen = ImageDataGenerator(rescale=1./255, data_format='channels_last')\n",
    "val_datagen = ImageDataGenerator(rescale=1./255, data_format='channels_last')\n",
    "test_generator = ImageDataGenerator(rescale=1./255, data_format='channels_last')\n",
    "\n",
    "batch_size = 1\n",
    "\n",
    "train_generator = train_datagen.flow_from_dataframe(\n",
    "        dataframe=train_data,\n",
    "        directory=None,\n",
    "        x_col=\"path\",\n",
    "        y_col=\"label\",\n",
    "        target_size=(32, 32),\n",
    "        batch_size=batch_size,\n",
    "        class_mode='categorical')\n",
    "\n",
    "test_generator = val_datagen.flow_from_dataframe(\n",
    "        dataframe=test_data,\n",
    "        directory=None,\n",
    "        x_col=\"path\",\n",
    "        y_col=\"label\",\n",
    "        target_size=(32, 32),\n",
    "        batch_size=batch_size,\n",
    "        class_mode='categorical')\n",
    "\n",
    "validation_generator = val_datagen.flow_from_dataframe(\n",
    "        dataframe=val_data,\n",
    "        directory=None,\n",
    "        x_col=\"path\",\n",
    "        y_col=\"label\",\n",
    "        target_size=(32, 32),\n",
    "        batch_size=batch_size,\n",
    "        class_mode='categorical')"
   ]
  },
  {
   "cell_type": "code",
   "execution_count": 44,
   "metadata": {},
   "outputs": [
    {
     "name": "stderr",
     "output_type": "stream",
     "text": [
      "C:\\Users\\maste\\AppData\\Local\\Temp\\ipykernel_14668\\2606586777.py:2: UserWarning: `Model.fit_generator` is deprecated and will be removed in a future version. Please use `Model.fit`, which supports generators.\n",
      "  history = model.fit_generator(train_generator, validation_data=validation_generator, epochs=5, verbose=0)\n"
     ]
    }
   ],
   "source": [
    "# history = model.fit_generator(train_generator, validation_data=validation_generator, epochs=50, verbose=0)\n",
    "history = model.fit_generator(train_generator, validation_data=validation_generator, epochs=5, verbose=0)\n",
    "# print(train_generator.class_indices)"
   ]
  },
  {
   "cell_type": "code",
   "execution_count": 37,
   "metadata": {},
   "outputs": [
    {
     "name": "stdout",
     "output_type": "stream",
     "text": [
      "564/564 [==============================] - 11s 20ms/step - loss: 0.7115 - categorical_accuracy: 0.7517\n"
     ]
    },
    {
     "data": {
      "text/plain": [
       "[0.7115005850791931, 0.7516789436340332]"
      ]
     },
     "execution_count": 37,
     "metadata": {},
     "output_type": "execute_result"
    }
   ],
   "source": [
    "model.evaluate(test_generator)"
   ]
  },
  {
   "cell_type": "code",
   "execution_count": 51,
   "metadata": {},
   "outputs": [
    {
     "name": "stdout",
     "output_type": "stream",
     "text": [
      "(32, 32, 3)\n",
      "(32, 32, 3)\n",
      "(32, 32, 3)\n",
      "(32, 32, 3)\n",
      "(32, 32, 3)\n"
     ]
    },
    {
     "data": {
      "image/png": "[encoded data removed]",
      "text/plain": [
       "<Figure size 1600x400 with 5 Axes>"
      ]
     },
     "metadata": {},
     "output_type": "display_data"
    }
   ],
   "source": [
    "d_inv = {\n",
    "    v: k for k, v in label_names.items()\n",
    "}\n",
    "import matplotlib.pyplot as plt\n",
    "import numpy as np\n",
    "# print(test_generator.class_indices)\n",
    "# print(d_inv)\n",
    "plt.figure(figsize=(16, 4))\n",
    "batches = 0\n",
    "for x, y in test_generator:\n",
    "    batches = batches + 1\n",
    "    y_hat = model.predict(x, verbose=0)\n",
    "    x = np.squeeze(x)\n",
    "    if batches < 6:\n",
    "        plt.subplot(1, 5, batches)\n",
    "        plt.imshow(x)\n",
    "        plt.title(\"GT-{}, Pred-{}\".format(d_inv[np.argmax(y[0])], d_inv[np.argmax(y_hat[0])]))\n",
    "        print(x.shape)\n",
    "    else:\n",
    "        break\n",
    "    plt.axis('off')\n"
   ]
  },
  {
   "cell_type": "code",
   "execution_count": 55,
   "metadata": {},
   "outputs": [],
   "source": [
    "import os\n",
    "model.save(os.path.join('model', 'raw_model.h5'))"
   ]
  },
  {
   "cell_type": "code",
   "execution_count": null,
   "metadata": {},
   "outputs": [],
   "source": []
  }
 ],
 "metadata": {
  "kernelspec": {
   "display_name": "ML_py3.10",
   "language": "python",
   "name": "python3"
  },
  "language_info": {
   "codemirror_mode": {
    "name": "ipython",
    "version": 3
   },
   "file_extension": ".py",
   "mimetype": "text/x-python",
   "name": "python",
   "nbconvert_exporter": "python",
   "pygments_lexer": "ipython3",
   "version": "3.10.14"
  }
 },
 "nbformat": 4,
 "nbformat_minor": 2
}
