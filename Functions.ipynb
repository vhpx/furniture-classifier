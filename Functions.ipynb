{
 "cells": [
  {
   "cell_type": "code",
   "execution_count": 42,
   "metadata": {},
   "outputs": [],
   "source": [
    "import pandas as pd\n",
    "import numpy as np\n",
    "import matplotlib.pyplot as plt\n",
    "import tensorflow as tf\n",
    "from PIL import Image\n",
    "from PIL import ImageFile\n",
    "import os, sys\n"
   ]
  },
  {
   "cell_type": "code",
   "execution_count": 67,
   "metadata": {},
   "outputs": [],
   "source": [
    "# Image resize function: A function which resize image from 350x350 pixels to 224x224 pixels\n",
    "def imgresize(path):\n",
    "    dirs = os.listdir(path)\n",
    "    for item in dirs:\n",
    "        img = Image.open(os.path.join(path, item))\n",
    "        imgResize = img.resize((224,224))\n",
    "        imgResize.save(os.path.join(path, item), 'JPEG', quality = 90)\n",
    "        "
   ]
  },
  {
   "cell_type": "code",
   "execution_count": 76,
   "metadata": {},
   "outputs": [],
   "source": [
    "# Image get size function: A function use to get the size of each image in (width, height) formation with unit of pixels\n",
    "def imgSizeList(path):\n",
    "    imageSize = list()\n",
    "    for item in dirs:\n",
    "        img = Image.open(os.path.join(path, item))\n",
    "        imageSize.append(img.size)    \n",
    "    print(imageSize)\n",
    "    "
   ]
  },
  {
   "cell_type": "code",
   "execution_count": null,
   "metadata": {},
   "outputs": [],
   "source": []
  }
 ],
 "metadata": {
  "kernelspec": {
   "display_name": "Python 3",
   "language": "python",
   "name": "python3"
  },
  "language_info": {
   "codemirror_mode": {
    "name": "ipython",
    "version": 3
   },
   "file_extension": ".py",
   "mimetype": "text/x-python",
   "name": "python",
   "nbconvert_exporter": "python",
   "pygments_lexer": "ipython3",
   "version": "3.10.14"
  }
 },
 "nbformat": 4,
 "nbformat_minor": 2
}
