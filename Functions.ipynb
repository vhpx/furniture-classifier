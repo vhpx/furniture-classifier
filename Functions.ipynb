{
 "cells": [
  {
   "cell_type": "code",
   "execution_count": 42,
   "metadata": {},
   "outputs": [],
   "source": [
    "import pandas as pd\n",
    "import numpy as np\n",
    "import matplotlib.pyplot as plt\n",
    "import tensorflow as tf\n",
    "from PIL import Image\n",
    "from PIL import ImageFile\n",
    "import os, sys\n"
   ]
  },
  {
   "cell_type": "code",
   "execution_count": 1,
   "metadata": {},
   "outputs": [],
   "source": [
    "def imgResize(paths):\n",
    "    for path in paths:\n",
    "        tf.image.resize(paths[path], [224,224])"
   ]
  },
  {
   "cell_type": "code",
   "execution_count": 2,
   "metadata": {},
   "outputs": [],
   "source": [
    "# Image get size function: A function use to get the size of each image in (width, height) formation with unit of pixels\n",
    "def imgSizeList(paths):\n",
    "    count1 = 0\n",
    "    count2 = 0\n",
    "    count3 = 0\n",
    "    imageSize = list()\n",
    "    for path in paths:\n",
    "        img = PIL.Image.open(paths[path])\n",
    "        imageSize.append(img.size)  \n",
    "        if img.size == (224,224):\n",
    "            count1 += 1\n",
    "        if img.size == (350,350):\n",
    "            count2 +=1 \n",
    "        else: count3 +=1 \n",
    "    print(imageSize)\n",
    "    print('224x224 pixels',count1)\n",
    "    print('350x350 pixels', count2)\n",
    "    print('Other size', count3)\n",
    "    "
   ]
  },
  {
   "cell_type": "code",
   "execution_count": null,
   "metadata": {},
   "outputs": [],
   "source": []
  }
 ],
 "metadata": {
  "kernelspec": {
   "display_name": "Python 3",
   "language": "python",
   "name": "python3"
  },
  "language_info": {
   "codemirror_mode": {
    "name": "ipython",
    "version": 3
   },
   "file_extension": ".py",
   "mimetype": "text/x-python",
   "name": "python",
   "nbconvert_exporter": "python",
   "pygments_lexer": "ipython3",
   "version": "3.10.13"
  }
 },
 "nbformat": 4,
 "nbformat_minor": 2
}
