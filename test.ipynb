{
 "cells": [
  {
   "cell_type": "code",
   "execution_count": 29,
   "metadata": {},
   "outputs": [],
   "source": [
    "from utils.cache import reload_custom_libraries\n",
    "\n",
    "# Refresh library cache\n",
    "reload_custom_libraries()"
   ]
  },
  {
   "cell_type": "code",
   "execution_count": 30,
   "metadata": {},
   "outputs": [],
   "source": [
    "from utils.constants import *"
   ]
  },
  {
   "cell_type": "code",
   "execution_count": 31,
   "metadata": {},
   "outputs": [
    {
     "name": "stdout",
     "output_type": "stream",
     "text": [
      "CSV file already exists at ./data/datasets/processed.csv. Loading from cache...\n"
     ]
    }
   ],
   "source": [
    "from utils.converter import convert_to_df, prepare_data_for_training\n",
    "\n",
    "processed_train_df = convert_to_df(PROCESSED_DATASET_DIR, PROCESSED_TRAIN_DATA_CSV)"
   ]
  },
  {
   "cell_type": "code",
   "execution_count": 32,
   "metadata": {},
   "outputs": [],
   "source": [
    "from tensorflow.keras.preprocessing.image import ImageDataGenerator\n",
    "from sklearn.model_selection import train_test_split\n",
    "\n",
    "# Split the data into train and test sets\n",
    "_, test_df = train_test_split(\n",
    "    processed_train_df,\n",
    "    test_size=0.1,\n",
    "    random_state=42,\n",
    "    stratify=processed_train_df[[\"Category\", \"Style\"]],\n",
    ")\n",
    "\n",
    "# Create a data generator\n",
    "datagen = ImageDataGenerator(rescale=1.0 / 255)"
   ]
  },
  {
   "cell_type": "code",
   "execution_count": 33,
   "metadata": {},
   "outputs": [
    {
     "name": "stdout",
     "output_type": "stream",
     "text": [
      "Found 46584 validated image filenames belonging to 6 classes.\n"
     ]
    }
   ],
   "source": [
    "test_generator_category = datagen.flow_from_dataframe(\n",
    "    dataframe=test_df,\n",
    "    x_col=\"Full_Path\",\n",
    "    y_col=\"Category\",\n",
    "    target_size=(350, 350),\n",
    "    batch_size=32,\n",
    "    class_mode=\"categorical\",\n",
    "    shuffle=False,\n",
    ")"
   ]
  },
  {
   "cell_type": "code",
   "execution_count": 34,
   "metadata": {},
   "outputs": [],
   "source": [
    "from utils.constants import *\n",
    "from tensorflow.keras.models import load_model\n",
    "from sklearn.metrics import classification_report\n",
    "\n",
    "# List of epochs you want to test\n",
    "epochs = []\n",
    "\n",
    "# Get the true labels\n",
    "y_true = test_generator_category.classes\n",
    "\n",
    "# Get the class labels\n",
    "class_labels = list(test_generator_category.class_indices.keys())\n",
    "\n",
    "for epoch in epochs:\n",
    "    # Load the model for each epoch\n",
    "    model = load_model(\n",
    "        f\"{MODEL_DIR}/task_1_CNN_model_at_epoch_{str(epoch).zfill(2)}.h5\"\n",
    "    )\n",
    "\n",
    "    # Get the predicted labels\n",
    "    y_pred = model.predict(test_generator_category).argmax(axis=1)\n",
    "\n",
    "    # Generate the classification report\n",
    "    report = classification_report(y_true, y_pred, target_names=class_labels)\n",
    "\n",
    "    print(f\"Classification report for epoch {epoch}:\")\n",
    "    print(report)\n",
    "    print(\"\\n\")"
   ]
  },
  {
   "cell_type": "code",
   "execution_count": 35,
   "metadata": {},
   "outputs": [
    {
     "name": "stdout",
     "output_type": "stream",
     "text": [
      "Found 46584 validated image filenames belonging to 17 classes.\n"
     ]
    }
   ],
   "source": [
    "test_generator_style = datagen.flow_from_dataframe(\n",
    "    dataframe=test_df,\n",
    "    x_col=\"Full_Path\",\n",
    "    y_col=\"Style\",\n",
    "    target_size=(350, 350),\n",
    "    batch_size=32,\n",
    "    class_mode=\"categorical\",\n",
    "    shuffle=False,\n",
    ")"
   ]
  },
  {
   "cell_type": "code",
   "execution_count": 36,
   "metadata": {},
   "outputs": [],
   "source": [
    "from utils.constants import *\n",
    "from tensorflow.keras.models import load_model\n",
    "from sklearn.metrics import classification_report\n",
    "\n",
    "# List of epochs you want to test\n",
    "epochs = []\n",
    "\n",
    "# Get the true labels\n",
    "y_true = test_generator_category.classes\n",
    "\n",
    "# Get the class labels\n",
    "class_labels = list(test_generator_category.class_indices.keys())\n",
    "\n",
    "for epoch in epochs:\n",
    "    # Load the model for each epoch\n",
    "    model = load_model(\n",
    "        f\"{MODEL_DIR}/task_1_CNN_model_at_epoch_{str(epoch).zfill(2)}.h5\"\n",
    "    )\n",
    "\n",
    "    # Get the predicted labels\n",
    "    y_pred = model.predict(test_generator_category).argmax(axis=1)\n",
    "\n",
    "    # Generate the classification report\n",
    "    report = classification_report(y_true, y_pred, target_names=class_labels)\n",
    "\n",
    "    print(f\"Classification report for epoch {epoch}:\")\n",
    "    print(report)\n",
    "    print(\"\\n\")"
   ]
  }
 ],
 "metadata": {
  "kernelspec": {
   "display_name": "py310",
   "language": "python",
   "name": "python3"
  },
  "language_info": {
   "codemirror_mode": {
    "name": "ipython",
    "version": 3
   },
   "file_extension": ".py",
   "mimetype": "text/x-python",
   "name": "python",
   "nbconvert_exporter": "python",
   "pygments_lexer": "ipython3",
   "version": "3.10.14"
  }
 },
 "nbformat": 4,
 "nbformat_minor": 2
}
