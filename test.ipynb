{
 "cells": [
  {
   "cell_type": "code",
   "execution_count": 4,
   "metadata": {},
   "outputs": [],
   "source": [
    "from utils.cache import reload_custom_libraries\n",
    "\n",
    "# Refresh library cache\n",
    "reload_custom_libraries()"
   ]
  },
  {
   "cell_type": "code",
   "execution_count": 5,
   "metadata": {},
   "outputs": [],
   "source": [
    "from utils.constants import *"
   ]
  },
  {
   "cell_type": "code",
   "execution_count": 6,
   "metadata": {},
   "outputs": [
    {
     "name": "stdout",
     "output_type": "stream",
     "text": [
      "CSV file already exists at ./data/datasets/processed.csv. Loading from cache...\n"
     ]
    }
   ],
   "source": [
    "from utils.converter import convert_to_df, prepare_data_for_training\n",
    "\n",
    "processed_train_df = convert_to_df(PROCESSED_DATASET_DIR, PROCESSED_TRAIN_DATA_CSV)"
   ]
  },
  {
   "cell_type": "code",
   "execution_count": 7,
   "metadata": {},
   "outputs": [
    {
     "name": "stdout",
     "output_type": "stream",
     "text": [
      "Found 279500 validated image filenames belonging to 6 classes.\n",
      "Found 93167 validated image filenames belonging to 6 classes.\n",
      "Found 93167 validated image filenames belonging to 6 classes.\n",
      "Found 279500 validated image filenames belonging to 17 classes.\n",
      "Found 93167 validated image filenames belonging to 17 classes.\n",
      "Found 93167 validated image filenames belonging to 17 classes.\n"
     ]
    }
   ],
   "source": [
    "from tensorflow.keras.preprocessing.image import ImageDataGenerator\n",
    "from sklearn.model_selection import train_test_split\n",
    "\n",
    "# Split the data into train and test sets\n",
    "train_df, test_df = train_test_split(\n",
    "    processed_train_df,\n",
    "    test_size=0.2,\n",
    "    random_state=42,\n",
    "    stratify=processed_train_df[[\"Category\", \"Style\"]],\n",
    ")\n",
    "\n",
    "# Split the train set into train and validation sets\n",
    "train_df, val_df = train_test_split(\n",
    "    train_df,\n",
    "    test_size=0.25,\n",
    "    random_state=42,\n",
    "    stratify=train_df[[\"Category\", \"Style\"]],\n",
    ")\n",
    "\n",
    "# Create a data generator\n",
    "datagen = ImageDataGenerator(rescale=1.0 / 255)\n",
    "\n",
    "# Load images from dataframes for Category classification\n",
    "train_generator_category = datagen.flow_from_dataframe(\n",
    "    dataframe=train_df,\n",
    "    x_col=\"Full_Path\",\n",
    "    y_col=\"Category\",\n",
    "    target_size=(350, 350),\n",
    "    batch_size=32,\n",
    "    class_mode=\"sparse\",\n",
    ")\n",
    "\n",
    "val_generator_category = datagen.flow_from_dataframe(\n",
    "    dataframe=val_df,\n",
    "    x_col=\"Full_Path\",\n",
    "    y_col=\"Category\",\n",
    "    target_size=(350, 350),\n",
    "    batch_size=32,\n",
    "    class_mode=\"sparse\",\n",
    ")\n",
    "\n",
    "test_generator_category = datagen.flow_from_dataframe(\n",
    "    dataframe=test_df,\n",
    "    x_col=\"Full_Path\",\n",
    "    y_col=\"Category\",\n",
    "    target_size=(350, 350),\n",
    "    batch_size=32,\n",
    "    class_mode=\"sparse\",\n",
    ")\n",
    "\n",
    "# Load images from dataframes for Style classification\n",
    "train_generator_style = datagen.flow_from_dataframe(\n",
    "    dataframe=train_df,\n",
    "    x_col=\"Full_Path\",\n",
    "    y_col=\"Style\",\n",
    "    target_size=(350, 350),\n",
    "    batch_size=32,\n",
    "    class_mode=\"sparse\",\n",
    ")\n",
    "\n",
    "val_generator_style = datagen.flow_from_dataframe(\n",
    "    dataframe=val_df,\n",
    "    x_col=\"Full_Path\",\n",
    "    y_col=\"Style\",\n",
    "    target_size=(350, 350),\n",
    "    batch_size=32,\n",
    "    class_mode=\"sparse\",\n",
    ")\n",
    "\n",
    "test_generator_style = datagen.flow_from_dataframe(\n",
    "    dataframe=test_df,\n",
    "    x_col=\"Full_Path\",\n",
    "    y_col=\"Style\",\n",
    "    target_size=(350, 350),\n",
    "    batch_size=32,\n",
    "    class_mode=\"sparse\",\n",
    ")"
   ]
  },
  {
   "cell_type": "code",
   "execution_count": 9,
   "metadata": {},
   "outputs": [
    {
     "name": "stdout",
     "output_type": "stream",
     "text": [
      "2912/2912 [==============================] - 436s 149ms/step - loss: 0.3278 - accuracy: 0.8908\n",
      "2912/2912 [==============================] - 158s 54ms/step\n",
      "              precision    recall  f1-score   support\n",
      "\n",
      "        beds       0.17      0.16      0.17     15524\n",
      "      chairs       0.17      0.17      0.17     15526\n",
      "    dressers       0.17      0.18      0.17     15527\n",
      "       lamps       0.16      0.16      0.16     15531\n",
      "       sofas       0.17      0.18      0.17     15528\n",
      "      tables       0.17      0.15      0.16     15531\n",
      "\n",
      "    accuracy                           0.17     93167\n",
      "   macro avg       0.17      0.17      0.17     93167\n",
      "weighted avg       0.17      0.17      0.17     93167\n",
      "\n"
     ]
    }
   ],
   "source": [
    "from utils.constants import *\n",
    "from tensorflow.keras.models import load_model\n",
    "\n",
    "\n",
    "\n",
    "model = load_model(f\"{MODEL_DIR}/task_1_CNN_model_at_epoch_01.h5\")\n",
    "\n",
    "\n",
    "\n",
    "# Evaluate the model on the test set\n",
    "\n",
    "\n",
    "test_loss, test_acc = model.evaluate(test_generator_category)\n",
    "\n",
    "\n",
    "\n",
    "# Classification report\n",
    "\n",
    "\n",
    "from sklearn.metrics import classification_report\n",
    "\n",
    "\n",
    "\n",
    "# Get the true labels\n",
    "\n",
    "\n",
    "y_true = test_generator_category.classes\n",
    "\n",
    "\n",
    "\n",
    "# Get the predicted labels\n",
    "\n",
    "\n",
    "y_pred = model.predict(test_generator_category).argmax(axis=1)\n",
    "\n",
    "\n",
    "\n",
    "# Get the class labels\n",
    "\n",
    "\n",
    "class_labels = list(test_generator_category.class_indices.keys())\n",
    "\n",
    "\n",
    "\n",
    "# Generate the classification report\n",
    "\n",
    "\n",
    "report = classification_report(y_true, y_pred, target_names=class_labels)\n",
    "\n",
    "\n",
    "\n",
    "print(report)"
   ]
  }
 ],
 "metadata": {
  "kernelspec": {
   "display_name": "py310",
   "language": "python",
   "name": "python3"
  },
  "language_info": {
   "codemirror_mode": {
    "name": "ipython",
    "version": 3
   },
   "file_extension": ".py",
   "mimetype": "text/x-python",
   "name": "python",
   "nbconvert_exporter": "python",
   "pygments_lexer": "ipython3",
   "version": "3.10.14"
  }
 },
 "nbformat": 4,
 "nbformat_minor": 2
}
