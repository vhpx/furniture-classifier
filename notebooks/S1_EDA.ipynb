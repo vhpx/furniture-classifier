{
 "cells": [
  {
   "cell_type": "code",
   "execution_count": 11,
   "metadata": {},
   "outputs": [],
   "source": [
    "import sys\n",
    "\n",
    "# go out by one level of directory\n",
    "sys.path.append(\"..\")"
   ]
  },
  {
   "cell_type": "markdown",
   "metadata": {},
   "source": [
    "# Introduction\n",
    "\n",
    "## Problem Statement\n",
    "\n",
    "# Machine Learning Pipeline\n",
    "\n",
    "## Step 1: Exploratory Data Analysis\n",
    "\n",
    "The first step in the pipeline is to perform exploratory data analysis (EDA) to understand the dataset better. This includes checking for missing values, data types, and statistical summaries of the features. Visualizations such as histograms, box plots, and correlation matrices are used to gain insights into the data."
   ]
  },
  {
   "cell_type": "markdown",
   "metadata": {},
   "source": [
    "### Project Setup\n",
    "\n",
    "Before starting the EDA, we need to configure the project by defining the necessary constants and importing the required libraries.\n",
    "\n",
    "#### File and Directory Paths\n",
    "\n",
    "The following constants define the file and directory paths used in the project."
   ]
  },
  {
   "cell_type": "code",
   "execution_count": 12,
   "metadata": {},
   "outputs": [],
   "source": [
    "# Set global directories\n",
    "DATA_DIR = \"../data\"\n",
    "DATASET_DIR = f\"{DATA_DIR}/datasets\"\n",
    "\n",
    "CACHE_DIR = f\"{DATA_DIR}/cache\"\n",
    "DATASET_CACHE_DIR = f\"{CACHE_DIR}/datasets\"\n",
    "\n",
    "TRAIN_DATA_DIR = f\"{DATASET_DIR}/raw\"\n",
    "CLEANED_TRAIN_DATA_DIR = f\"{DATASET_DIR}/cleaned\"\n",
    "PROCESSED_TRAIN_DATA_DIR = f\"{DATASET_DIR}/processed\"\n",
    "\n",
    "# Set path to cache visualizations and models\n",
    "VISUALIZATION_DIR = f\"{CACHE_DIR}/visualizations\"\n",
    "MODEL_DIR = f\"{CACHE_DIR}/models\""
   ]
  },
  {
   "cell_type": "markdown",
   "metadata": {},
   "source": [
    "#### Reload custom libraries\n",
    "\n",
    "Some libraries purposely custom-built by me to be used in this notebook. Making modifications to these libraries will require reloading them. The following code block automates the process of reloading the libraries without restarting the kernel."
   ]
  },
  {
   "cell_type": "code",
   "execution_count": 13,
   "metadata": {},
   "outputs": [],
   "source": [
    "from utils.cache import reload_custom_libraries\n",
    "\n",
    "reload_custom_libraries()"
   ]
  },
  {
   "cell_type": "markdown",
   "metadata": {},
   "source": [
    "# Import necessary packages and libraries"
   ]
  },
  {
   "cell_type": "code",
   "execution_count": 14,
   "metadata": {},
   "outputs": [],
   "source": [
    "import pandas as pd\n",
    "import numpy as np\n",
    "import matplotlib.pyplot as plt\n",
    "import tensorflow as tf\n",
    "from PIL import Image\n",
    "from PIL import ImageFile\n",
    "import os, sys\n",
    "from tqdm.auto import tqdm\n",
    "\n",
    "\n",
    "# Load personalize utils\n",
    "import utils.image_process as image_process"
   ]
  },
  {
   "cell_type": "markdown",
   "metadata": {},
   "source": [
    "# Get a general view of the dataset"
   ]
  },
  {
   "cell_type": "code",
   "execution_count": 15,
   "metadata": {},
   "outputs": [
    {
     "name": "stdout",
     "output_type": "stream",
     "text": [
      "Found 113216 files belonging to 6 classes.\n"
     ]
    }
   ],
   "source": [
    "data = tf.keras.utils.image_dataset_from_directory(TRAIN_DATA_DIR)"
   ]
  },
  {
   "cell_type": "markdown",
   "metadata": {},
   "source": [
    "# Extract image paths into different categories base on its type"
   ]
  },
  {
   "cell_type": "code",
   "execution_count": 16,
   "metadata": {},
   "outputs": [
    {
     "name": "stderr",
     "output_type": "stream",
     "text": [
      "Getting path: 100%|██████████| 17/17 [00:00<00:00, 1700.08it/s]\n",
      "Getting path: 100%|██████████| 17/17 [00:00<00:00, 1061.17it/s]\n",
      "Getting path: 100%|██████████| 17/17 [00:00<00:00, 3398.63it/s]\n",
      "Getting path: 100%|██████████| 17/17 [00:00<00:00, 1131.74it/s]\n",
      "Getting path: 100%|██████████| 17/17 [00:00<00:00, 4973.71it/s]\n",
      "Getting path: 100%|██████████| 17/17 [00:00<00:00, 1698.42it/s]"
     ]
    },
    {
     "name": "stdout",
     "output_type": "stream",
     "text": [
      "Successfully extract all paths!\n"
     ]
    },
    {
     "name": "stderr",
     "output_type": "stream",
     "text": [
      "\n"
     ]
    }
   ],
   "source": [
    "# extracting paths from each of the category\n",
    "beds_path = image_process.image_path(TRAIN_DATA_DIR, \"beds\")\n",
    "chairs_path = image_process.image_path(TRAIN_DATA_DIR, \"chairs\")\n",
    "dressers_path = image_process.image_path(TRAIN_DATA_DIR, \"dressers\")\n",
    "lamps_path = image_process.image_path(TRAIN_DATA_DIR, \"lamps\")\n",
    "sofas_path = image_process.image_path(TRAIN_DATA_DIR, \"sofas\")\n",
    "tables_path = image_process.image_path(TRAIN_DATA_DIR, \"tables\")\n",
    "\n",
    "print(\"Successfully extract all paths!\")"
   ]
  },
  {
   "cell_type": "markdown",
   "metadata": {},
   "source": [
    "# EDA"
   ]
  },
  {
   "cell_type": "markdown",
   "metadata": {},
   "source": [
    "## Get the total amount of images in different categories before checking for duplicants"
   ]
  },
  {
   "cell_type": "code",
   "execution_count": 17,
   "metadata": {},
   "outputs": [
    {
     "name": "stdout",
     "output_type": "stream",
     "text": [
      "Amount of bed:  19948\n",
      "Amount of chair:  31733\n",
      "Amount of dresser:  7892\n",
      "Amount of lamp:  32422\n",
      "Amount of sofa:  4101\n",
      "Amount of table:  17121\n",
      "Total:  113217\n"
     ]
    }
   ],
   "source": [
    "print(\"Amount of bed: \", len(beds_path))\n",
    "print(\"Amount of chair: \", len(chairs_path))\n",
    "print(\"Amount of dresser: \", len(dressers_path))\n",
    "print(\"Amount of lamp: \", len(lamps_path))\n",
    "print(\"Amount of sofa: \", len(sofas_path))\n",
    "print(\"Amount of table: \", len(tables_path))\n",
    "print(\n",
    "    \"Total: \",\n",
    "    len(beds_path)\n",
    "    + len(chairs_path)\n",
    "    + len(dressers_path)\n",
    "    + len(lamps_path)\n",
    "    + len(sofas_path)\n",
    "    + len(tables_path),\n",
    ")"
   ]
  },
  {
   "cell_type": "markdown",
   "metadata": {},
   "source": [
    "### Visualization"
   ]
  },
  {
   "cell_type": "code",
   "execution_count": 18,
   "metadata": {},
   "outputs": [],
   "source": [
    "image_Classes = {\n",
    "    \"Beds\": len(beds_path),\n",
    "    \"Chairs\": len(chairs_path),\n",
    "    \"Dressers\": len(dressers_path),\n",
    "    \"Sofas\": len(sofas_path),\n",
    "    \"Lamps\": len(lamps_path),\n",
    "    \"Tables\": len(tables_path),\n",
    "}"
   ]
  },
  {
   "cell_type": "code",
   "execution_count": 19,
   "metadata": {},
   "outputs": [
    {
     "data": {
      "text/plain": [
       "Text(0, 0.5, 'Amount')"
      ]
     },
     "execution_count": 19,
     "metadata": {},
     "output_type": "execute_result"
    },
    {
     "data": {
      "image/png": "[encoded data removed]",
      "text/plain": [
       "<Figure size 640x480 with 1 Axes>"
      ]
     },
     "metadata": {},
     "output_type": "display_data"
    }
   ],
   "source": [
    "plt.bar(image_Classes.keys(), image_Classes.values(), width=0.5)\n",
    "plt.title(\"Number of images in each categories\")\n",
    "plt.xlabel(\"Categories\")\n",
    "plt.ylabel(\"Amount\")"
   ]
  },
  {
   "cell_type": "markdown",
   "metadata": {},
   "source": [
    "## Get different amount of image size of each category"
   ]
  },
  {
   "cell_type": "code",
   "execution_count": 20,
   "metadata": {},
   "outputs": [
    {
     "name": "stdout",
     "output_type": "stream",
     "text": [
      "Beds\n"
     ]
    },
    {
     "ename": "NameError",
     "evalue": "name 'imgSizeList' is not defined",
     "output_type": "error",
     "traceback": [
      "\u001b[1;31m---------------------------------------------------------------------------\u001b[0m",
      "\u001b[1;31mNameError\u001b[0m                                 Traceback (most recent call last)",
      "Cell \u001b[1;32mIn[20], line 2\u001b[0m\n\u001b[0;32m      1\u001b[0m \u001b[38;5;28mprint\u001b[39m(\u001b[38;5;124m\"\u001b[39m\u001b[38;5;124mBeds\u001b[39m\u001b[38;5;124m\"\u001b[39m)\n\u001b[1;32m----> 2\u001b[0m df_bed_dims \u001b[38;5;241m=\u001b[39m pd\u001b[38;5;241m.\u001b[39mDataFrame(\u001b[43mimgSizeList\u001b[49m(beds_path), columns\u001b[38;5;241m=\u001b[39m[\u001b[38;5;124m\"\u001b[39m\u001b[38;5;124mwidth\u001b[39m\u001b[38;5;124m\"\u001b[39m, \u001b[38;5;124m\"\u001b[39m\u001b[38;5;124mheight\u001b[39m\u001b[38;5;124m\"\u001b[39m])\n\u001b[0;32m      3\u001b[0m \u001b[38;5;28mprint\u001b[39m(\u001b[38;5;124m\"\u001b[39m\u001b[38;5;124mChairs\u001b[39m\u001b[38;5;124m\"\u001b[39m)\n\u001b[0;32m      4\u001b[0m df_chair_dims \u001b[38;5;241m=\u001b[39m pd\u001b[38;5;241m.\u001b[39mDataFrame(imgSizeList(chairs_path), columns\u001b[38;5;241m=\u001b[39m[\u001b[38;5;124m\"\u001b[39m\u001b[38;5;124mwidth\u001b[39m\u001b[38;5;124m\"\u001b[39m, \u001b[38;5;124m\"\u001b[39m\u001b[38;5;124mheight\u001b[39m\u001b[38;5;124m\"\u001b[39m])\n",
      "\u001b[1;31mNameError\u001b[0m: name 'imgSizeList' is not defined"
     ]
    }
   ],
   "source": [
    "print(\"Beds\")\n",
    "df_bed_dims = pd.DataFrame(imgSizeList(beds_path), columns=[\"width\", \"height\"])\n",
    "print(\"Chairs\")\n",
    "df_chair_dims = pd.DataFrame(imgSizeList(chairs_path), columns=[\"width\", \"height\"])\n",
    "print(\"Dressers\")\n",
    "df_dresser_dims = pd.DataFrame(imgSizeList(dressers_path), columns=[\"width\", \"height\"])\n",
    "print(\"Lamps\")\n",
    "df_lamp_dims = pd.DataFrame(imgSizeList(lamps_path), columns=[\"width\", \"height\"])\n",
    "print(\"sofas\")\n",
    "df_sofa_dims = pd.DataFrame(imgSizeList(sofas_path), columns=[\"width\", \"height\"])\n",
    "print(\"Tables\")\n",
    "df_table_dims = pd.DataFrame(imgSizeList(tables_path), columns=[\"width\", \"height\"])"
   ]
  },
  {
   "cell_type": "markdown",
   "metadata": {},
   "source": [
    "### Visualization"
   ]
  },
  {
   "cell_type": "markdown",
   "metadata": {},
   "source": [
    "#### Visualization of each dataset"
   ]
  },
  {
   "cell_type": "code",
   "execution_count": null,
   "metadata": {},
   "outputs": [
    {
     "data": {
      "text/plain": [
       "<Axes: xlabel='width', ylabel='height'>"
      ]
     },
     "execution_count": 45,
     "metadata": {},
     "output_type": "execute_result"
    },
    {
     "data": {
      "image/png": "[encoded data removed]",
      "text/plain": [
       "<Figure size 640x480 with 1 Axes>"
      ]
     },
     "metadata": {},
     "output_type": "display_data"
    }
   ],
   "source": [
    "df_bed_dims.plot.scatter(x=\"width\", y=\"height\")"
   ]
  },
  {
   "cell_type": "code",
   "execution_count": null,
   "metadata": {},
   "outputs": [
    {
     "data": {
      "text/plain": [
       "<Axes: xlabel='width', ylabel='height'>"
      ]
     },
     "execution_count": 46,
     "metadata": {},
     "output_type": "execute_result"
    },
    {
     "data": {
      "image/png": "[encoded data removed]",
      "text/plain": [
       "<Figure size 640x480 with 1 Axes>"
      ]
     },
     "metadata": {},
     "output_type": "display_data"
    }
   ],
   "source": [
    "df_chair_dims.plot.scatter(x=\"width\", y=\"height\")"
   ]
  },
  {
   "cell_type": "code",
   "execution_count": null,
   "metadata": {},
   "outputs": [
    {
     "data": {
      "text/plain": [
       "<Axes: xlabel='width', ylabel='height'>"
      ]
     },
     "execution_count": 47,
     "metadata": {},
     "output_type": "execute_result"
    },
    {
     "data": {
      "image/png": "[encoded data removed]",
      "text/plain": [
       "<Figure size 640x480 with 1 Axes>"
      ]
     },
     "metadata": {},
     "output_type": "display_data"
    }
   ],
   "source": [
    "df_dresser_dims.plot.scatter(x=\"width\", y=\"height\")"
   ]
  },
  {
   "cell_type": "code",
   "execution_count": null,
   "metadata": {},
   "outputs": [
    {
     "data": {
      "text/plain": [
       "<Axes: xlabel='width', ylabel='height'>"
      ]
     },
     "execution_count": 48,
     "metadata": {},
     "output_type": "execute_result"
    },
    {
     "data": {
      "image/png": "[encoded data removed]",
      "text/plain": [
       "<Figure size 640x480 with 1 Axes>"
      ]
     },
     "metadata": {},
     "output_type": "display_data"
    }
   ],
   "source": [
    "df_lamp_dims.plot.scatter(x=\"width\", y=\"height\")"
   ]
  },
  {
   "cell_type": "code",
   "execution_count": null,
   "metadata": {},
   "outputs": [
    {
     "data": {
      "text/plain": [
       "<Axes: xlabel='width', ylabel='height'>"
      ]
     },
     "execution_count": 49,
     "metadata": {},
     "output_type": "execute_result"
    },
    {
     "data": {
      "image/png": "[encoded data removed]",
      "text/plain": [
       "<Figure size 640x480 with 1 Axes>"
      ]
     },
     "metadata": {},
     "output_type": "display_data"
    }
   ],
   "source": [
    "df_sofa_dims.plot.scatter(x=\"width\", y=\"height\")"
   ]
  },
  {
   "cell_type": "code",
   "execution_count": null,
   "metadata": {},
   "outputs": [
    {
     "data": {
      "text/plain": [
       "<Axes: xlabel='width', ylabel='height'>"
      ]
     },
     "execution_count": 50,
     "metadata": {},
     "output_type": "execute_result"
    },
    {
     "data": {
      "image/png": "[encoded data removed]",
      "text/plain": [
       "<Figure size 640x480 with 1 Axes>"
      ]
     },
     "metadata": {},
     "output_type": "display_data"
    }
   ],
   "source": [
    "df_table_dims.plot.scatter(x=\"width\", y=\"height\")"
   ]
  },
  {
   "cell_type": "markdown",
   "metadata": {},
   "source": [
    "Investigate anomaly data in the dataframe"
   ]
  },
  {
   "cell_type": "code",
   "execution_count": null,
   "metadata": {},
   "outputs": [
    {
     "data": {
      "text/html": [
       "<div>\n",
       "<style scoped>\n",
       "    .dataframe tbody tr th:only-of-type {\n",
       "        vertical-align: middle;\n",
       "    }\n",
       "\n",
       "    .dataframe tbody tr th {\n",
       "        vertical-align: top;\n",
       "    }\n",
       "\n",
       "    .dataframe thead th {\n",
       "        text-align: right;\n",
       "    }\n",
       "</style>\n",
       "<table border=\"1\" class=\"dataframe\">\n",
       "  <thead>\n",
       "    <tr style=\"text-align: right;\">\n",
       "      <th></th>\n",
       "      <th>count</th>\n",
       "      <th>mean</th>\n",
       "      <th>std</th>\n",
       "      <th>min</th>\n",
       "      <th>25%</th>\n",
       "      <th>50%</th>\n",
       "      <th>75%</th>\n",
       "      <th>max</th>\n",
       "    </tr>\n",
       "  </thead>\n",
       "  <tbody>\n",
       "    <tr>\n",
       "      <th>width</th>\n",
       "      <td>17100.0</td>\n",
       "      <td>350.008772</td>\n",
       "      <td>1.147079</td>\n",
       "      <td>350.0</td>\n",
       "      <td>350.0</td>\n",
       "      <td>350.0</td>\n",
       "      <td>350.0</td>\n",
       "      <td>500.0</td>\n",
       "    </tr>\n",
       "    <tr>\n",
       "      <th>height</th>\n",
       "      <td>17100.0</td>\n",
       "      <td>350.005614</td>\n",
       "      <td>0.734130</td>\n",
       "      <td>350.0</td>\n",
       "      <td>350.0</td>\n",
       "      <td>350.0</td>\n",
       "      <td>350.0</td>\n",
       "      <td>446.0</td>\n",
       "    </tr>\n",
       "  </tbody>\n",
       "</table>\n",
       "</div>"
      ],
      "text/plain": [
       "          count        mean       std    min    25%    50%    75%    max\n",
       "width   17100.0  350.008772  1.147079  350.0  350.0  350.0  350.0  500.0\n",
       "height  17100.0  350.005614  0.734130  350.0  350.0  350.0  350.0  446.0"
      ]
     },
     "execution_count": 51,
     "metadata": {},
     "output_type": "execute_result"
    }
   ],
   "source": [
    "df_table_dims.describe().T"
   ]
  },
  {
   "cell_type": "markdown",
   "metadata": {},
   "source": [
    "## Conclusion"
   ]
  },
  {
   "cell_type": "markdown",
   "metadata": {},
   "source": [
    "- The dataset contains 6 categories of items with 90083 items total\n",
    "- The dataset contains all file with JPEG type\n",
    "- The dataset contains image mainly in two dimensions: 224x224 and 350x350. However there are one anomaly dimensions in the table category which is: 500x446"
   ]
  },
  {
   "cell_type": "markdown",
   "metadata": {},
   "source": [
    "# Data Preprocessing"
   ]
  },
  {
   "cell_type": "markdown",
   "metadata": {},
   "source": [
    "## Data cleaning"
   ]
  },
  {
   "cell_type": "markdown",
   "metadata": {},
   "source": [
    "Getting length of all path in raw dataset"
   ]
  },
  {
   "cell_type": "code",
   "execution_count": 21,
   "metadata": {},
   "outputs": [
    {
     "name": "stdout",
     "output_type": "stream",
     "text": [
      "19948\n",
      "31733\n",
      "7892\n",
      "32422\n",
      "4101\n",
      "17121\n"
     ]
    }
   ],
   "source": [
    "print(len(beds_path))\n",
    "print(len(chairs_path))\n",
    "print(len(dressers_path))\n",
    "print(len(lamps_path))\n",
    "print(len(sofas_path))\n",
    "print(len(tables_path))"
   ]
  },
  {
   "cell_type": "markdown",
   "metadata": {},
   "source": [
    "Check the size in each categories"
   ]
  },
  {
   "cell_type": "code",
   "execution_count": 24,
   "metadata": {},
   "outputs": [
    {
     "name": "stderr",
     "output_type": "stream",
     "text": [
      "Getting image size: 100%|██████████| 19948/19948 [00:18<00:00, 1053.45it/s]\n"
     ]
    },
    {
     "name": "stdout",
     "output_type": "stream",
     "text": [
      "224x224 pixels:  6537\n",
      "350x350 pixels:  13411\n",
      "Other size:  0\n"
     ]
    },
    {
     "name": "stderr",
     "output_type": "stream",
     "text": [
      "Getting image size: 100%|██████████| 31733/31733 [00:48<00:00, 657.28it/s] \n"
     ]
    },
    {
     "name": "stdout",
     "output_type": "stream",
     "text": [
      "224x224 pixels:  0\n",
      "350x350 pixels:  31733\n",
      "Other size:  0\n"
     ]
    },
    {
     "name": "stderr",
     "output_type": "stream",
     "text": [
      "Getting image size: 100%|██████████| 7892/7892 [00:16<00:00, 484.72it/s]\n"
     ]
    },
    {
     "name": "stdout",
     "output_type": "stream",
     "text": [
      "224x224 pixels:  0\n",
      "350x350 pixels:  7892\n",
      "Other size:  0\n"
     ]
    },
    {
     "name": "stderr",
     "output_type": "stream",
     "text": [
      "Getting image size: 100%|██████████| 32422/32422 [01:10<00:00, 461.16it/s]\n"
     ]
    },
    {
     "name": "stdout",
     "output_type": "stream",
     "text": [
      "224x224 pixels:  0\n",
      "350x350 pixels:  32422\n",
      "Other size:  0\n"
     ]
    },
    {
     "name": "stderr",
     "output_type": "stream",
     "text": [
      "Getting image size: 100%|██████████| 4101/4101 [00:09<00:00, 454.01it/s]\n"
     ]
    },
    {
     "name": "stdout",
     "output_type": "stream",
     "text": [
      "224x224 pixels:  0\n",
      "350x350 pixels:  4101\n",
      "Other size:  0\n"
     ]
    },
    {
     "name": "stderr",
     "output_type": "stream",
     "text": [
      "Getting image size: 100%|██████████| 17121/17121 [00:37<00:00, 454.70it/s]"
     ]
    },
    {
     "name": "stdout",
     "output_type": "stream",
     "text": [
      "224x224 pixels:  0\n",
      "350x350 pixels:  17120\n",
      "Other size:  1\n"
     ]
    },
    {
     "name": "stderr",
     "output_type": "stream",
     "text": [
      "\n"
     ]
    },
    {
     "data": {
      "text/plain": [
       "[(350, 350),\n",
       " (350, 350),\n",
       " (350, 350),\n",
       " (350, 350),\n",
       " (350, 350),\n",
       " (350, 350),\n",
       " (350, 350),\n",
       " (350, 350),\n",
       " (350, 350),\n",
       " (350, 350),\n",
       " (350, 350),\n",
       " (350, 350),\n",
       " (350, 350),\n",
       " (350, 350),\n",
       " (350, 350),\n",
       " (350, 350),\n",
       " (350, 350),\n",
       " (350, 350),\n",
       " (350, 350),\n",
       " (350, 350),\n",
       " (350, 350),\n",
       " (350, 350),\n",
       " (350, 350),\n",
       " (350, 350),\n",
       " (350, 350),\n",
       " (350, 350),\n",
       " (350, 350),\n",
       " (350, 350),\n",
       " (350, 350),\n",
       " (350, 350),\n",
       " (350, 350),\n",
       " (350, 350),\n",
       " (350, 350),\n",
       " (350, 350),\n",
       " (350, 350),\n",
       " (350, 350),\n",
       " (350, 350),\n",
       " (350, 350),\n",
       " (350, 350),\n",
       " (350, 350),\n",
       " (350, 350),\n",
       " (350, 350),\n",
       " (350, 350),\n",
       " (350, 350),\n",
       " (350, 350),\n",
       " (350, 350),\n",
       " (350, 350),\n",
       " (350, 350),\n",
       " (350, 350),\n",
       " (350, 350),\n",
       " (350, 350),\n",
       " (350, 350),\n",
       " (350, 350),\n",
       " (350, 350),\n",
       " (350, 350),\n",
       " (350, 350),\n",
       " (350, 350),\n",
       " (350, 350),\n",
       " (350, 350),\n",
       " (350, 350),\n",
       " (350, 350),\n",
       " (350, 350),\n",
       " (350, 350),\n",
       " (350, 350),\n",
       " (350, 350),\n",
       " (350, 350),\n",
       " (350, 350),\n",
       " (350, 350),\n",
       " (350, 350),\n",
       " (350, 350),\n",
       " (350, 350),\n",
       " (350, 350),\n",
       " (350, 350),\n",
       " (350, 350),\n",
       " (350, 350),\n",
       " (350, 350),\n",
       " (350, 350),\n",
       " (350, 350),\n",
       " (350, 350),\n",
       " (350, 350),\n",
       " (350, 350),\n",
       " (350, 350),\n",
       " (350, 350),\n",
       " (350, 350),\n",
       " (350, 350),\n",
       " (350, 350),\n",
       " (350, 350),\n",
       " (350, 350),\n",
       " (350, 350),\n",
       " (350, 350),\n",
       " (350, 350),\n",
       " (350, 350),\n",
       " (350, 350),\n",
       " (350, 350),\n",
       " (350, 350),\n",
       " (350, 350),\n",
       " (350, 350),\n",
       " (350, 350),\n",
       " (350, 350),\n",
       " (350, 350),\n",
       " (350, 350),\n",
       " (350, 350),\n",
       " (350, 350),\n",
       " (350, 350),\n",
       " (350, 350),\n",
       " (350, 350),\n",
       " (350, 350),\n",
       " (350, 350),\n",
       " (350, 350),\n",
       " (350, 350),\n",
       " (350, 350),\n",
       " (350, 350),\n",
       " (350, 350),\n",
       " (350, 350),\n",
       " (350, 350),\n",
       " (350, 350),\n",
       " (350, 350),\n",
       " (350, 350),\n",
       " (350, 350),\n",
       " (350, 350),\n",
       " (350, 350),\n",
       " (350, 350),\n",
       " (350, 350),\n",
       " (350, 350),\n",
       " (350, 350),\n",
       " (350, 350),\n",
       " (350, 350),\n",
       " (350, 350),\n",
       " (350, 350),\n",
       " (350, 350),\n",
       " (350, 350),\n",
       " (350, 350),\n",
       " (350, 350),\n",
       " (350, 350),\n",
       " (350, 350),\n",
       " (350, 350),\n",
       " (350, 350),\n",
       " (350, 350),\n",
       " (350, 350),\n",
       " (350, 350),\n",
       " (350, 350),\n",
       " (350, 350),\n",
       " (350, 350),\n",
       " (350, 350),\n",
       " (350, 350),\n",
       " (350, 350),\n",
       " (350, 350),\n",
       " (350, 350),\n",
       " (350, 350),\n",
       " (350, 350),\n",
       " (350, 350),\n",
       " (350, 350),\n",
       " (350, 350),\n",
       " (350, 350),\n",
       " (350, 350),\n",
       " (350, 350),\n",
       " (350, 350),\n",
       " (350, 350),\n",
       " (350, 350),\n",
       " (350, 350),\n",
       " (350, 350),\n",
       " (350, 350),\n",
       " (350, 350),\n",
       " (350, 350),\n",
       " (350, 350),\n",
       " (350, 350),\n",
       " (350, 350),\n",
       " (350, 350),\n",
       " (350, 350),\n",
       " (350, 350),\n",
       " (350, 350),\n",
       " (350, 350),\n",
       " (350, 350),\n",
       " (350, 350),\n",
       " (350, 350),\n",
       " (350, 350),\n",
       " (350, 350),\n",
       " (350, 350),\n",
       " (350, 350),\n",
       " (350, 350),\n",
       " (350, 350),\n",
       " (350, 350),\n",
       " (350, 350),\n",
       " (350, 350),\n",
       " (350, 350),\n",
       " (350, 350),\n",
       " (350, 350),\n",
       " (350, 350),\n",
       " (350, 350),\n",
       " (350, 350),\n",
       " (350, 350),\n",
       " (350, 350),\n",
       " (350, 350),\n",
       " (350, 350),\n",
       " (350, 350),\n",
       " (350, 350),\n",
       " (350, 350),\n",
       " (350, 350),\n",
       " (350, 350),\n",
       " (350, 350),\n",
       " (350, 350),\n",
       " (350, 350),\n",
       " (350, 350),\n",
       " (350, 350),\n",
       " (350, 350),\n",
       " (350, 350),\n",
       " (350, 350),\n",
       " (350, 350),\n",
       " (350, 350),\n",
       " (350, 350),\n",
       " (350, 350),\n",
       " (350, 350),\n",
       " (350, 350),\n",
       " (350, 350),\n",
       " (350, 350),\n",
       " (350, 350),\n",
       " (350, 350),\n",
       " (350, 350),\n",
       " (350, 350),\n",
       " (350, 350),\n",
       " (350, 350),\n",
       " (350, 350),\n",
       " (350, 350),\n",
       " (350, 350),\n",
       " (350, 350),\n",
       " (350, 350),\n",
       " (350, 350),\n",
       " (350, 350),\n",
       " (350, 350),\n",
       " (350, 350),\n",
       " (350, 350),\n",
       " (350, 350),\n",
       " (350, 350),\n",
       " (350, 350),\n",
       " (350, 350),\n",
       " (350, 350),\n",
       " (350, 350),\n",
       " (350, 350),\n",
       " (350, 350),\n",
       " (350, 350),\n",
       " (350, 350),\n",
       " (350, 350),\n",
       " (350, 350),\n",
       " (350, 350),\n",
       " (350, 350),\n",
       " (350, 350),\n",
       " (350, 350),\n",
       " (350, 350),\n",
       " (350, 350),\n",
       " (350, 350),\n",
       " (350, 350),\n",
       " (350, 350),\n",
       " (350, 350),\n",
       " (350, 350),\n",
       " (350, 350),\n",
       " (350, 350),\n",
       " (350, 350),\n",
       " (350, 350),\n",
       " (350, 350),\n",
       " (350, 350),\n",
       " (350, 350),\n",
       " (350, 350),\n",
       " (350, 350),\n",
       " (350, 350),\n",
       " (350, 350),\n",
       " (350, 350),\n",
       " (350, 350),\n",
       " (350, 350),\n",
       " (350, 350),\n",
       " (350, 350),\n",
       " (350, 350),\n",
       " (350, 350),\n",
       " (350, 350),\n",
       " (350, 350),\n",
       " (350, 350),\n",
       " (350, 350),\n",
       " (350, 350),\n",
       " (350, 350),\n",
       " (350, 350),\n",
       " (350, 350),\n",
       " (350, 350),\n",
       " (350, 350),\n",
       " (350, 350),\n",
       " (350, 350),\n",
       " (350, 350),\n",
       " (350, 350),\n",
       " (350, 350),\n",
       " (350, 350),\n",
       " (350, 350),\n",
       " (350, 350),\n",
       " (350, 350),\n",
       " (350, 350),\n",
       " (350, 350),\n",
       " (350, 350),\n",
       " (350, 350),\n",
       " (350, 350),\n",
       " (350, 350),\n",
       " (350, 350),\n",
       " (350, 350),\n",
       " (350, 350),\n",
       " (350, 350),\n",
       " (350, 350),\n",
       " (350, 350),\n",
       " (350, 350),\n",
       " (350, 350),\n",
       " (350, 350),\n",
       " (350, 350),\n",
       " (350, 350),\n",
       " (350, 350),\n",
       " (350, 350),\n",
       " (350, 350),\n",
       " (350, 350),\n",
       " (350, 350),\n",
       " (350, 350),\n",
       " (350, 350),\n",
       " (350, 350),\n",
       " (350, 350),\n",
       " (350, 350),\n",
       " (350, 350),\n",
       " (350, 350),\n",
       " (350, 350),\n",
       " (350, 350),\n",
       " (350, 350),\n",
       " (350, 350),\n",
       " (350, 350),\n",
       " (350, 350),\n",
       " (350, 350),\n",
       " (350, 350),\n",
       " (350, 350),\n",
       " (350, 350),\n",
       " (350, 350),\n",
       " (350, 350),\n",
       " (350, 350),\n",
       " (350, 350),\n",
       " (350, 350),\n",
       " (350, 350),\n",
       " (350, 350),\n",
       " (350, 350),\n",
       " (350, 350),\n",
       " (350, 350),\n",
       " (350, 350),\n",
       " (350, 350),\n",
       " (350, 350),\n",
       " (350, 350),\n",
       " (350, 350),\n",
       " (350, 350),\n",
       " (350, 350),\n",
       " (350, 350),\n",
       " (350, 350),\n",
       " (350, 350),\n",
       " (350, 350),\n",
       " (350, 350),\n",
       " (350, 350),\n",
       " (350, 350),\n",
       " (350, 350),\n",
       " (350, 350),\n",
       " (350, 350),\n",
       " (350, 350),\n",
       " (350, 350),\n",
       " (350, 350),\n",
       " (350, 350),\n",
       " (350, 350),\n",
       " (350, 350),\n",
       " (350, 350),\n",
       " (350, 350),\n",
       " (350, 350),\n",
       " (350, 350),\n",
       " (350, 350),\n",
       " (350, 350),\n",
       " (350, 350),\n",
       " (350, 350),\n",
       " (350, 350),\n",
       " (350, 350),\n",
       " (350, 350),\n",
       " (350, 350),\n",
       " (350, 350),\n",
       " (350, 350),\n",
       " (350, 350),\n",
       " (350, 350),\n",
       " (350, 350),\n",
       " (350, 350),\n",
       " (350, 350),\n",
       " (350, 350),\n",
       " (350, 350),\n",
       " (350, 350),\n",
       " (350, 350),\n",
       " (350, 350),\n",
       " (350, 350),\n",
       " (350, 350),\n",
       " (350, 350),\n",
       " (350, 350),\n",
       " (350, 350),\n",
       " (350, 350),\n",
       " (350, 350),\n",
       " (350, 350),\n",
       " (350, 350),\n",
       " (350, 350),\n",
       " (350, 350),\n",
       " (350, 350),\n",
       " (350, 350),\n",
       " (350, 350),\n",
       " (350, 350),\n",
       " (350, 350),\n",
       " (350, 350),\n",
       " (350, 350),\n",
       " (350, 350),\n",
       " (350, 350),\n",
       " (350, 350),\n",
       " (350, 350),\n",
       " (350, 350),\n",
       " (350, 350),\n",
       " (350, 350),\n",
       " (350, 350),\n",
       " (350, 350),\n",
       " (350, 350),\n",
       " (350, 350),\n",
       " (350, 350),\n",
       " (350, 350),\n",
       " (350, 350),\n",
       " (350, 350),\n",
       " (350, 350),\n",
       " (350, 350),\n",
       " (350, 350),\n",
       " (350, 350),\n",
       " (350, 350),\n",
       " (350, 350),\n",
       " (350, 350),\n",
       " (350, 350),\n",
       " (350, 350),\n",
       " (350, 350),\n",
       " (350, 350),\n",
       " (350, 350),\n",
       " (350, 350),\n",
       " (350, 350),\n",
       " (350, 350),\n",
       " (350, 350),\n",
       " (350, 350),\n",
       " (350, 350),\n",
       " (350, 350),\n",
       " (350, 350),\n",
       " (350, 350),\n",
       " (350, 350),\n",
       " (350, 350),\n",
       " (350, 350),\n",
       " (350, 350),\n",
       " (350, 350),\n",
       " (350, 350),\n",
       " (350, 350),\n",
       " (350, 350),\n",
       " (350, 350),\n",
       " (350, 350),\n",
       " (350, 350),\n",
       " (350, 350),\n",
       " (350, 350),\n",
       " (350, 350),\n",
       " (350, 350),\n",
       " (350, 350),\n",
       " (350, 350),\n",
       " (350, 350),\n",
       " (350, 350),\n",
       " (350, 350),\n",
       " (350, 350),\n",
       " (350, 350),\n",
       " (350, 350),\n",
       " (350, 350),\n",
       " (350, 350),\n",
       " (350, 350),\n",
       " (350, 350),\n",
       " (350, 350),\n",
       " (350, 350),\n",
       " (350, 350),\n",
       " (350, 350),\n",
       " (350, 350),\n",
       " (350, 350),\n",
       " (350, 350),\n",
       " (350, 350),\n",
       " (350, 350),\n",
       " (350, 350),\n",
       " (350, 350),\n",
       " (350, 350),\n",
       " (350, 350),\n",
       " (350, 350),\n",
       " (350, 350),\n",
       " (350, 350),\n",
       " (350, 350),\n",
       " (350, 350),\n",
       " (350, 350),\n",
       " (350, 350),\n",
       " (350, 350),\n",
       " (350, 350),\n",
       " (350, 350),\n",
       " (350, 350),\n",
       " (350, 350),\n",
       " (350, 350),\n",
       " (350, 350),\n",
       " (350, 350),\n",
       " (350, 350),\n",
       " (350, 350),\n",
       " (350, 350),\n",
       " (350, 350),\n",
       " (350, 350),\n",
       " (350, 350),\n",
       " (350, 350),\n",
       " (350, 350),\n",
       " (350, 350),\n",
       " (350, 350),\n",
       " (350, 350),\n",
       " (350, 350),\n",
       " (350, 350),\n",
       " (350, 350),\n",
       " (350, 350),\n",
       " (350, 350),\n",
       " (350, 350),\n",
       " (350, 350),\n",
       " (350, 350),\n",
       " (350, 350),\n",
       " (350, 350),\n",
       " (350, 350),\n",
       " (350, 350),\n",
       " (350, 350),\n",
       " (350, 350),\n",
       " (350, 350),\n",
       " (350, 350),\n",
       " (350, 350),\n",
       " (350, 350),\n",
       " (350, 350),\n",
       " (350, 350),\n",
       " (350, 350),\n",
       " (350, 350),\n",
       " (350, 350),\n",
       " (350, 350),\n",
       " (350, 350),\n",
       " (350, 350),\n",
       " (350, 350),\n",
       " (350, 350),\n",
       " (350, 350),\n",
       " (350, 350),\n",
       " (350, 350),\n",
       " (350, 350),\n",
       " (350, 350),\n",
       " (350, 350),\n",
       " (350, 350),\n",
       " (350, 350),\n",
       " (350, 350),\n",
       " (350, 350),\n",
       " (350, 350),\n",
       " (350, 350),\n",
       " (350, 350),\n",
       " (350, 350),\n",
       " (350, 350),\n",
       " (350, 350),\n",
       " (350, 350),\n",
       " (350, 350),\n",
       " (350, 350),\n",
       " (350, 350),\n",
       " (350, 350),\n",
       " (350, 350),\n",
       " (350, 350),\n",
       " (350, 350),\n",
       " (350, 350),\n",
       " (350, 350),\n",
       " (350, 350),\n",
       " (350, 350),\n",
       " (350, 350),\n",
       " (350, 350),\n",
       " (350, 350),\n",
       " (350, 350),\n",
       " (350, 350),\n",
       " (350, 350),\n",
       " (350, 350),\n",
       " (350, 350),\n",
       " (350, 350),\n",
       " (350, 350),\n",
       " (350, 350),\n",
       " (350, 350),\n",
       " (350, 350),\n",
       " (350, 350),\n",
       " (350, 350),\n",
       " (350, 350),\n",
       " (350, 350),\n",
       " (350, 350),\n",
       " (350, 350),\n",
       " (350, 350),\n",
       " (350, 350),\n",
       " (350, 350),\n",
       " (350, 350),\n",
       " (350, 350),\n",
       " (350, 350),\n",
       " (350, 350),\n",
       " (350, 350),\n",
       " (350, 350),\n",
       " (350, 350),\n",
       " (350, 350),\n",
       " (350, 350),\n",
       " (350, 350),\n",
       " (350, 350),\n",
       " (350, 350),\n",
       " (350, 350),\n",
       " (350, 350),\n",
       " (350, 350),\n",
       " (350, 350),\n",
       " (350, 350),\n",
       " (350, 350),\n",
       " (350, 350),\n",
       " (350, 350),\n",
       " (350, 350),\n",
       " (350, 350),\n",
       " (350, 350),\n",
       " (350, 350),\n",
       " (350, 350),\n",
       " (350, 350),\n",
       " (350, 350),\n",
       " (350, 350),\n",
       " (350, 350),\n",
       " (350, 350),\n",
       " (350, 350),\n",
       " (350, 350),\n",
       " (350, 350),\n",
       " (350, 350),\n",
       " (350, 350),\n",
       " (350, 350),\n",
       " (350, 350),\n",
       " (350, 350),\n",
       " (350, 350),\n",
       " (350, 350),\n",
       " (350, 350),\n",
       " (350, 350),\n",
       " (350, 350),\n",
       " (350, 350),\n",
       " (350, 350),\n",
       " (350, 350),\n",
       " (350, 350),\n",
       " (350, 350),\n",
       " (350, 350),\n",
       " (350, 350),\n",
       " (350, 350),\n",
       " (350, 350),\n",
       " (350, 350),\n",
       " (350, 350),\n",
       " (350, 350),\n",
       " (350, 350),\n",
       " (350, 350),\n",
       " (350, 350),\n",
       " (350, 350),\n",
       " (350, 350),\n",
       " (350, 350),\n",
       " (350, 350),\n",
       " (350, 350),\n",
       " (350, 350),\n",
       " (350, 350),\n",
       " (350, 350),\n",
       " (350, 350),\n",
       " (350, 350),\n",
       " (350, 350),\n",
       " (350, 350),\n",
       " (350, 350),\n",
       " (350, 350),\n",
       " (350, 350),\n",
       " (350, 350),\n",
       " (350, 350),\n",
       " (350, 350),\n",
       " (350, 350),\n",
       " (350, 350),\n",
       " (350, 350),\n",
       " (350, 350),\n",
       " (350, 350),\n",
       " (350, 350),\n",
       " (350, 350),\n",
       " (350, 350),\n",
       " (350, 350),\n",
       " (350, 350),\n",
       " (350, 350),\n",
       " (350, 350),\n",
       " (350, 350),\n",
       " (350, 350),\n",
       " (350, 350),\n",
       " (350, 350),\n",
       " (350, 350),\n",
       " (350, 350),\n",
       " (350, 350),\n",
       " (350, 350),\n",
       " (350, 350),\n",
       " (350, 350),\n",
       " (350, 350),\n",
       " (350, 350),\n",
       " (350, 350),\n",
       " (350, 350),\n",
       " (350, 350),\n",
       " (350, 350),\n",
       " (350, 350),\n",
       " (350, 350),\n",
       " (350, 350),\n",
       " (350, 350),\n",
       " (350, 350),\n",
       " (350, 350),\n",
       " (350, 350),\n",
       " (350, 350),\n",
       " (350, 350),\n",
       " (350, 350),\n",
       " (350, 350),\n",
       " (350, 350),\n",
       " (350, 350),\n",
       " (350, 350),\n",
       " (350, 350),\n",
       " (350, 350),\n",
       " (350, 350),\n",
       " (350, 350),\n",
       " (350, 350),\n",
       " (350, 350),\n",
       " (350, 350),\n",
       " (350, 350),\n",
       " (350, 350),\n",
       " (350, 350),\n",
       " (350, 350),\n",
       " (350, 350),\n",
       " (350, 350),\n",
       " (350, 350),\n",
       " (350, 350),\n",
       " (350, 350),\n",
       " (350, 350),\n",
       " (350, 350),\n",
       " (350, 350),\n",
       " (350, 350),\n",
       " (350, 350),\n",
       " (350, 350),\n",
       " (350, 350),\n",
       " (350, 350),\n",
       " (350, 350),\n",
       " (350, 350),\n",
       " (350, 350),\n",
       " (350, 350),\n",
       " (350, 350),\n",
       " (350, 350),\n",
       " (350, 350),\n",
       " (350, 350),\n",
       " (350, 350),\n",
       " (350, 350),\n",
       " (350, 350),\n",
       " (350, 350),\n",
       " (350, 350),\n",
       " (350, 350),\n",
       " (350, 350),\n",
       " (350, 350),\n",
       " (350, 350),\n",
       " (350, 350),\n",
       " (350, 350),\n",
       " (350, 350),\n",
       " (350, 350),\n",
       " (350, 350),\n",
       " (350, 350),\n",
       " (350, 350),\n",
       " (350, 350),\n",
       " (350, 350),\n",
       " (350, 350),\n",
       " (350, 350),\n",
       " (350, 350),\n",
       " (350, 350),\n",
       " (350, 350),\n",
       " (350, 350),\n",
       " (350, 350),\n",
       " (350, 350),\n",
       " (350, 350),\n",
       " (350, 350),\n",
       " (350, 350),\n",
       " (350, 350),\n",
       " (350, 350),\n",
       " (350, 350),\n",
       " (350, 350),\n",
       " (350, 350),\n",
       " (350, 350),\n",
       " (350, 350),\n",
       " (350, 350),\n",
       " (350, 350),\n",
       " (350, 350),\n",
       " (350, 350),\n",
       " (350, 350),\n",
       " (350, 350),\n",
       " (350, 350),\n",
       " (350, 350),\n",
       " (350, 350),\n",
       " (350, 350),\n",
       " (350, 350),\n",
       " (350, 350),\n",
       " (350, 350),\n",
       " (350, 350),\n",
       " (350, 350),\n",
       " (350, 350),\n",
       " (350, 350),\n",
       " (350, 350),\n",
       " (350, 350),\n",
       " (350, 350),\n",
       " (350, 350),\n",
       " (350, 350),\n",
       " (350, 350),\n",
       " (350, 350),\n",
       " (350, 350),\n",
       " (350, 350),\n",
       " (350, 350),\n",
       " (350, 350),\n",
       " (350, 350),\n",
       " (350, 350),\n",
       " (350, 350),\n",
       " (350, 350),\n",
       " (350, 350),\n",
       " (350, 350),\n",
       " (350, 350),\n",
       " (350, 350),\n",
       " (350, 350),\n",
       " (350, 350),\n",
       " (350, 350),\n",
       " (350, 350),\n",
       " (350, 350),\n",
       " (350, 350),\n",
       " (350, 350),\n",
       " (350, 350),\n",
       " (350, 350),\n",
       " (350, 350),\n",
       " (350, 350),\n",
       " (350, 350),\n",
       " (350, 350),\n",
       " (350, 350),\n",
       " (350, 350),\n",
       " (350, 350),\n",
       " (350, 350),\n",
       " (350, 350),\n",
       " (350, 350),\n",
       " (350, 350),\n",
       " (350, 350),\n",
       " (350, 350),\n",
       " (350, 350),\n",
       " (350, 350),\n",
       " (350, 350),\n",
       " (350, 350),\n",
       " (350, 350),\n",
       " (350, 350),\n",
       " (350, 350),\n",
       " (350, 350),\n",
       " (350, 350),\n",
       " (350, 350),\n",
       " (350, 350),\n",
       " (350, 350),\n",
       " (350, 350),\n",
       " (350, 350),\n",
       " (350, 350),\n",
       " (350, 350),\n",
       " (350, 350),\n",
       " (350, 350),\n",
       " (350, 350),\n",
       " (350, 350),\n",
       " (350, 350),\n",
       " (350, 350),\n",
       " (350, 350),\n",
       " (350, 350),\n",
       " (350, 350),\n",
       " (350, 350),\n",
       " (350, 350),\n",
       " (350, 350),\n",
       " (350, 350),\n",
       " (350, 350),\n",
       " (350, 350),\n",
       " (350, 350),\n",
       " (350, 350),\n",
       " (350, 350),\n",
       " (350, 350),\n",
       " (350, 350),\n",
       " (350, 350),\n",
       " (350, 350),\n",
       " (350, 350),\n",
       " (350, 350),\n",
       " (350, 350),\n",
       " (350, 350),\n",
       " (350, 350),\n",
       " (350, 350),\n",
       " (350, 350),\n",
       " (350, 350),\n",
       " (350, 350),\n",
       " (350, 350),\n",
       " (350, 350),\n",
       " (350, 350),\n",
       " (350, 350),\n",
       " (350, 350),\n",
       " (350, 350),\n",
       " (350, 350),\n",
       " (350, 350),\n",
       " (350, 350),\n",
       " (350, 350),\n",
       " (350, 350),\n",
       " (350, 350),\n",
       " (350, 350),\n",
       " (350, 350),\n",
       " (350, 350),\n",
       " (350, 350),\n",
       " (350, 350),\n",
       " (350, 350),\n",
       " (350, 350),\n",
       " (350, 350),\n",
       " (350, 350),\n",
       " (350, 350),\n",
       " (350, 350),\n",
       " (350, 350),\n",
       " (350, 350),\n",
       " (350, 350),\n",
       " (350, 350),\n",
       " (350, 350),\n",
       " (350, 350),\n",
       " (350, 350),\n",
       " (350, 350),\n",
       " (350, 350),\n",
       " (350, 350),\n",
       " (350, 350),\n",
       " (350, 350),\n",
       " (350, 350),\n",
       " (350, 350),\n",
       " (350, 350),\n",
       " (350, 350),\n",
       " (350, 350),\n",
       " (350, 350),\n",
       " (350, 350),\n",
       " (350, 350),\n",
       " (350, 350),\n",
       " (350, 350),\n",
       " (350, 350),\n",
       " (350, 350),\n",
       " (350, 350),\n",
       " (350, 350),\n",
       " (350, 350),\n",
       " (350, 350),\n",
       " (350, 350),\n",
       " (350, 350),\n",
       " (350, 350),\n",
       " (350, 350),\n",
       " (350, 350),\n",
       " (350, 350),\n",
       " (350, 350),\n",
       " (350, 350),\n",
       " (350, 350),\n",
       " (350, 350),\n",
       " (350, 350),\n",
       " (350, 350),\n",
       " (350, 350),\n",
       " (350, 350),\n",
       " (350, 350),\n",
       " (350, 350),\n",
       " (350, 350),\n",
       " (350, 350),\n",
       " (350, 350),\n",
       " (350, 350),\n",
       " (350, 350),\n",
       " (350, 350),\n",
       " (350, 350),\n",
       " (350, 350),\n",
       " (350, 350),\n",
       " (350, 350),\n",
       " (350, 350),\n",
       " (350, 350),\n",
       " (350, 350),\n",
       " (350, 350),\n",
       " (350, 350),\n",
       " (350, 350),\n",
       " (350, 350),\n",
       " (350, 350),\n",
       " (350, 350),\n",
       " (350, 350),\n",
       " (350, 350),\n",
       " (350, 350),\n",
       " (350, 350),\n",
       " (350, 350),\n",
       " (350, 350),\n",
       " (350, 350),\n",
       " (350, 350),\n",
       " (350, 350),\n",
       " (350, 350),\n",
       " (350, 350),\n",
       " (350, 350),\n",
       " (350, 350),\n",
       " (350, 350),\n",
       " (350, 350),\n",
       " (350, 350),\n",
       " (350, 350),\n",
       " (350, 350),\n",
       " (350, 350),\n",
       " (350, 350),\n",
       " (350, 350),\n",
       " (350, 350),\n",
       " (350, 350),\n",
       " (350, 350),\n",
       " (350, 350),\n",
       " (350, 350),\n",
       " (350, 350),\n",
       " (350, 350),\n",
       " (350, 350),\n",
       " (350, 350),\n",
       " (350, 350),\n",
       " (350, 350),\n",
       " (350, 350),\n",
       " (350, 350),\n",
       " (350, 350),\n",
       " (350, 350),\n",
       " (350, 350),\n",
       " (350, 350),\n",
       " ...]"
      ]
     },
     "execution_count": 24,
     "metadata": {},
     "output_type": "execute_result"
    }
   ],
   "source": [
    "image_process.imgSizeList(beds_path)\n",
    "image_process.imgSizeList(chairs_path)\n",
    "image_process.imgSizeList(dressers_path)\n",
    "image_process.imgSizeList(lamps_path)\n",
    "image_process.imgSizeList(sofas_path)\n",
    "image_process.imgSizeList(tables_path)"
   ]
  },
  {
   "cell_type": "markdown",
   "metadata": {},
   "source": [
    "As the size in each categories still contains different image sizes of 224x224, 350x350 and one outliers at 500x446.\n",
    "We will start with resizing all images to 350x350. Here are some reasons:\n",
    "- The vast majority of the images are already at 350x350. Upscaling the smaller images will introduce minimal distortion compared to downscaling the majority to 224x224.\n",
    "- Upscaling generally retains more information from the original image than downscaling. While some interpolation artifacts might be introduced, they are less likely to significantly impact model performance compared to the information loss from downscaling.\n",
    "- The single image with a size of 500x448 is an outlier. which we can either upscale it to match the majority or exclude it from our dataset without significant impact."
   ]
  },
  {
   "cell_type": "markdown",
   "metadata": {},
   "source": [
    "### Image resizing"
   ]
  },
  {
   "cell_type": "code",
   "execution_count": 25,
   "metadata": {},
   "outputs": [
    {
     "name": "stderr",
     "output_type": "stream",
     "text": [
      "Resizing images:  26%|██▌       | 5144/19948 [00:24<01:09, 213.28it/s]\n"
     ]
    },
    {
     "ename": "KeyboardInterrupt",
     "evalue": "",
     "output_type": "error",
     "traceback": [
      "\u001b[1;31m---------------------------------------------------------------------------\u001b[0m",
      "\u001b[1;31mKeyboardInterrupt\u001b[0m                         Traceback (most recent call last)",
      "Cell \u001b[1;32mIn[25], line 3\u001b[0m\n\u001b[0;32m      1\u001b[0m size \u001b[38;5;241m=\u001b[39m (\u001b[38;5;241m350\u001b[39m,\u001b[38;5;241m350\u001b[39m)\n\u001b[0;32m      2\u001b[0m save_path \u001b[38;5;241m=\u001b[39m CLEANED_TRAIN_DATA_DIR\n\u001b[1;32m----> 3\u001b[0m \u001b[43mimage_process\u001b[49m\u001b[38;5;241;43m.\u001b[39;49m\u001b[43mimgResize\u001b[49m\u001b[43m(\u001b[49m\u001b[43mbeds_path\u001b[49m\u001b[43m,\u001b[49m\u001b[43m \u001b[49m\u001b[43msize\u001b[49m\u001b[43m,\u001b[49m\u001b[43m \u001b[49m\u001b[43msave_path\u001b[49m\u001b[43m)\u001b[49m\n\u001b[0;32m      4\u001b[0m image_process\u001b[38;5;241m.\u001b[39mimgResize(chairs_path, size, save_path)\n\u001b[0;32m      5\u001b[0m image_process\u001b[38;5;241m.\u001b[39mimgResize(dressers_path, size, save_path)\n",
      "File \u001b[1;32mg:\\Assignment2\\furniture-classifier\\furniture-classifier\\notebooks\\..\\utils\\image_process.py:90\u001b[0m, in \u001b[0;36mimgResize\u001b[1;34m(lists, size, save_dir)\u001b[0m\n\u001b[0;32m     88\u001b[0m save_path \u001b[38;5;241m=\u001b[39m os\u001b[38;5;241m.\u001b[39mpath\u001b[38;5;241m.\u001b[39mjoin(save_dir, img_path2[\u001b[38;5;241m1\u001b[39m] ,img_path1[\u001b[38;5;241m1\u001b[39m],img_path[\u001b[38;5;241m1\u001b[39m])\n\u001b[0;32m     89\u001b[0m img \u001b[38;5;241m=\u001b[39m Image\u001b[38;5;241m.\u001b[39mopen(item)\n\u001b[1;32m---> 90\u001b[0m img1 \u001b[38;5;241m=\u001b[39m \u001b[43mimg\u001b[49m\u001b[38;5;241;43m.\u001b[39;49m\u001b[43mresize\u001b[49m\u001b[43m(\u001b[49m\u001b[43msize\u001b[49m\u001b[43m,\u001b[49m\u001b[43m \u001b[49m\u001b[43mresample\u001b[49m\u001b[38;5;241;43m=\u001b[39;49m\u001b[38;5;241;43m0\u001b[39;49m\u001b[43m)\u001b[49m\n\u001b[0;32m     91\u001b[0m img1\u001b[38;5;241m.\u001b[39msave(save_path, \u001b[38;5;124m'\u001b[39m\u001b[38;5;124mJPEG\u001b[39m\u001b[38;5;124m'\u001b[39m)\n\u001b[0;32m     92\u001b[0m pbar\u001b[38;5;241m.\u001b[39mupdate(\u001b[38;5;241m1\u001b[39m)\n",
      "File \u001b[1;32mc:\\Users\\thaih\\.conda\\envs\\Assignment2\\lib\\site-packages\\PIL\\Image.py:2185\u001b[0m, in \u001b[0;36mImage.resize\u001b[1;34m(self, size, resample, box, reducing_gap)\u001b[0m\n\u001b[0;32m   2181\u001b[0m     \u001b[38;5;28;01mraise\u001b[39;00m \u001b[38;5;167;01mValueError\u001b[39;00m(msg)\n\u001b[0;32m   2183\u001b[0m size \u001b[38;5;241m=\u001b[39m \u001b[38;5;28mtuple\u001b[39m(size)\n\u001b[1;32m-> 2185\u001b[0m \u001b[38;5;28;43mself\u001b[39;49m\u001b[38;5;241;43m.\u001b[39;49m\u001b[43mload\u001b[49m\u001b[43m(\u001b[49m\u001b[43m)\u001b[49m\n\u001b[0;32m   2186\u001b[0m \u001b[38;5;28;01mif\u001b[39;00m box \u001b[38;5;129;01mis\u001b[39;00m \u001b[38;5;28;01mNone\u001b[39;00m:\n\u001b[0;32m   2187\u001b[0m     box \u001b[38;5;241m=\u001b[39m (\u001b[38;5;241m0\u001b[39m, \u001b[38;5;241m0\u001b[39m) \u001b[38;5;241m+\u001b[39m \u001b[38;5;28mself\u001b[39m\u001b[38;5;241m.\u001b[39msize\n",
      "File \u001b[1;32mc:\\Users\\thaih\\.conda\\envs\\Assignment2\\lib\\site-packages\\PIL\\ImageFile.py:291\u001b[0m, in \u001b[0;36mImageFile.load\u001b[1;34m(self)\u001b[0m\n\u001b[0;32m    288\u001b[0m         \u001b[38;5;28;01mraise\u001b[39;00m \u001b[38;5;167;01mOSError\u001b[39;00m(msg)\n\u001b[0;32m    290\u001b[0m b \u001b[38;5;241m=\u001b[39m b \u001b[38;5;241m+\u001b[39m s\n\u001b[1;32m--> 291\u001b[0m n, err_code \u001b[38;5;241m=\u001b[39m \u001b[43mdecoder\u001b[49m\u001b[38;5;241;43m.\u001b[39;49m\u001b[43mdecode\u001b[49m\u001b[43m(\u001b[49m\u001b[43mb\u001b[49m\u001b[43m)\u001b[49m\n\u001b[0;32m    292\u001b[0m \u001b[38;5;28;01mif\u001b[39;00m n \u001b[38;5;241m<\u001b[39m \u001b[38;5;241m0\u001b[39m:\n\u001b[0;32m    293\u001b[0m     \u001b[38;5;28;01mbreak\u001b[39;00m\n",
      "\u001b[1;31mKeyboardInterrupt\u001b[0m: "
     ]
    }
   ],
   "source": [
    "size = (350,350)\n",
    "save_path = CLEANED_TRAIN_DATA_DIR\n",
    "image_process.imgResize(beds_path, size, save_path)\n",
    "image_process.imgResize(chairs_path, size, save_path)\n",
    "image_process.imgResize(dressers_path, size, save_path)\n",
    "image_process.imgResize(lamps_path, size, save_path)\n",
    "image_process.imgResize(sofas_path, size, save_path)\n",
    "image_process.imgResize(tables_path, size, save_path)"
   ]
  },
  {
   "cell_type": "markdown",
   "metadata": {},
   "source": [
    "### Getting path from cleaned dataset"
   ]
  },
  {
   "cell_type": "code",
   "execution_count": null,
   "metadata": {},
   "outputs": [],
   "source": [
    "cleaned_dir = CLEANED_TRAIN_DATA_DIR\n",
    "cleaned_beds_path = image_process.image_path(cleaned_dir, \"beds\")\n",
    "cleaned_chairs_path = image_process.image_path(cleaned_dir, \"chairs\")\n",
    "cleaned_dressers_path = image_process.image_path(cleaned_dir, \"dressers\")\n",
    "cleaned_lamps_path = image_process.image_path(cleaned_dir, \"lamps\")\n",
    "cleaned_sofas_path = image_process.image_path(cleaned_dir, \"sofas\")\n",
    "cleaned_tables_path = image_process.image_path(cleaned_dir, \"tables\")"
   ]
  },
  {
   "cell_type": "markdown",
   "metadata": {},
   "source": [
    "### Checking for duplicates"
   ]
  },
  {
   "cell_type": "code",
   "execution_count": null,
   "metadata": {},
   "outputs": [],
   "source": [
    "image_process.imgDupchecks(beds_path)\n",
    "image_process.imgDupchecks(chairs_path)\n",
    "image_process.imgDupchecks(dressers_path)\n",
    "image_process.imgDupchecks(lamps_path)\n",
    "image_process.imgDupchecks(sofas_path)\n",
    "image_process.imgDupchecks(tables_path)"
   ]
  },
  {
   "cell_type": "markdown",
   "metadata": {},
   "source": [
    "### Data Augmentation"
   ]
  },
  {
   "cell_type": "markdown",
   "metadata": {},
   "source": [
    "This is a time-consuming task, be aware that it will take a long time to run"
   ]
  },
  {
   "cell_type": "code",
   "execution_count": null,
   "metadata": {},
   "outputs": [],
   "source": [
    "save_dir = PROCESSED_TRAIN_DATA_DIR\n",
    "image_process.img_augment(cleaned_beds_path,save_dir )\n",
    "image_process.img_augment(cleaned_chairs_path,save_dir)\n",
    "image_process.img_augment(cleaned_dressers_path,save_dir)\n",
    "image_process.img_augment(cleaned_lamps_path,save_dir)\n",
    "image_process.img_augment(cleaned_sofas_path,save_dir)\n",
    "image_process.img_augment(cleaned_tables_path,save_dir)"
   ]
  },
  {
   "cell_type": "markdown",
   "metadata": {},
   "source": [
    "After all of the above step, the data would ready to be input to the model, the data which can be use will be available in the .data/dataset/processed "
   ]
  },
  {
   "cell_type": "markdown",
   "metadata": {},
   "source": []
  }
 ],
 "metadata": {
  "kernelspec": {
   "display_name": "ML_py10",
   "language": "python",
   "name": "python3"
  },
  "language_info": {
   "codemirror_mode": {
    "name": "ipython",
    "version": 3
   },
   "file_extension": ".py",
   "mimetype": "text/x-python",
   "name": "python",
   "nbconvert_exporter": "python",
   "pygments_lexer": "ipython3",
   "version": "3.10.14"
  }
 },
 "nbformat": 4,
 "nbformat_minor": 2
}
