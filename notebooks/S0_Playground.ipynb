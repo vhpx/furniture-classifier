{
 "cells": [
  {
   "cell_type": "code",
   "execution_count": null,
   "metadata": {},
   "outputs": [],
   "source": [
    "import sys\n",
    "\n",
    "# go out by one level of directory\n",
    "sys.path.append(\"..\")"
   ]
  },
  {
   "cell_type": "code",
   "execution_count": 1,
   "metadata": {},
   "outputs": [],
   "source": [
    "import pandas as pd\n",
    "import numpy as np\n",
    "import matplotlib.pyplot as plt\n",
    "import tensorflow as tf\n",
    "from PIL import Image\n",
    "from PIL import ImageFile\n",
    "import os, sys\n",
    "from utils import image_process"
   ]
  },
  {
   "cell_type": "code",
   "execution_count": 1,
   "metadata": {},
   "outputs": [],
   "source": [
    "def img_resize(lists):\n",
    "    with tqdm(total=len(lists), desc=\"Resizing images\") as pbar:\n",
    "        for item in lists:\n",
    "            img = tf.io.read(item[1])\n",
    "            img = tf.image.decode_jpeg(img)\n",
    "            img1 = tf.image.resize(img, [224, 224])\n",
    "            tf.keras.utils.save_img(item[1], img1)\n",
    "            pbar.update(1)"
   ]
  },
  {
   "cell_type": "code",
   "execution_count": 3,
   "metadata": {},
   "outputs": [],
   "source": [
    "# Image get size function: A function use to get the size of each image in (width, height) formation with unit of pixels\n",
    "def imgSizeList(paths):\n",
    "    count1 = 0\n",
    "    count2 = 0\n",
    "    count3 = 0\n",
    "    imageSize = list()\n",
    "    for path in paths:\n",
    "        img = PIL.Image.open(paths[path])\n",
    "        imageSize.append(img.size)\n",
    "        if img.size == (224, 224):\n",
    "            count1 += 1\n",
    "        if img.size == (350, 350):\n",
    "            count2 += 1\n",
    "        else:\n",
    "            count3 += 1\n",
    "    print(imageSize)\n",
    "    print(\"224x224 pixels\", count1)\n",
    "    print(\"350x350 pixels\", count2)\n",
    "    print(\"Other size\", count3)"
   ]
  },
  {
   "cell_type": "code",
   "execution_count": null,
   "metadata": {},
   "outputs": [],
   "source": [
    "imgResize()"
   ]
  }
 ],
 "metadata": {
  "kernelspec": {
   "display_name": "Python 3",
   "language": "python",
   "name": "python3"
  },
  "language_info": {
   "codemirror_mode": {
    "name": "ipython",
    "version": 3
   },
   "file_extension": ".py",
   "mimetype": "text/x-python",
   "name": "python",
   "nbconvert_exporter": "python",
   "pygments_lexer": "ipython3",
   "version": "3.10.14"
  }
 },
 "nbformat": 4,
 "nbformat_minor": 2
}
